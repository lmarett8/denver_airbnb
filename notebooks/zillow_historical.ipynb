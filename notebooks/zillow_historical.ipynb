{
 "cells": [
  {
   "cell_type": "code",
   "execution_count": null,
   "id": "6b52c78d-4877-4341-9083-b34476924aa0",
   "metadata": {},
   "outputs": [],
   "source": [
    "# pip install python-decouple"
   ]
  },
  {
   "cell_type": "code",
   "execution_count": null,
   "id": "d883ae45-ee55-4a8c-82fc-baf7989ba74d",
   "metadata": {},
   "outputs": [],
   "source": [
    "# pip install nasdaq-data-link"
   ]
  },
  {
   "cell_type": "code",
   "execution_count": 190,
   "id": "7757204b-0e8e-4199-b1ef-89f5860f7249",
   "metadata": {},
   "outputs": [],
   "source": [
    "import nasdaqdatalink\n",
    "import pandas as pd\n",
    "import numpy as np\n",
    "import matplotlib.pyplot as plt\n",
    "import seaborn as sns\n",
    "\n",
    "from datetime import datetime\n",
    "from sklearn.model_selection import train_test_split\n",
    "from sklearn.metrics import mean_squared_error, r2_score\n",
    "\n",
    "from statsmodels.graphics.tsaplots import plot_acf, plot_pacf, plot_predict\n",
    "from statsmodels.tsa.stattools import adfuller\n",
    "from statsmodels.tsa.arima.model import ARIMA\n",
    "from statsmodels.tsa.api import VAR"
   ]
  },
  {
   "cell_type": "markdown",
   "id": "5fa8a4e8-2fd3-4e26-8823-caddd9b93870",
   "metadata": {},
   "source": [
    "## Using the API"
   ]
  },
  {
   "cell_type": "code",
   "execution_count": null,
   "id": "ebb0408d-e1ce-4337-863a-5deed977dc94",
   "metadata": {},
   "outputs": [],
   "source": [
    "nasdaqdatalink.ApiConfig.api_key = 'oxbxjNXj99_xwuR31Grw'"
   ]
  },
  {
   "cell_type": "code",
   "execution_count": null,
   "id": "d3715a94-f66d-455d-b831-0d94485c46e8",
   "metadata": {},
   "outputs": [],
   "source": [
    "dir(nasdaqdatalink)"
   ]
  },
  {
   "cell_type": "code",
   "execution_count": null,
   "id": "5616b8d8-af01-44cb-80f0-8e17f1438ed0",
   "metadata": {},
   "outputs": [],
   "source": [
    "db = nasdaqdatalink.Database(\"ZILLOW\")"
   ]
  },
  {
   "cell_type": "code",
   "execution_count": null,
   "id": "7040cd2a-42bc-471f-b27c-656acc86d737",
   "metadata": {},
   "outputs": [],
   "source": [
    "db.data_fields()"
   ]
  },
  {
   "cell_type": "code",
   "execution_count": null,
   "id": "d1b997c8-0e59-4949-a087-9a196d54d9ac",
   "metadata": {},
   "outputs": [],
   "source": [
    "dir(db)"
   ]
  },
  {
   "cell_type": "code",
   "execution_count": null,
   "id": "85dc09e9-2972-4bc1-85d6-af2a6da5ab6d",
   "metadata": {},
   "outputs": [],
   "source": [
    "db.to_list()"
   ]
  },
  {
   "cell_type": "code",
   "execution_count": null,
   "id": "db41503a-492c-4a5d-b13a-bcc4e649fda9",
   "metadata": {},
   "outputs": [],
   "source": [
    "ds = db.datasets()"
   ]
  },
  {
   "cell_type": "code",
   "execution_count": null,
   "id": "1087c20e-f90e-4157-95e5-341db1293968",
   "metadata": {},
   "outputs": [],
   "source": [
    "dir(ds)"
   ]
  },
  {
   "cell_type": "code",
   "execution_count": null,
   "id": "3403b095-6387-466f-9d20-04230c21c85e",
   "metadata": {
    "scrolled": true,
    "tags": []
   },
   "outputs": [],
   "source": [
    "pd.DataFrame(ds.to_list())"
   ]
  },
  {
   "cell_type": "markdown",
   "id": "e0aad253-1f64-4ec2-8937-21b8568fbd5a",
   "metadata": {},
   "source": [
    "## Using the Downloaded Data"
   ]
  },
  {
   "cell_type": "code",
   "execution_count": 2,
   "id": "c4fa785f-aa72-4397-9248-e141e16ebfd9",
   "metadata": {},
   "outputs": [],
   "source": [
    "data = pd.read_csv('./data/zillow_data.csv')"
   ]
  },
  {
   "cell_type": "code",
   "execution_count": 3,
   "id": "b3388217-fbb0-42d9-a99a-4637fcd60082",
   "metadata": {},
   "outputs": [
    {
     "data": {
      "text/html": [
       "<div>\n",
       "<style scoped>\n",
       "    .dataframe tbody tr th:only-of-type {\n",
       "        vertical-align: middle;\n",
       "    }\n",
       "\n",
       "    .dataframe tbody tr th {\n",
       "        vertical-align: top;\n",
       "    }\n",
       "\n",
       "    .dataframe thead th {\n",
       "        text-align: right;\n",
       "    }\n",
       "</style>\n",
       "<table border=\"1\" class=\"dataframe\">\n",
       "  <thead>\n",
       "    <tr style=\"text-align: right;\">\n",
       "      <th></th>\n",
       "      <th>indicator_id</th>\n",
       "      <th>region_id</th>\n",
       "      <th>date</th>\n",
       "      <th>value</th>\n",
       "    </tr>\n",
       "  </thead>\n",
       "  <tbody>\n",
       "    <tr>\n",
       "      <th>0</th>\n",
       "      <td>ZATT</td>\n",
       "      <td>3101</td>\n",
       "      <td>1998-01-31</td>\n",
       "      <td>338849.0</td>\n",
       "    </tr>\n",
       "    <tr>\n",
       "      <th>1</th>\n",
       "      <td>ZATT</td>\n",
       "      <td>3101</td>\n",
       "      <td>1998-02-28</td>\n",
       "      <td>342993.0</td>\n",
       "    </tr>\n",
       "    <tr>\n",
       "      <th>2</th>\n",
       "      <td>ZATT</td>\n",
       "      <td>3101</td>\n",
       "      <td>1998-03-31</td>\n",
       "      <td>346763.0</td>\n",
       "    </tr>\n",
       "    <tr>\n",
       "      <th>3</th>\n",
       "      <td>ZATT</td>\n",
       "      <td>3101</td>\n",
       "      <td>1998-04-30</td>\n",
       "      <td>349356.0</td>\n",
       "    </tr>\n",
       "    <tr>\n",
       "      <th>4</th>\n",
       "      <td>ZATT</td>\n",
       "      <td>3101</td>\n",
       "      <td>1998-05-31</td>\n",
       "      <td>351981.0</td>\n",
       "    </tr>\n",
       "  </tbody>\n",
       "</table>\n",
       "</div>"
      ],
      "text/plain": [
       "  indicator_id  region_id        date     value\n",
       "0         ZATT       3101  1998-01-31  338849.0\n",
       "1         ZATT       3101  1998-02-28  342993.0\n",
       "2         ZATT       3101  1998-03-31  346763.0\n",
       "3         ZATT       3101  1998-04-30  349356.0\n",
       "4         ZATT       3101  1998-05-31  351981.0"
      ]
     },
     "execution_count": 3,
     "metadata": {},
     "output_type": "execute_result"
    }
   ],
   "source": [
    "data.head()"
   ]
  },
  {
   "cell_type": "code",
   "execution_count": 4,
   "id": "5e19f1c9-8bce-419c-8813-8056d0353847",
   "metadata": {},
   "outputs": [
    {
     "data": {
      "text/plain": [
       "(135439925, 4)"
      ]
     },
     "execution_count": 4,
     "metadata": {},
     "output_type": "execute_result"
    }
   ],
   "source": [
    "data.shape"
   ]
  },
  {
   "cell_type": "code",
   "execution_count": 5,
   "id": "8dfde3ac-3468-42dd-95f8-1b697fc797f3",
   "metadata": {},
   "outputs": [],
   "source": [
    "indicators = pd.read_csv('./data/zillow_indicators.csv')"
   ]
  },
  {
   "cell_type": "code",
   "execution_count": 6,
   "id": "102f83f3-a563-4b0b-a1eb-969d6a15f6e6",
   "metadata": {},
   "outputs": [
    {
     "data": {
      "text/html": [
       "<div>\n",
       "<style scoped>\n",
       "    .dataframe tbody tr th:only-of-type {\n",
       "        vertical-align: middle;\n",
       "    }\n",
       "\n",
       "    .dataframe tbody tr th {\n",
       "        vertical-align: top;\n",
       "    }\n",
       "\n",
       "    .dataframe thead th {\n",
       "        text-align: right;\n",
       "    }\n",
       "</style>\n",
       "<table border=\"1\" class=\"dataframe\">\n",
       "  <thead>\n",
       "    <tr style=\"text-align: right;\">\n",
       "      <th></th>\n",
       "      <th>indicator_id</th>\n",
       "      <th>indicator</th>\n",
       "      <th>category</th>\n",
       "    </tr>\n",
       "  </thead>\n",
       "  <tbody>\n",
       "    <tr>\n",
       "      <th>0</th>\n",
       "      <td>ZATT</td>\n",
       "      <td>ZHVI All Homes- Top Tier Time Series ($)</td>\n",
       "      <td>Home values</td>\n",
       "    </tr>\n",
       "    <tr>\n",
       "      <th>1</th>\n",
       "      <td>ZSFH</td>\n",
       "      <td>ZHVI Single-Family Homes Time Series ($)</td>\n",
       "      <td>Home values</td>\n",
       "    </tr>\n",
       "    <tr>\n",
       "      <th>2</th>\n",
       "      <td>ZALL</td>\n",
       "      <td>ZHVI All Homes (SFR, Condo/Co-op) Time Series ($)</td>\n",
       "      <td>Home values</td>\n",
       "    </tr>\n",
       "    <tr>\n",
       "      <th>3</th>\n",
       "      <td>ZCON</td>\n",
       "      <td>ZHVI Condo/Co-op Time Series ($)</td>\n",
       "      <td>Home values</td>\n",
       "    </tr>\n",
       "    <tr>\n",
       "      <th>4</th>\n",
       "      <td>ZABT</td>\n",
       "      <td>ZHVI All Homes- Bottom Tier Time Series ($)</td>\n",
       "      <td>Home values</td>\n",
       "    </tr>\n",
       "  </tbody>\n",
       "</table>\n",
       "</div>"
      ],
      "text/plain": [
       "  indicator_id                                          indicator     category\n",
       "0         ZATT           ZHVI All Homes- Top Tier Time Series ($)  Home values\n",
       "1         ZSFH           ZHVI Single-Family Homes Time Series ($)  Home values\n",
       "2         ZALL  ZHVI All Homes (SFR, Condo/Co-op) Time Series ($)  Home values\n",
       "3         ZCON                   ZHVI Condo/Co-op Time Series ($)  Home values\n",
       "4         ZABT        ZHVI All Homes- Bottom Tier Time Series ($)  Home values"
      ]
     },
     "execution_count": 6,
     "metadata": {},
     "output_type": "execute_result"
    }
   ],
   "source": [
    "indicators.head()"
   ]
  },
  {
   "cell_type": "code",
   "execution_count": 7,
   "id": "588323a4-14c9-4a1c-8f6f-06539a2315b5",
   "metadata": {},
   "outputs": [
    {
     "data": {
      "text/plain": [
       "(56, 3)"
      ]
     },
     "execution_count": 7,
     "metadata": {},
     "output_type": "execute_result"
    }
   ],
   "source": [
    "indicators.shape"
   ]
  },
  {
   "cell_type": "code",
   "execution_count": 8,
   "id": "fed9262b-4bae-42b7-b7c8-da6ec1ba464b",
   "metadata": {},
   "outputs": [
    {
     "data": {
      "text/html": [
       "<div>\n",
       "<style scoped>\n",
       "    .dataframe tbody tr th:only-of-type {\n",
       "        vertical-align: middle;\n",
       "    }\n",
       "\n",
       "    .dataframe tbody tr th {\n",
       "        vertical-align: top;\n",
       "    }\n",
       "\n",
       "    .dataframe thead th {\n",
       "        text-align: right;\n",
       "    }\n",
       "</style>\n",
       "<table border=\"1\" class=\"dataframe\">\n",
       "  <thead>\n",
       "    <tr style=\"text-align: right;\">\n",
       "      <th></th>\n",
       "      <th>indicator_id</th>\n",
       "      <th>indicator</th>\n",
       "      <th>category</th>\n",
       "    </tr>\n",
       "  </thead>\n",
       "  <tbody>\n",
       "    <tr>\n",
       "      <th>0</th>\n",
       "      <td>ZATT</td>\n",
       "      <td>ZHVI All Homes- Top Tier Time Series ($)</td>\n",
       "      <td>Home values</td>\n",
       "    </tr>\n",
       "    <tr>\n",
       "      <th>1</th>\n",
       "      <td>ZSFH</td>\n",
       "      <td>ZHVI Single-Family Homes Time Series ($)</td>\n",
       "      <td>Home values</td>\n",
       "    </tr>\n",
       "    <tr>\n",
       "      <th>2</th>\n",
       "      <td>ZALL</td>\n",
       "      <td>ZHVI All Homes (SFR, Condo/Co-op) Time Series ($)</td>\n",
       "      <td>Home values</td>\n",
       "    </tr>\n",
       "    <tr>\n",
       "      <th>3</th>\n",
       "      <td>ZCON</td>\n",
       "      <td>ZHVI Condo/Co-op Time Series ($)</td>\n",
       "      <td>Home values</td>\n",
       "    </tr>\n",
       "    <tr>\n",
       "      <th>4</th>\n",
       "      <td>ZABT</td>\n",
       "      <td>ZHVI All Homes- Bottom Tier Time Series ($)</td>\n",
       "      <td>Home values</td>\n",
       "    </tr>\n",
       "    <tr>\n",
       "      <th>5</th>\n",
       "      <td>Z5BR</td>\n",
       "      <td>ZHVI 5+ Bedroom Time Series ($)</td>\n",
       "      <td>Home values</td>\n",
       "    </tr>\n",
       "    <tr>\n",
       "      <th>6</th>\n",
       "      <td>Z2BR</td>\n",
       "      <td>ZHVI 2-Bedroom Time Series ($)</td>\n",
       "      <td>Home values</td>\n",
       "    </tr>\n",
       "    <tr>\n",
       "      <th>7</th>\n",
       "      <td>Z3BR</td>\n",
       "      <td>ZHVI 3-Bedroom Time Series ($)</td>\n",
       "      <td>Home values</td>\n",
       "    </tr>\n",
       "    <tr>\n",
       "      <th>8</th>\n",
       "      <td>Z1BR</td>\n",
       "      <td>ZHVI 1-Bedroom Time Series ($)</td>\n",
       "      <td>Home values</td>\n",
       "    </tr>\n",
       "    <tr>\n",
       "      <th>9</th>\n",
       "      <td>LSAW</td>\n",
       "      <td>Median List Price (Smooth, All Homes, Weekly V...</td>\n",
       "      <td>Inventory and sales</td>\n",
       "    </tr>\n",
       "    <tr>\n",
       "      <th>10</th>\n",
       "      <td>NRAW</td>\n",
       "      <td>Median Days to Pending (Raw, All Homes, Weekly...</td>\n",
       "      <td>Inventory and sales</td>\n",
       "    </tr>\n",
       "    <tr>\n",
       "      <th>11</th>\n",
       "      <td>NSAW</td>\n",
       "      <td>Median Days to Pending (Smooth, All Homes, Wee...</td>\n",
       "      <td>Inventory and sales</td>\n",
       "    </tr>\n",
       "    <tr>\n",
       "      <th>12</th>\n",
       "      <td>CRSW</td>\n",
       "      <td>Share of Listings With a Price Cut (Raw, SFR O...</td>\n",
       "      <td>Inventory and sales</td>\n",
       "    </tr>\n",
       "    <tr>\n",
       "      <th>13</th>\n",
       "      <td>SSAM</td>\n",
       "      <td>Median Sale Price (Smooth, All Homes, Monthly)</td>\n",
       "      <td>Inventory and sales</td>\n",
       "    </tr>\n",
       "    <tr>\n",
       "      <th>14</th>\n",
       "      <td>IRSW</td>\n",
       "      <td>For-sale Inventory (Raw, SFR only, Weekly View)</td>\n",
       "      <td>Inventory and sales</td>\n",
       "    </tr>\n",
       "    <tr>\n",
       "      <th>15</th>\n",
       "      <td>NRAM</td>\n",
       "      <td>Median Days to Pending (Raw, All Homes, Monthly)</td>\n",
       "      <td>Inventory and sales</td>\n",
       "    </tr>\n",
       "    <tr>\n",
       "      <th>16</th>\n",
       "      <td>CRAW</td>\n",
       "      <td>Share of Listings With a Price Cut (Raw, All H...</td>\n",
       "      <td>Inventory and sales</td>\n",
       "    </tr>\n",
       "    <tr>\n",
       "      <th>17</th>\n",
       "      <td>LRSM</td>\n",
       "      <td>Median List Price (Raw, SFR Only, Monthly)</td>\n",
       "      <td>Inventory and sales</td>\n",
       "    </tr>\n",
       "    <tr>\n",
       "      <th>18</th>\n",
       "      <td>SASM</td>\n",
       "      <td>Median Sale Price (Smooth &amp; Seasonally Adjuste...</td>\n",
       "      <td>Inventory and sales</td>\n",
       "    </tr>\n",
       "    <tr>\n",
       "      <th>19</th>\n",
       "      <td>SSSM</td>\n",
       "      <td>Median Sale Price (Smooth, SFR only, Monthly)</td>\n",
       "      <td>Inventory and sales</td>\n",
       "    </tr>\n",
       "    <tr>\n",
       "      <th>20</th>\n",
       "      <td>SAAM</td>\n",
       "      <td>Median Sale Price (Smooth &amp; Seasonally Adjuste...</td>\n",
       "      <td>Inventory and sales</td>\n",
       "    </tr>\n",
       "    <tr>\n",
       "      <th>21</th>\n",
       "      <td>LRAW</td>\n",
       "      <td>Median List Price (Raw, All Homes, Weekly View)</td>\n",
       "      <td>Inventory and sales</td>\n",
       "    </tr>\n",
       "    <tr>\n",
       "      <th>22</th>\n",
       "      <td>CSAM</td>\n",
       "      <td>Share of Listings With a Price Cut (Smooth, Al...</td>\n",
       "      <td>Inventory and sales</td>\n",
       "    </tr>\n",
       "    <tr>\n",
       "      <th>23</th>\n",
       "      <td>SRAW</td>\n",
       "      <td>Median Sale Price (Raw, All Homes, Weekly View)</td>\n",
       "      <td>Inventory and sales</td>\n",
       "    </tr>\n",
       "    <tr>\n",
       "      <th>24</th>\n",
       "      <td>CSSW</td>\n",
       "      <td>Share of Listings With a Price Cut (Smooth, SF...</td>\n",
       "      <td>Inventory and sales</td>\n",
       "    </tr>\n",
       "    <tr>\n",
       "      <th>25</th>\n",
       "      <td>LRSW</td>\n",
       "      <td>Median List Price (Raw, SFR Only, Weekly View)</td>\n",
       "      <td>Inventory and sales</td>\n",
       "    </tr>\n",
       "    <tr>\n",
       "      <th>26</th>\n",
       "      <td>SRSM</td>\n",
       "      <td>Median Sale Price (Raw, SFR only, Monthly)</td>\n",
       "      <td>Inventory and sales</td>\n",
       "    </tr>\n",
       "    <tr>\n",
       "      <th>27</th>\n",
       "      <td>SAAW</td>\n",
       "      <td>Median Sale Price (Smooth &amp; Seasonally Adjuste...</td>\n",
       "      <td>Inventory and sales</td>\n",
       "    </tr>\n",
       "    <tr>\n",
       "      <th>28</th>\n",
       "      <td>LSSW</td>\n",
       "      <td>Median List Price (Smooth, SFR Only, Weekly View)</td>\n",
       "      <td>Inventory and sales</td>\n",
       "    </tr>\n",
       "    <tr>\n",
       "      <th>29</th>\n",
       "      <td>SRAM</td>\n",
       "      <td>Median Sale Price (Raw, All Homes, Monthly)</td>\n",
       "      <td>Inventory and sales</td>\n",
       "    </tr>\n",
       "    <tr>\n",
       "      <th>30</th>\n",
       "      <td>NSAM</td>\n",
       "      <td>Median Days to Pending (Smooth, All Homes, Mon...</td>\n",
       "      <td>Inventory and sales</td>\n",
       "    </tr>\n",
       "    <tr>\n",
       "      <th>31</th>\n",
       "      <td>RSNA</td>\n",
       "      <td>ZORI (Smoothed): All Homes Plus Multifamily Ti...</td>\n",
       "      <td>Rentals</td>\n",
       "    </tr>\n",
       "    <tr>\n",
       "      <th>32</th>\n",
       "      <td>RSSA</td>\n",
       "      <td>ZORI (Smoothed, Seasonally Adjusted): All Home...</td>\n",
       "      <td>Rentals</td>\n",
       "    </tr>\n",
       "    <tr>\n",
       "      <th>33</th>\n",
       "      <td>Z4BR</td>\n",
       "      <td>ZHVI 4-Bedroom Time Series ($)</td>\n",
       "      <td>Home values</td>\n",
       "    </tr>\n",
       "    <tr>\n",
       "      <th>34</th>\n",
       "      <td>ISAW</td>\n",
       "      <td>For-Sale Inventory (Smooth, All Homes, Weekly ...</td>\n",
       "      <td>Inventory and sales</td>\n",
       "    </tr>\n",
       "    <tr>\n",
       "      <th>35</th>\n",
       "      <td>SSAW</td>\n",
       "      <td>Median Sale Price (Smooth, All Homes, Weekly V...</td>\n",
       "      <td>Inventory and sales</td>\n",
       "    </tr>\n",
       "    <tr>\n",
       "      <th>36</th>\n",
       "      <td>IRAM</td>\n",
       "      <td>For-Sale Inventory (Raw, All Homes, Monthly)</td>\n",
       "      <td>Inventory and sales</td>\n",
       "    </tr>\n",
       "    <tr>\n",
       "      <th>37</th>\n",
       "      <td>CRSM</td>\n",
       "      <td>Share of Listings With a Price Cut (Raw, SFR O...</td>\n",
       "      <td>Inventory and sales</td>\n",
       "    </tr>\n",
       "    <tr>\n",
       "      <th>38</th>\n",
       "      <td>CSSM</td>\n",
       "      <td>Share of Listings With a Price Cut (Smooth, SF...</td>\n",
       "      <td>Inventory and sales</td>\n",
       "    </tr>\n",
       "    <tr>\n",
       "      <th>39</th>\n",
       "      <td>MSAM</td>\n",
       "      <td>Mean Days to Pending (Smooth, All Homes, Monthly)</td>\n",
       "      <td>Inventory and sales</td>\n",
       "    </tr>\n",
       "    <tr>\n",
       "      <th>40</th>\n",
       "      <td>IRAW</td>\n",
       "      <td>For-Sale Inventory (Raw, All Homes, Weekly View)</td>\n",
       "      <td>Inventory and sales</td>\n",
       "    </tr>\n",
       "    <tr>\n",
       "      <th>41</th>\n",
       "      <td>MRAM</td>\n",
       "      <td>Mean Days to Pending (Raw, All Homes, Monthly)</td>\n",
       "      <td>Inventory and sales</td>\n",
       "    </tr>\n",
       "    <tr>\n",
       "      <th>42</th>\n",
       "      <td>SSSW</td>\n",
       "      <td>Median Sale Price (Smooth, SFR only, Weekly View)</td>\n",
       "      <td>Inventory and sales</td>\n",
       "    </tr>\n",
       "    <tr>\n",
       "      <th>43</th>\n",
       "      <td>LSSM</td>\n",
       "      <td>Median List Price (Smooth, SFR Only, Monthly)</td>\n",
       "      <td>Inventory and sales</td>\n",
       "    </tr>\n",
       "    <tr>\n",
       "      <th>44</th>\n",
       "      <td>CSAW</td>\n",
       "      <td>Share of Listings With a Price Cut (Smooth, Al...</td>\n",
       "      <td>Inventory and sales</td>\n",
       "    </tr>\n",
       "    <tr>\n",
       "      <th>45</th>\n",
       "      <td>ISSM</td>\n",
       "      <td>For-Sale Inventory (Smooth, SFR only, Monthly)</td>\n",
       "      <td>Inventory and sales</td>\n",
       "    </tr>\n",
       "    <tr>\n",
       "      <th>46</th>\n",
       "      <td>SASW</td>\n",
       "      <td>Median Sale Price (Smooth &amp; Seasonally Adjuste...</td>\n",
       "      <td>Inventory and sales</td>\n",
       "    </tr>\n",
       "    <tr>\n",
       "      <th>47</th>\n",
       "      <td>MRAW</td>\n",
       "      <td>Mean Days to Pending (Raw, All Homes, Weekly V...</td>\n",
       "      <td>Inventory and sales</td>\n",
       "    </tr>\n",
       "    <tr>\n",
       "      <th>48</th>\n",
       "      <td>LRAM</td>\n",
       "      <td>Median List Price (Raw, All Homes, Monthly)</td>\n",
       "      <td>Inventory and sales</td>\n",
       "    </tr>\n",
       "    <tr>\n",
       "      <th>49</th>\n",
       "      <td>ISSW</td>\n",
       "      <td>For-Sale Inventory (Smooth, SFR only, Weekly V...</td>\n",
       "      <td>Inventory and sales</td>\n",
       "    </tr>\n",
       "    <tr>\n",
       "      <th>50</th>\n",
       "      <td>MSAW</td>\n",
       "      <td>Mean Days to Pending (Smooth, All Homes, Weekl...</td>\n",
       "      <td>Inventory and sales</td>\n",
       "    </tr>\n",
       "    <tr>\n",
       "      <th>51</th>\n",
       "      <td>LSAM</td>\n",
       "      <td>Median List Price (Smooth, All Homes, Monthly)</td>\n",
       "      <td>Inventory and sales</td>\n",
       "    </tr>\n",
       "    <tr>\n",
       "      <th>52</th>\n",
       "      <td>CRAM</td>\n",
       "      <td>Share of Listings With a Price Cut (Raw, All H...</td>\n",
       "      <td>Inventory and sales</td>\n",
       "    </tr>\n",
       "    <tr>\n",
       "      <th>53</th>\n",
       "      <td>ISAM</td>\n",
       "      <td>For-Sale Inventory (Smooth, All Homes, Monthly)</td>\n",
       "      <td>Inventory and sales</td>\n",
       "    </tr>\n",
       "    <tr>\n",
       "      <th>54</th>\n",
       "      <td>IRSM</td>\n",
       "      <td>For-sale Inventory (Raw, SFR only, Monthly)</td>\n",
       "      <td>Inventory and sales</td>\n",
       "    </tr>\n",
       "    <tr>\n",
       "      <th>55</th>\n",
       "      <td>SRSW</td>\n",
       "      <td>Median Sale Price (Raw, SFR only, Weekly View)</td>\n",
       "      <td>Inventory and sales</td>\n",
       "    </tr>\n",
       "  </tbody>\n",
       "</table>\n",
       "</div>"
      ],
      "text/plain": [
       "   indicator_id                                          indicator  \\\n",
       "0          ZATT           ZHVI All Homes- Top Tier Time Series ($)   \n",
       "1          ZSFH           ZHVI Single-Family Homes Time Series ($)   \n",
       "2          ZALL  ZHVI All Homes (SFR, Condo/Co-op) Time Series ($)   \n",
       "3          ZCON                   ZHVI Condo/Co-op Time Series ($)   \n",
       "4          ZABT        ZHVI All Homes- Bottom Tier Time Series ($)   \n",
       "5          Z5BR                    ZHVI 5+ Bedroom Time Series ($)   \n",
       "6          Z2BR                     ZHVI 2-Bedroom Time Series ($)   \n",
       "7          Z3BR                     ZHVI 3-Bedroom Time Series ($)   \n",
       "8          Z1BR                     ZHVI 1-Bedroom Time Series ($)   \n",
       "9          LSAW  Median List Price (Smooth, All Homes, Weekly V...   \n",
       "10         NRAW  Median Days to Pending (Raw, All Homes, Weekly...   \n",
       "11         NSAW  Median Days to Pending (Smooth, All Homes, Wee...   \n",
       "12         CRSW  Share of Listings With a Price Cut (Raw, SFR O...   \n",
       "13         SSAM     Median Sale Price (Smooth, All Homes, Monthly)   \n",
       "14         IRSW    For-sale Inventory (Raw, SFR only, Weekly View)   \n",
       "15         NRAM   Median Days to Pending (Raw, All Homes, Monthly)   \n",
       "16         CRAW  Share of Listings With a Price Cut (Raw, All H...   \n",
       "17         LRSM         Median List Price (Raw, SFR Only, Monthly)   \n",
       "18         SASM  Median Sale Price (Smooth & Seasonally Adjuste...   \n",
       "19         SSSM      Median Sale Price (Smooth, SFR only, Monthly)   \n",
       "20         SAAM  Median Sale Price (Smooth & Seasonally Adjuste...   \n",
       "21         LRAW    Median List Price (Raw, All Homes, Weekly View)   \n",
       "22         CSAM  Share of Listings With a Price Cut (Smooth, Al...   \n",
       "23         SRAW    Median Sale Price (Raw, All Homes, Weekly View)   \n",
       "24         CSSW  Share of Listings With a Price Cut (Smooth, SF...   \n",
       "25         LRSW     Median List Price (Raw, SFR Only, Weekly View)   \n",
       "26         SRSM         Median Sale Price (Raw, SFR only, Monthly)   \n",
       "27         SAAW  Median Sale Price (Smooth & Seasonally Adjuste...   \n",
       "28         LSSW  Median List Price (Smooth, SFR Only, Weekly View)   \n",
       "29         SRAM        Median Sale Price (Raw, All Homes, Monthly)   \n",
       "30         NSAM  Median Days to Pending (Smooth, All Homes, Mon...   \n",
       "31         RSNA  ZORI (Smoothed): All Homes Plus Multifamily Ti...   \n",
       "32         RSSA  ZORI (Smoothed, Seasonally Adjusted): All Home...   \n",
       "33         Z4BR                     ZHVI 4-Bedroom Time Series ($)   \n",
       "34         ISAW  For-Sale Inventory (Smooth, All Homes, Weekly ...   \n",
       "35         SSAW  Median Sale Price (Smooth, All Homes, Weekly V...   \n",
       "36         IRAM       For-Sale Inventory (Raw, All Homes, Monthly)   \n",
       "37         CRSM  Share of Listings With a Price Cut (Raw, SFR O...   \n",
       "38         CSSM  Share of Listings With a Price Cut (Smooth, SF...   \n",
       "39         MSAM  Mean Days to Pending (Smooth, All Homes, Monthly)   \n",
       "40         IRAW   For-Sale Inventory (Raw, All Homes, Weekly View)   \n",
       "41         MRAM     Mean Days to Pending (Raw, All Homes, Monthly)   \n",
       "42         SSSW  Median Sale Price (Smooth, SFR only, Weekly View)   \n",
       "43         LSSM      Median List Price (Smooth, SFR Only, Monthly)   \n",
       "44         CSAW  Share of Listings With a Price Cut (Smooth, Al...   \n",
       "45         ISSM     For-Sale Inventory (Smooth, SFR only, Monthly)   \n",
       "46         SASW  Median Sale Price (Smooth & Seasonally Adjuste...   \n",
       "47         MRAW  Mean Days to Pending (Raw, All Homes, Weekly V...   \n",
       "48         LRAM        Median List Price (Raw, All Homes, Monthly)   \n",
       "49         ISSW  For-Sale Inventory (Smooth, SFR only, Weekly V...   \n",
       "50         MSAW  Mean Days to Pending (Smooth, All Homes, Weekl...   \n",
       "51         LSAM     Median List Price (Smooth, All Homes, Monthly)   \n",
       "52         CRAM  Share of Listings With a Price Cut (Raw, All H...   \n",
       "53         ISAM    For-Sale Inventory (Smooth, All Homes, Monthly)   \n",
       "54         IRSM        For-sale Inventory (Raw, SFR only, Monthly)   \n",
       "55         SRSW     Median Sale Price (Raw, SFR only, Weekly View)   \n",
       "\n",
       "               category  \n",
       "0           Home values  \n",
       "1           Home values  \n",
       "2           Home values  \n",
       "3           Home values  \n",
       "4           Home values  \n",
       "5           Home values  \n",
       "6           Home values  \n",
       "7           Home values  \n",
       "8           Home values  \n",
       "9   Inventory and sales  \n",
       "10  Inventory and sales  \n",
       "11  Inventory and sales  \n",
       "12  Inventory and sales  \n",
       "13  Inventory and sales  \n",
       "14  Inventory and sales  \n",
       "15  Inventory and sales  \n",
       "16  Inventory and sales  \n",
       "17  Inventory and sales  \n",
       "18  Inventory and sales  \n",
       "19  Inventory and sales  \n",
       "20  Inventory and sales  \n",
       "21  Inventory and sales  \n",
       "22  Inventory and sales  \n",
       "23  Inventory and sales  \n",
       "24  Inventory and sales  \n",
       "25  Inventory and sales  \n",
       "26  Inventory and sales  \n",
       "27  Inventory and sales  \n",
       "28  Inventory and sales  \n",
       "29  Inventory and sales  \n",
       "30  Inventory and sales  \n",
       "31              Rentals  \n",
       "32              Rentals  \n",
       "33          Home values  \n",
       "34  Inventory and sales  \n",
       "35  Inventory and sales  \n",
       "36  Inventory and sales  \n",
       "37  Inventory and sales  \n",
       "38  Inventory and sales  \n",
       "39  Inventory and sales  \n",
       "40  Inventory and sales  \n",
       "41  Inventory and sales  \n",
       "42  Inventory and sales  \n",
       "43  Inventory and sales  \n",
       "44  Inventory and sales  \n",
       "45  Inventory and sales  \n",
       "46  Inventory and sales  \n",
       "47  Inventory and sales  \n",
       "48  Inventory and sales  \n",
       "49  Inventory and sales  \n",
       "50  Inventory and sales  \n",
       "51  Inventory and sales  \n",
       "52  Inventory and sales  \n",
       "53  Inventory and sales  \n",
       "54  Inventory and sales  \n",
       "55  Inventory and sales  "
      ]
     },
     "execution_count": 8,
     "metadata": {},
     "output_type": "execute_result"
    }
   ],
   "source": [
    "indicators"
   ]
  },
  {
   "cell_type": "code",
   "execution_count": 9,
   "id": "74c9c710-97e7-4dae-8049-65fa8b7b1cdf",
   "metadata": {},
   "outputs": [],
   "source": [
    "regions = pd.read_csv('./data/zillow_regions.csv')"
   ]
  },
  {
   "cell_type": "code",
   "execution_count": 10,
   "id": "f9a67c99-ed67-4f78-9c0d-bd3f28b40aaf",
   "metadata": {},
   "outputs": [
    {
     "data": {
      "text/html": [
       "<div>\n",
       "<style scoped>\n",
       "    .dataframe tbody tr th:only-of-type {\n",
       "        vertical-align: middle;\n",
       "    }\n",
       "\n",
       "    .dataframe tbody tr th {\n",
       "        vertical-align: top;\n",
       "    }\n",
       "\n",
       "    .dataframe thead th {\n",
       "        text-align: right;\n",
       "    }\n",
       "</style>\n",
       "<table border=\"1\" class=\"dataframe\">\n",
       "  <thead>\n",
       "    <tr style=\"text-align: right;\">\n",
       "      <th></th>\n",
       "      <th>region_id</th>\n",
       "      <th>region_type</th>\n",
       "      <th>region</th>\n",
       "    </tr>\n",
       "  </thead>\n",
       "  <tbody>\n",
       "    <tr>\n",
       "      <th>0</th>\n",
       "      <td>394913</td>\n",
       "      <td>metro</td>\n",
       "      <td>New York, NY</td>\n",
       "    </tr>\n",
       "    <tr>\n",
       "      <th>1</th>\n",
       "      <td>207</td>\n",
       "      <td>county</td>\n",
       "      <td>King County; WA; Seattle-Tacoma-Bellevue, WA</td>\n",
       "    </tr>\n",
       "    <tr>\n",
       "      <th>2</th>\n",
       "      <td>394692</td>\n",
       "      <td>metro</td>\n",
       "      <td>Houston, TX</td>\n",
       "    </tr>\n",
       "    <tr>\n",
       "      <th>3</th>\n",
       "      <td>272902</td>\n",
       "      <td>neigh</td>\n",
       "      <td>Bedford-Stuyvesant; NY; New York-Newark-Jersey...</td>\n",
       "    </tr>\n",
       "    <tr>\n",
       "      <th>4</th>\n",
       "      <td>195267</td>\n",
       "      <td>neigh</td>\n",
       "      <td>Harlem; NY; New York-Newark-Jersey City, NY-NJ...</td>\n",
       "    </tr>\n",
       "  </tbody>\n",
       "</table>\n",
       "</div>"
      ],
      "text/plain": [
       "   region_id region_type                                             region\n",
       "0     394913       metro                                       New York, NY\n",
       "1        207      county       King County; WA; Seattle-Tacoma-Bellevue, WA\n",
       "2     394692       metro                                        Houston, TX\n",
       "3     272902       neigh  Bedford-Stuyvesant; NY; New York-Newark-Jersey...\n",
       "4     195267       neigh  Harlem; NY; New York-Newark-Jersey City, NY-NJ..."
      ]
     },
     "execution_count": 10,
     "metadata": {},
     "output_type": "execute_result"
    }
   ],
   "source": [
    "regions.head()"
   ]
  },
  {
   "cell_type": "code",
   "execution_count": 11,
   "id": "e567c5a9-67de-4db5-bfba-95338a9cc6f5",
   "metadata": {},
   "outputs": [
    {
     "data": {
      "text/plain": [
       "(86098, 3)"
      ]
     },
     "execution_count": 11,
     "metadata": {},
     "output_type": "execute_result"
    }
   ],
   "source": [
    "regions.shape"
   ]
  },
  {
   "cell_type": "code",
   "execution_count": 12,
   "id": "65f7f983-b795-402f-9af1-4b54f6f3ba88",
   "metadata": {},
   "outputs": [
    {
     "data": {
      "text/html": [
       "<div>\n",
       "<style scoped>\n",
       "    .dataframe tbody tr th:only-of-type {\n",
       "        vertical-align: middle;\n",
       "    }\n",
       "\n",
       "    .dataframe tbody tr th {\n",
       "        vertical-align: top;\n",
       "    }\n",
       "\n",
       "    .dataframe thead th {\n",
       "        text-align: right;\n",
       "    }\n",
       "</style>\n",
       "<table border=\"1\" class=\"dataframe\">\n",
       "  <thead>\n",
       "    <tr style=\"text-align: right;\">\n",
       "      <th></th>\n",
       "      <th>region_id</th>\n",
       "      <th>region_type</th>\n",
       "      <th>region</th>\n",
       "    </tr>\n",
       "  </thead>\n",
       "  <tbody>\n",
       "    <tr>\n",
       "      <th>98</th>\n",
       "      <td>394530</td>\n",
       "      <td>metro</td>\n",
       "      <td>Denver, CO</td>\n",
       "    </tr>\n",
       "    <tr>\n",
       "      <th>266</th>\n",
       "      <td>10181</td>\n",
       "      <td>city</td>\n",
       "      <td>Arvada; CO; Denver-Aurora-Lakewood, CO; Jeffer...</td>\n",
       "    </tr>\n",
       "    <tr>\n",
       "      <th>428</th>\n",
       "      <td>17163</td>\n",
       "      <td>city</td>\n",
       "      <td>Brighton; CO; Denver-Aurora-Lakewood, CO; Adam...</td>\n",
       "    </tr>\n",
       "    <tr>\n",
       "      <th>529</th>\n",
       "      <td>45470</td>\n",
       "      <td>city</td>\n",
       "      <td>Golden; CO; Denver-Aurora-Lakewood, CO; Jeffer...</td>\n",
       "    </tr>\n",
       "    <tr>\n",
       "      <th>627</th>\n",
       "      <td>26213</td>\n",
       "      <td>city</td>\n",
       "      <td>Northglenn; CO; Denver-Aurora-Lakewood, CO; Ad...</td>\n",
       "    </tr>\n",
       "    <tr>\n",
       "      <th>...</th>\n",
       "      <td>...</td>\n",
       "      <td>...</td>\n",
       "      <td>...</td>\n",
       "    </tr>\n",
       "    <tr>\n",
       "      <th>85138</th>\n",
       "      <td>93402</td>\n",
       "      <td>zip</td>\n",
       "      <td>80453; CO; Denver-Aurora-Lakewood, CO; Jeffers...</td>\n",
       "    </tr>\n",
       "    <tr>\n",
       "      <th>85336</th>\n",
       "      <td>93260</td>\n",
       "      <td>zip</td>\n",
       "      <td>80131; CO; Denver-Aurora-Lakewood, CO; Douglas...</td>\n",
       "    </tr>\n",
       "    <tr>\n",
       "      <th>85420</th>\n",
       "      <td>93395</td>\n",
       "      <td>zip</td>\n",
       "      <td>80444; CO; Denver-Aurora-Lakewood, CO; Clear C...</td>\n",
       "    </tr>\n",
       "    <tr>\n",
       "      <th>85869</th>\n",
       "      <td>93406</td>\n",
       "      <td>zip</td>\n",
       "      <td>80457; CO; Denver-Aurora-Lakewood, CO; Jeffers...</td>\n",
       "    </tr>\n",
       "    <tr>\n",
       "      <th>86080</th>\n",
       "      <td>62550</td>\n",
       "      <td>zip</td>\n",
       "      <td>12421; NY; Delaware County; Denver</td>\n",
       "    </tr>\n",
       "  </tbody>\n",
       "</table>\n",
       "<p>632 rows × 3 columns</p>\n",
       "</div>"
      ],
      "text/plain": [
       "       region_id region_type  \\\n",
       "98        394530       metro   \n",
       "266        10181        city   \n",
       "428        17163        city   \n",
       "529        45470        city   \n",
       "627        26213        city   \n",
       "...          ...         ...   \n",
       "85138      93402         zip   \n",
       "85336      93260         zip   \n",
       "85420      93395         zip   \n",
       "85869      93406         zip   \n",
       "86080      62550         zip   \n",
       "\n",
       "                                                  region  \n",
       "98                                            Denver, CO  \n",
       "266    Arvada; CO; Denver-Aurora-Lakewood, CO; Jeffer...  \n",
       "428    Brighton; CO; Denver-Aurora-Lakewood, CO; Adam...  \n",
       "529    Golden; CO; Denver-Aurora-Lakewood, CO; Jeffer...  \n",
       "627    Northglenn; CO; Denver-Aurora-Lakewood, CO; Ad...  \n",
       "...                                                  ...  \n",
       "85138  80453; CO; Denver-Aurora-Lakewood, CO; Jeffers...  \n",
       "85336  80131; CO; Denver-Aurora-Lakewood, CO; Douglas...  \n",
       "85420  80444; CO; Denver-Aurora-Lakewood, CO; Clear C...  \n",
       "85869  80457; CO; Denver-Aurora-Lakewood, CO; Jeffers...  \n",
       "86080                 12421; NY; Delaware County; Denver  \n",
       "\n",
       "[632 rows x 3 columns]"
      ]
     },
     "execution_count": 12,
     "metadata": {},
     "output_type": "execute_result"
    }
   ],
   "source": [
    "regions[regions['region'].str.contains('Denver')]"
   ]
  },
  {
   "cell_type": "code",
   "execution_count": 14,
   "id": "9d3e8038-3054-4a13-abbc-f5963d539fad",
   "metadata": {},
   "outputs": [],
   "source": [
    "denver = data[data['region_id'] == 394530]"
   ]
  },
  {
   "cell_type": "code",
   "execution_count": 21,
   "id": "ece8dcaa-ef6c-42cd-bd32-2402f3eb3b61",
   "metadata": {},
   "outputs": [
    {
     "name": "stderr",
     "output_type": "stream",
     "text": [
      "/var/folders/lz/08gb56690psggb6cznf0xhwh0000gn/T/ipykernel_23392/3892153405.py:1: SettingWithCopyWarning: \n",
      "A value is trying to be set on a copy of a slice from a DataFrame\n",
      "\n",
      "See the caveats in the documentation: https://pandas.pydata.org/pandas-docs/stable/user_guide/indexing.html#returning-a-view-versus-a-copy\n",
      "  denver.drop(columns = 'region_id', inplace = True)\n"
     ]
    }
   ],
   "source": [
    "denver.drop(columns = 'region_id', inplace = True)"
   ]
  },
  {
   "cell_type": "code",
   "execution_count": 19,
   "id": "a4c81273-f45b-4362-ad3e-99efc8f82273",
   "metadata": {},
   "outputs": [
    {
     "name": "stderr",
     "output_type": "stream",
     "text": [
      "/var/folders/lz/08gb56690psggb6cznf0xhwh0000gn/T/ipykernel_23392/3172273544.py:1: SettingWithCopyWarning: \n",
      "A value is trying to be set on a copy of a slice from a DataFrame.\n",
      "Try using .loc[row_indexer,col_indexer] = value instead\n",
      "\n",
      "See the caveats in the documentation: https://pandas.pydata.org/pandas-docs/stable/user_guide/indexing.html#returning-a-view-versus-a-copy\n",
      "  denver['date'] = pd.to_datetime(denver['date'])\n"
     ]
    }
   ],
   "source": [
    "denver['date'] = pd.to_datetime(denver['date'])"
   ]
  },
  {
   "cell_type": "code",
   "execution_count": 22,
   "id": "281b3995-4426-44ba-802a-c2fe6f4a3d9b",
   "metadata": {},
   "outputs": [],
   "source": [
    "denver.to_csv('./data/zillow_data_denver.csv', index = False)"
   ]
  },
  {
   "cell_type": "markdown",
   "id": "d67f4a6b-bad6-49cd-9cbe-90eed3ed6217",
   "metadata": {},
   "source": [
    "#### Exploring the Denver Data"
   ]
  },
  {
   "cell_type": "code",
   "execution_count": 23,
   "id": "39cc6f30-ab92-409a-921b-ccebce2c8a23",
   "metadata": {},
   "outputs": [
    {
     "name": "stdout",
     "output_type": "stream",
     "text": [
      "<class 'pandas.core.frame.DataFrame'>\n",
      "Int64Index: 12529 entries, 1562164 to 60917863\n",
      "Data columns (total 3 columns):\n",
      " #   Column        Non-Null Count  Dtype         \n",
      "---  ------        --------------  -----         \n",
      " 0   indicator_id  12529 non-null  object        \n",
      " 1   date          12529 non-null  datetime64[ns]\n",
      " 2   value         12529 non-null  float64       \n",
      "dtypes: datetime64[ns](1), float64(1), object(1)\n",
      "memory usage: 391.5+ KB\n"
     ]
    }
   ],
   "source": [
    "denver.info()"
   ]
  },
  {
   "cell_type": "code",
   "execution_count": 24,
   "id": "6fbb3a04-3b54-412a-851f-e4d6a2c1d766",
   "metadata": {},
   "outputs": [
    {
     "data": {
      "text/html": [
       "<div>\n",
       "<style scoped>\n",
       "    .dataframe tbody tr th:only-of-type {\n",
       "        vertical-align: middle;\n",
       "    }\n",
       "\n",
       "    .dataframe tbody tr th {\n",
       "        vertical-align: top;\n",
       "    }\n",
       "\n",
       "    .dataframe thead th {\n",
       "        text-align: right;\n",
       "    }\n",
       "</style>\n",
       "<table border=\"1\" class=\"dataframe\">\n",
       "  <thead>\n",
       "    <tr style=\"text-align: right;\">\n",
       "      <th></th>\n",
       "      <th>value</th>\n",
       "    </tr>\n",
       "  </thead>\n",
       "  <tbody>\n",
       "    <tr>\n",
       "      <th>count</th>\n",
       "      <td>12529.000000</td>\n",
       "    </tr>\n",
       "    <tr>\n",
       "      <th>mean</th>\n",
       "      <td>256107.045145</td>\n",
       "    </tr>\n",
       "    <tr>\n",
       "      <th>std</th>\n",
       "      <td>189693.731182</td>\n",
       "    </tr>\n",
       "    <tr>\n",
       "      <th>min</th>\n",
       "      <td>0.016100</td>\n",
       "    </tr>\n",
       "    <tr>\n",
       "      <th>25%</th>\n",
       "      <td>11877.000000</td>\n",
       "    </tr>\n",
       "    <tr>\n",
       "      <th>50%</th>\n",
       "      <td>254837.000000</td>\n",
       "    </tr>\n",
       "    <tr>\n",
       "      <th>75%</th>\n",
       "      <td>393617.000000</td>\n",
       "    </tr>\n",
       "    <tr>\n",
       "      <th>max</th>\n",
       "      <td>936124.000000</td>\n",
       "    </tr>\n",
       "  </tbody>\n",
       "</table>\n",
       "</div>"
      ],
      "text/plain": [
       "               value\n",
       "count   12529.000000\n",
       "mean   256107.045145\n",
       "std    189693.731182\n",
       "min         0.016100\n",
       "25%     11877.000000\n",
       "50%    254837.000000\n",
       "75%    393617.000000\n",
       "max    936124.000000"
      ]
     },
     "execution_count": 24,
     "metadata": {},
     "output_type": "execute_result"
    }
   ],
   "source": [
    "denver.describe()"
   ]
  },
  {
   "cell_type": "code",
   "execution_count": 41,
   "id": "86b471ed-37cb-41ea-9dd8-2177cedece73",
   "metadata": {},
   "outputs": [
    {
     "name": "stderr",
     "output_type": "stream",
     "text": [
      "/var/folders/lz/08gb56690psggb6cznf0xhwh0000gn/T/ipykernel_23392/3694946034.py:2: SettingWithCopyWarning: \n",
      "A value is trying to be set on a copy of a slice from a DataFrame\n",
      "\n",
      "See the caveats in the documentation: https://pandas.pydata.org/pandas-docs/stable/user_guide/indexing.html#returning-a-view-versus-a-copy\n",
      "  home_values.drop(columns = 'indicator_id', inplace = True)\n",
      "/var/folders/lz/08gb56690psggb6cznf0xhwh0000gn/T/ipykernel_23392/3694946034.py:4: SettingWithCopyWarning: \n",
      "A value is trying to be set on a copy of a slice from a DataFrame\n",
      "\n",
      "See the caveats in the documentation: https://pandas.pydata.org/pandas-docs/stable/user_guide/indexing.html#returning-a-view-versus-a-copy\n",
      "  home_values.sort_index(inplace = True)\n"
     ]
    },
    {
     "data": {
      "text/html": [
       "<div>\n",
       "<style scoped>\n",
       "    .dataframe tbody tr th:only-of-type {\n",
       "        vertical-align: middle;\n",
       "    }\n",
       "\n",
       "    .dataframe tbody tr th {\n",
       "        vertical-align: top;\n",
       "    }\n",
       "\n",
       "    .dataframe thead th {\n",
       "        text-align: right;\n",
       "    }\n",
       "</style>\n",
       "<table border=\"1\" class=\"dataframe\">\n",
       "  <thead>\n",
       "    <tr style=\"text-align: right;\">\n",
       "      <th></th>\n",
       "      <th>value</th>\n",
       "    </tr>\n",
       "  </thead>\n",
       "  <tbody>\n",
       "    <tr>\n",
       "      <th>count</th>\n",
       "      <td>321.000000</td>\n",
       "    </tr>\n",
       "    <tr>\n",
       "      <th>mean</th>\n",
       "      <td>292883.566978</td>\n",
       "    </tr>\n",
       "    <tr>\n",
       "      <th>std</th>\n",
       "      <td>111460.231781</td>\n",
       "    </tr>\n",
       "    <tr>\n",
       "      <th>min</th>\n",
       "      <td>145146.000000</td>\n",
       "    </tr>\n",
       "    <tr>\n",
       "      <th>25%</th>\n",
       "      <td>236881.000000</td>\n",
       "    </tr>\n",
       "    <tr>\n",
       "      <th>50%</th>\n",
       "      <td>255064.000000</td>\n",
       "    </tr>\n",
       "    <tr>\n",
       "      <th>75%</th>\n",
       "      <td>348365.000000</td>\n",
       "    </tr>\n",
       "    <tr>\n",
       "      <th>max</th>\n",
       "      <td>640963.000000</td>\n",
       "    </tr>\n",
       "  </tbody>\n",
       "</table>\n",
       "</div>"
      ],
      "text/plain": [
       "               value\n",
       "count     321.000000\n",
       "mean   292883.566978\n",
       "std    111460.231781\n",
       "min    145146.000000\n",
       "25%    236881.000000\n",
       "50%    255064.000000\n",
       "75%    348365.000000\n",
       "max    640963.000000"
      ]
     },
     "execution_count": 41,
     "metadata": {},
     "output_type": "execute_result"
    }
   ],
   "source": [
    "home_values = denver[denver['indicator_id'] == 'ZALL']\n",
    "home_values.drop(columns = 'indicator_id', inplace = True)\n",
    "home_values.set_index('date', inplace = True)\n",
    "home_values.sort_index(inplace = True)\n",
    "home_values.describe()"
   ]
  },
  {
   "cell_type": "code",
   "execution_count": 42,
   "id": "e0484e55-71e9-432f-9a85-3354a65ad232",
   "metadata": {},
   "outputs": [
    {
     "name": "stderr",
     "output_type": "stream",
     "text": [
      "/var/folders/lz/08gb56690psggb6cznf0xhwh0000gn/T/ipykernel_23392/1854247357.py:2: SettingWithCopyWarning: \n",
      "A value is trying to be set on a copy of a slice from a DataFrame\n",
      "\n",
      "See the caveats in the documentation: https://pandas.pydata.org/pandas-docs/stable/user_guide/indexing.html#returning-a-view-versus-a-copy\n",
      "  median_sale_price.drop(columns = 'indicator_id', inplace = True)\n",
      "/var/folders/lz/08gb56690psggb6cznf0xhwh0000gn/T/ipykernel_23392/1854247357.py:4: SettingWithCopyWarning: \n",
      "A value is trying to be set on a copy of a slice from a DataFrame\n",
      "\n",
      "See the caveats in the documentation: https://pandas.pydata.org/pandas-docs/stable/user_guide/indexing.html#returning-a-view-versus-a-copy\n",
      "  median_sale_price.sort_index(inplace = True)\n"
     ]
    },
    {
     "data": {
      "text/html": [
       "<div>\n",
       "<style scoped>\n",
       "    .dataframe tbody tr th:only-of-type {\n",
       "        vertical-align: middle;\n",
       "    }\n",
       "\n",
       "    .dataframe tbody tr th {\n",
       "        vertical-align: top;\n",
       "    }\n",
       "\n",
       "    .dataframe thead th {\n",
       "        text-align: right;\n",
       "    }\n",
       "</style>\n",
       "<table border=\"1\" class=\"dataframe\">\n",
       "  <thead>\n",
       "    <tr style=\"text-align: right;\">\n",
       "      <th></th>\n",
       "      <th>value</th>\n",
       "    </tr>\n",
       "  </thead>\n",
       "  <tbody>\n",
       "    <tr>\n",
       "      <th>count</th>\n",
       "      <td>175.000000</td>\n",
       "    </tr>\n",
       "    <tr>\n",
       "      <th>mean</th>\n",
       "      <td>339062.234286</td>\n",
       "    </tr>\n",
       "    <tr>\n",
       "      <th>std</th>\n",
       "      <td>105786.597069</td>\n",
       "    </tr>\n",
       "    <tr>\n",
       "      <th>min</th>\n",
       "      <td>220226.000000</td>\n",
       "    </tr>\n",
       "    <tr>\n",
       "      <th>25%</th>\n",
       "      <td>245115.500000</td>\n",
       "    </tr>\n",
       "    <tr>\n",
       "      <th>50%</th>\n",
       "      <td>309876.000000</td>\n",
       "    </tr>\n",
       "    <tr>\n",
       "      <th>75%</th>\n",
       "      <td>415442.000000</td>\n",
       "    </tr>\n",
       "    <tr>\n",
       "      <th>max</th>\n",
       "      <td>611959.000000</td>\n",
       "    </tr>\n",
       "  </tbody>\n",
       "</table>\n",
       "</div>"
      ],
      "text/plain": [
       "               value\n",
       "count     175.000000\n",
       "mean   339062.234286\n",
       "std    105786.597069\n",
       "min    220226.000000\n",
       "25%    245115.500000\n",
       "50%    309876.000000\n",
       "75%    415442.000000\n",
       "max    611959.000000"
      ]
     },
     "execution_count": 42,
     "metadata": {},
     "output_type": "execute_result"
    }
   ],
   "source": [
    "median_sale_price = denver[denver['indicator_id'] == 'SAAM']\n",
    "median_sale_price.drop(columns = 'indicator_id', inplace = True)\n",
    "median_sale_price.set_index('date', inplace = True)\n",
    "median_sale_price.sort_index(inplace = True)\n",
    "median_sale_price.describe()"
   ]
  },
  {
   "cell_type": "code",
   "execution_count": 43,
   "id": "40bc1225-aef0-489b-a3a7-177ea5b03827",
   "metadata": {},
   "outputs": [
    {
     "name": "stderr",
     "output_type": "stream",
     "text": [
      "/var/folders/lz/08gb56690psggb6cznf0xhwh0000gn/T/ipykernel_23392/2229229626.py:2: SettingWithCopyWarning: \n",
      "A value is trying to be set on a copy of a slice from a DataFrame\n",
      "\n",
      "See the caveats in the documentation: https://pandas.pydata.org/pandas-docs/stable/user_guide/indexing.html#returning-a-view-versus-a-copy\n",
      "  rentals.drop(columns = 'indicator_id', inplace = True)\n",
      "/var/folders/lz/08gb56690psggb6cznf0xhwh0000gn/T/ipykernel_23392/2229229626.py:4: SettingWithCopyWarning: \n",
      "A value is trying to be set on a copy of a slice from a DataFrame\n",
      "\n",
      "See the caveats in the documentation: https://pandas.pydata.org/pandas-docs/stable/user_guide/indexing.html#returning-a-view-versus-a-copy\n",
      "  rentals.sort_index(inplace = True)\n"
     ]
    },
    {
     "data": {
      "text/html": [
       "<div>\n",
       "<style scoped>\n",
       "    .dataframe tbody tr th:only-of-type {\n",
       "        vertical-align: middle;\n",
       "    }\n",
       "\n",
       "    .dataframe tbody tr th {\n",
       "        vertical-align: top;\n",
       "    }\n",
       "\n",
       "    .dataframe thead th {\n",
       "        text-align: right;\n",
       "    }\n",
       "</style>\n",
       "<table border=\"1\" class=\"dataframe\">\n",
       "  <thead>\n",
       "    <tr style=\"text-align: right;\">\n",
       "      <th></th>\n",
       "      <th>value</th>\n",
       "    </tr>\n",
       "  </thead>\n",
       "  <tbody>\n",
       "    <tr>\n",
       "      <th>count</th>\n",
       "      <td>103.000000</td>\n",
       "    </tr>\n",
       "    <tr>\n",
       "      <th>mean</th>\n",
       "      <td>1635.368932</td>\n",
       "    </tr>\n",
       "    <tr>\n",
       "      <th>std</th>\n",
       "      <td>167.444810</td>\n",
       "    </tr>\n",
       "    <tr>\n",
       "      <th>min</th>\n",
       "      <td>1236.000000</td>\n",
       "    </tr>\n",
       "    <tr>\n",
       "      <th>25%</th>\n",
       "      <td>1543.500000</td>\n",
       "    </tr>\n",
       "    <tr>\n",
       "      <th>50%</th>\n",
       "      <td>1653.000000</td>\n",
       "    </tr>\n",
       "    <tr>\n",
       "      <th>75%</th>\n",
       "      <td>1742.000000</td>\n",
       "    </tr>\n",
       "    <tr>\n",
       "      <th>max</th>\n",
       "      <td>1990.000000</td>\n",
       "    </tr>\n",
       "  </tbody>\n",
       "</table>\n",
       "</div>"
      ],
      "text/plain": [
       "             value\n",
       "count   103.000000\n",
       "mean   1635.368932\n",
       "std     167.444810\n",
       "min    1236.000000\n",
       "25%    1543.500000\n",
       "50%    1653.000000\n",
       "75%    1742.000000\n",
       "max    1990.000000"
      ]
     },
     "execution_count": 43,
     "metadata": {},
     "output_type": "execute_result"
    }
   ],
   "source": [
    "rentals = denver[denver['indicator_id'] == 'RSSA']\n",
    "rentals.drop(columns = 'indicator_id', inplace = True)\n",
    "rentals.set_index('date', inplace = True)\n",
    "rentals.sort_index(inplace = True)\n",
    "rentals.describe()"
   ]
  },
  {
   "cell_type": "code",
   "execution_count": 37,
   "id": "a4640892-d669-4c22-b7e2-7767f21c4e60",
   "metadata": {},
   "outputs": [
    {
     "data": {
      "image/png": "[encoded data removed]",
      "text/plain": [
       "<Figure size 432x288 with 1 Axes>"
      ]
     },
     "metadata": {
      "needs_background": "light"
     },
     "output_type": "display_data"
    },
    {
     "data": {
      "image/png": "[encoded data removed]",
      "text/plain": [
       "<Figure size 432x288 with 1 Axes>"
      ]
     },
     "metadata": {
      "needs_background": "light"
     },
     "output_type": "display_data"
    },
    {
     "data": {
      "image/png": "[encoded data removed]",
      "text/plain": [
       "<Figure size 432x288 with 1 Axes>"
      ]
     },
     "metadata": {
      "needs_background": "light"
     },
     "output_type": "display_data"
    }
   ],
   "source": [
    "home_values.plot(x = 'date', y = 'value')\n",
    "median_sale_price.plot(x = 'date', y = 'value')\n",
    "rentals.plot(x = 'date', y = 'value');"
   ]
  },
  {
   "cell_type": "markdown",
   "id": "a25baa71-6f67-4fa4-894c-0e820b4bce6d",
   "metadata": {},
   "source": [
    "### Augmented Dickey-Fuller Test"
   ]
  },
  {
   "cell_type": "code",
   "execution_count": 45,
   "id": "073c6335-b8b7-4c6f-9ad5-ec91110d2306",
   "metadata": {},
   "outputs": [],
   "source": [
    "# Code written by Joseph Nelson.\n",
    "\n",
    "def interpret_dftest(dftest):\n",
    "    dfoutput = pd.Series(dftest[0:2], index=['Test Statistic','p-value'])\n",
    "    return dfoutput"
   ]
  },
  {
   "cell_type": "markdown",
   "id": "19951dae-5739-4884-869b-9f677c07df06",
   "metadata": {},
   "source": [
    "#### `home_values` Dataframe"
   ]
  },
  {
   "cell_type": "code",
   "execution_count": 46,
   "id": "111d3e3f-547b-4cc1-9383-0b3317550665",
   "metadata": {},
   "outputs": [
    {
     "data": {
      "text/plain": [
       "Test Statistic    0.626287\n",
       "p-value           0.988246\n",
       "dtype: float64"
      ]
     },
     "execution_count": 46,
     "metadata": {},
     "output_type": "execute_result"
    }
   ],
   "source": [
    "interpret_dftest(adfuller(home_values['value']))"
   ]
  },
  {
   "cell_type": "code",
   "execution_count": 47,
   "id": "ff3d8542-a07c-4321-a2d2-52f18acb375b",
   "metadata": {},
   "outputs": [
    {
     "data": {
      "text/plain": [
       "Test Statistic   -4.622415\n",
       "p-value           0.000117\n",
       "dtype: float64"
      ]
     },
     "execution_count": 47,
     "metadata": {},
     "output_type": "execute_result"
    }
   ],
   "source": [
    "interpret_dftest(adfuller(home_values['value'].diff().dropna()))"
   ]
  },
  {
   "cell_type": "markdown",
   "id": "e4005a80-a92b-4a5c-b8e4-a380ff16979d",
   "metadata": {},
   "source": [
    "This means we set **d = 1** for our ARIMA model for the `home_values` dataframe"
   ]
  },
  {
   "cell_type": "markdown",
   "id": "e9d25600-ffd6-4792-84f1-912020665e3b",
   "metadata": {},
   "source": [
    "#### `median_sale_price` Dataframe"
   ]
  },
  {
   "cell_type": "code",
   "execution_count": 48,
   "id": "05dbb1ba-c45d-40ab-a811-326f72d942e2",
   "metadata": {},
   "outputs": [
    {
     "data": {
      "text/plain": [
       "Test Statistic    1.633029\n",
       "p-value           0.997953\n",
       "dtype: float64"
      ]
     },
     "execution_count": 48,
     "metadata": {},
     "output_type": "execute_result"
    }
   ],
   "source": [
    "interpret_dftest(adfuller(median_sale_price['value']))"
   ]
  },
  {
   "cell_type": "code",
   "execution_count": 53,
   "id": "85a862ef-ca12-430d-98a8-73249ca23a85",
   "metadata": {},
   "outputs": [
    {
     "data": {
      "text/plain": [
       "Test Statistic   -2.706878\n",
       "p-value           0.072856\n",
       "dtype: float64"
      ]
     },
     "execution_count": 53,
     "metadata": {},
     "output_type": "execute_result"
    }
   ],
   "source": [
    "interpret_dftest(adfuller(median_sale_price['value'].diff().dropna()))"
   ]
  },
  {
   "cell_type": "code",
   "execution_count": 54,
   "id": "c9b83970-493c-4263-a5b7-17899b4ecaf7",
   "metadata": {},
   "outputs": [
    {
     "data": {
      "text/plain": [
       "Test Statistic   -3.094750\n",
       "p-value           0.026944\n",
       "dtype: float64"
      ]
     },
     "execution_count": 54,
     "metadata": {},
     "output_type": "execute_result"
    }
   ],
   "source": [
    "interpret_dftest(adfuller(median_sale_price['value'].diff().diff().dropna()))"
   ]
  },
  {
   "cell_type": "code",
   "execution_count": 56,
   "id": "5245cbac-0747-452e-a489-87583d69e14a",
   "metadata": {},
   "outputs": [
    {
     "data": {
      "text/plain": [
       "Test Statistic   -7.907138e+00\n",
       "p-value           4.038320e-12\n",
       "dtype: float64"
      ]
     },
     "execution_count": 56,
     "metadata": {},
     "output_type": "execute_result"
    }
   ],
   "source": [
    "interpret_dftest(adfuller(median_sale_price['value'].diff().diff().diff().dropna()))"
   ]
  },
  {
   "cell_type": "markdown",
   "id": "d30ff567-ede3-4742-9ff6-7efa661379ab",
   "metadata": {},
   "source": [
    "This means we set **d = 3** for our ARIMA model for the `median_sale_price` dataframe"
   ]
  },
  {
   "cell_type": "markdown",
   "id": "0e047ba3-a6e0-4c6b-92c4-908784735bfa",
   "metadata": {},
   "source": [
    "#### `rentals` Dataframe"
   ]
  },
  {
   "cell_type": "code",
   "execution_count": 50,
   "id": "5fc802d4-83ab-4544-a8b8-65eeb650c653",
   "metadata": {},
   "outputs": [
    {
     "data": {
      "text/plain": [
       "Test Statistic   -0.271702\n",
       "p-value           0.929418\n",
       "dtype: float64"
      ]
     },
     "execution_count": 50,
     "metadata": {},
     "output_type": "execute_result"
    }
   ],
   "source": [
    "interpret_dftest(adfuller(rentals['value']))"
   ]
  },
  {
   "cell_type": "code",
   "execution_count": 57,
   "id": "a382a349-172b-46f6-8e5e-f8dae02c7bef",
   "metadata": {},
   "outputs": [
    {
     "data": {
      "text/plain": [
       "Test Statistic   -3.330890\n",
       "p-value           0.013553\n",
       "dtype: float64"
      ]
     },
     "execution_count": 57,
     "metadata": {},
     "output_type": "execute_result"
    }
   ],
   "source": [
    "interpret_dftest(adfuller(rentals['value'].diff().dropna()))"
   ]
  },
  {
   "cell_type": "code",
   "execution_count": 58,
   "id": "3b445da1-b444-439b-bb9a-86c8b8ddce6e",
   "metadata": {},
   "outputs": [
    {
     "data": {
      "text/plain": [
       "Test Statistic   -4.644712\n",
       "p-value           0.000107\n",
       "dtype: float64"
      ]
     },
     "execution_count": 58,
     "metadata": {},
     "output_type": "execute_result"
    }
   ],
   "source": [
    "interpret_dftest(adfuller(rentals['value'].diff().diff().dropna()))"
   ]
  },
  {
   "cell_type": "markdown",
   "id": "47bb9f2e-8d8d-4736-9336-83ce900042fb",
   "metadata": {},
   "source": [
    "This means we set **d = 2** for our ARIMA model for the `rentals` dataframe"
   ]
  },
  {
   "cell_type": "markdown",
   "id": "40019f3a-0774-4caa-932c-706c39216ad3",
   "metadata": {},
   "source": [
    "### ARIMA Models"
   ]
  },
  {
   "cell_type": "markdown",
   "id": "c9c80c3e-dd9f-4553-bc19-88a878102aca",
   "metadata": {},
   "source": [
    "#### `home_values` Dataframe"
   ]
  },
  {
   "cell_type": "code",
   "execution_count": 61,
   "id": "20f98031-9229-4e0f-8651-a1ca290ab613",
   "metadata": {},
   "outputs": [],
   "source": [
    "# Create train-test split.\n",
    "hv_y_train, hv_y_test = train_test_split(home_values['value'], test_size = 0.1, shuffle = False)"
   ]
  },
  {
   "cell_type": "code",
   "execution_count": 62,
   "id": "988d31c1-e563-424b-9a99-4e35fc7cc6d7",
   "metadata": {},
   "outputs": [
    {
     "data": {
      "text/plain": [
       "date\n",
       "2019-08-31    440925.0\n",
       "2019-09-30    441693.0\n",
       "2019-10-31    442488.0\n",
       "2019-11-30    443144.0\n",
       "2019-12-31    444552.0\n",
       "Name: value, dtype: float64"
      ]
     },
     "execution_count": 62,
     "metadata": {},
     "output_type": "execute_result"
    }
   ],
   "source": [
    "hv_y_train.tail()"
   ]
  },
  {
   "cell_type": "code",
   "execution_count": 63,
   "id": "2e4bbbbf-edc7-4866-9a72-3dac757cbba8",
   "metadata": {},
   "outputs": [
    {
     "data": {
      "text/plain": [
       "date\n",
       "2020-01-31    446463.0\n",
       "2020-02-29    448098.0\n",
       "2020-03-31    447811.0\n",
       "2020-04-30    449402.0\n",
       "2020-05-31    451486.0\n",
       "Name: value, dtype: float64"
      ]
     },
     "execution_count": 63,
     "metadata": {},
     "output_type": "execute_result"
    }
   ],
   "source": [
    "hv_y_test.head()"
   ]
  },
  {
   "cell_type": "code",
   "execution_count": 64,
   "id": "abcbb74a-893b-4ac5-b6ce-04dd8b501efe",
   "metadata": {
    "scrolled": true,
    "tags": []
   },
   "outputs": [
    {
     "name": "stdout",
     "output_type": "stream",
     "text": [
      "Attempting ARIMA(0, 1, 0)\n",
      "The AIC for ARIMA(0,1,0) is: 5065.257257165042\n",
      "Attempting ARIMA(0, 1, 1)\n"
     ]
    },
    {
     "name": "stderr",
     "output_type": "stream",
     "text": [
      "/Users/lmarett8/opt/anaconda3/lib/python3.9/site-packages/statsmodels/tsa/base/tsa_model.py:471: ValueWarning: No frequency information was provided, so inferred frequency M will be used.\n",
      "  self._init_dates(dates, freq)\n",
      "/Users/lmarett8/opt/anaconda3/lib/python3.9/site-packages/statsmodels/tsa/base/tsa_model.py:471: ValueWarning: No frequency information was provided, so inferred frequency M will be used.\n",
      "  self._init_dates(dates, freq)\n",
      "/Users/lmarett8/opt/anaconda3/lib/python3.9/site-packages/statsmodels/tsa/base/tsa_model.py:471: ValueWarning: No frequency information was provided, so inferred frequency M will be used.\n",
      "  self._init_dates(dates, freq)\n",
      "/Users/lmarett8/opt/anaconda3/lib/python3.9/site-packages/statsmodels/tsa/base/tsa_model.py:471: ValueWarning: No frequency information was provided, so inferred frequency M will be used.\n",
      "  self._init_dates(dates, freq)\n",
      "/Users/lmarett8/opt/anaconda3/lib/python3.9/site-packages/statsmodels/tsa/base/tsa_model.py:471: ValueWarning: No frequency information was provided, so inferred frequency M will be used.\n",
      "  self._init_dates(dates, freq)\n",
      "/Users/lmarett8/opt/anaconda3/lib/python3.9/site-packages/statsmodels/tsa/base/tsa_model.py:471: ValueWarning: No frequency information was provided, so inferred frequency M will be used.\n",
      "  self._init_dates(dates, freq)\n",
      "/Users/lmarett8/opt/anaconda3/lib/python3.9/site-packages/statsmodels/tsa/statespace/sarimax.py:978: UserWarning: Non-invertible starting MA parameters found. Using zeros as starting parameters.\n",
      "  warn('Non-invertible starting MA parameters found.'\n"
     ]
    },
    {
     "name": "stdout",
     "output_type": "stream",
     "text": [
      "The AIC for ARIMA(0,1,1) is: 5048.165079522984\n",
      "Attempting ARIMA(0, 1, 2)\n",
      "The AIC for ARIMA(0,1,2) is: 5033.897878620235\n",
      "Attempting ARIMA(0, 1, 3)\n",
      "The AIC for ARIMA(0,1,3) is: 5025.580787420315\n",
      "Attempting ARIMA(0, 1, 4)\n",
      "The AIC for ARIMA(0,1,4) is: 5017.39780562056\n",
      "Attempting ARIMA(1, 1, 0)\n"
     ]
    },
    {
     "name": "stderr",
     "output_type": "stream",
     "text": [
      "/Users/lmarett8/opt/anaconda3/lib/python3.9/site-packages/statsmodels/tsa/base/tsa_model.py:471: ValueWarning: No frequency information was provided, so inferred frequency M will be used.\n",
      "  self._init_dates(dates, freq)\n",
      "/Users/lmarett8/opt/anaconda3/lib/python3.9/site-packages/statsmodels/tsa/base/tsa_model.py:471: ValueWarning: No frequency information was provided, so inferred frequency M will be used.\n",
      "  self._init_dates(dates, freq)\n",
      "/Users/lmarett8/opt/anaconda3/lib/python3.9/site-packages/statsmodels/tsa/base/tsa_model.py:471: ValueWarning: No frequency information was provided, so inferred frequency M will be used.\n",
      "  self._init_dates(dates, freq)\n",
      "/Users/lmarett8/opt/anaconda3/lib/python3.9/site-packages/statsmodels/tsa/statespace/sarimax.py:978: UserWarning: Non-invertible starting MA parameters found. Using zeros as starting parameters.\n",
      "  warn('Non-invertible starting MA parameters found.'\n",
      "/Users/lmarett8/opt/anaconda3/lib/python3.9/site-packages/statsmodels/tsa/base/tsa_model.py:471: ValueWarning: No frequency information was provided, so inferred frequency M will be used.\n",
      "  self._init_dates(dates, freq)\n",
      "/Users/lmarett8/opt/anaconda3/lib/python3.9/site-packages/statsmodels/tsa/base/tsa_model.py:471: ValueWarning: No frequency information was provided, so inferred frequency M will be used.\n",
      "  self._init_dates(dates, freq)\n",
      "/Users/lmarett8/opt/anaconda3/lib/python3.9/site-packages/statsmodels/tsa/base/tsa_model.py:471: ValueWarning: No frequency information was provided, so inferred frequency M will be used.\n",
      "  self._init_dates(dates, freq)\n",
      "/Users/lmarett8/opt/anaconda3/lib/python3.9/site-packages/statsmodels/tsa/statespace/sarimax.py:978: UserWarning: Non-invertible starting MA parameters found. Using zeros as starting parameters.\n",
      "  warn('Non-invertible starting MA parameters found.'\n",
      "/Users/lmarett8/opt/anaconda3/lib/python3.9/site-packages/statsmodels/tsa/base/tsa_model.py:471: ValueWarning: No frequency information was provided, so inferred frequency M will be used.\n",
      "  self._init_dates(dates, freq)\n",
      "/Users/lmarett8/opt/anaconda3/lib/python3.9/site-packages/statsmodels/tsa/base/tsa_model.py:471: ValueWarning: No frequency information was provided, so inferred frequency M will be used.\n",
      "  self._init_dates(dates, freq)\n",
      "/Users/lmarett8/opt/anaconda3/lib/python3.9/site-packages/statsmodels/tsa/base/tsa_model.py:471: ValueWarning: No frequency information was provided, so inferred frequency M will be used.\n",
      "  self._init_dates(dates, freq)\n",
      "/Users/lmarett8/opt/anaconda3/lib/python3.9/site-packages/statsmodels/tsa/statespace/sarimax.py:978: UserWarning: Non-invertible starting MA parameters found. Using zeros as starting parameters.\n",
      "  warn('Non-invertible starting MA parameters found.'\n",
      "/Users/lmarett8/opt/anaconda3/lib/python3.9/site-packages/statsmodels/tsa/base/tsa_model.py:471: ValueWarning: No frequency information was provided, so inferred frequency M will be used.\n",
      "  self._init_dates(dates, freq)\n",
      "/Users/lmarett8/opt/anaconda3/lib/python3.9/site-packages/statsmodels/tsa/base/tsa_model.py:471: ValueWarning: No frequency information was provided, so inferred frequency M will be used.\n",
      "  self._init_dates(dates, freq)\n",
      "/Users/lmarett8/opt/anaconda3/lib/python3.9/site-packages/statsmodels/tsa/base/tsa_model.py:471: ValueWarning: No frequency information was provided, so inferred frequency M will be used.\n",
      "  self._init_dates(dates, freq)\n"
     ]
    },
    {
     "name": "stdout",
     "output_type": "stream",
     "text": [
      "The AIC for ARIMA(1,1,0) is: 6037.158119873783\n",
      "Attempting ARIMA(1, 1, 1)\n",
      "The AIC for ARIMA(1,1,1) is: 4841.062759887951\n",
      "Attempting ARIMA(1, 1, 2)\n"
     ]
    },
    {
     "name": "stderr",
     "output_type": "stream",
     "text": [
      "/Users/lmarett8/opt/anaconda3/lib/python3.9/site-packages/statsmodels/tsa/base/tsa_model.py:471: ValueWarning: No frequency information was provided, so inferred frequency M will be used.\n",
      "  self._init_dates(dates, freq)\n",
      "/Users/lmarett8/opt/anaconda3/lib/python3.9/site-packages/statsmodels/tsa/base/tsa_model.py:471: ValueWarning: No frequency information was provided, so inferred frequency M will be used.\n",
      "  self._init_dates(dates, freq)\n",
      "/Users/lmarett8/opt/anaconda3/lib/python3.9/site-packages/statsmodels/tsa/base/tsa_model.py:471: ValueWarning: No frequency information was provided, so inferred frequency M will be used.\n",
      "  self._init_dates(dates, freq)\n",
      "/Users/lmarett8/opt/anaconda3/lib/python3.9/site-packages/statsmodels/tsa/base/tsa_model.py:471: ValueWarning: No frequency information was provided, so inferred frequency M will be used.\n",
      "  self._init_dates(dates, freq)\n",
      "/Users/lmarett8/opt/anaconda3/lib/python3.9/site-packages/statsmodels/tsa/base/tsa_model.py:471: ValueWarning: No frequency information was provided, so inferred frequency M will be used.\n",
      "  self._init_dates(dates, freq)\n",
      "/Users/lmarett8/opt/anaconda3/lib/python3.9/site-packages/statsmodels/tsa/base/tsa_model.py:471: ValueWarning: No frequency information was provided, so inferred frequency M will be used.\n",
      "  self._init_dates(dates, freq)\n"
     ]
    },
    {
     "name": "stdout",
     "output_type": "stream",
     "text": [
      "The AIC for ARIMA(1,1,2) is: 4842.847471567882\n",
      "Attempting ARIMA(1, 1, 3)\n"
     ]
    },
    {
     "name": "stderr",
     "output_type": "stream",
     "text": [
      "/Users/lmarett8/opt/anaconda3/lib/python3.9/site-packages/statsmodels/tsa/base/tsa_model.py:471: ValueWarning: No frequency information was provided, so inferred frequency M will be used.\n",
      "  self._init_dates(dates, freq)\n",
      "/Users/lmarett8/opt/anaconda3/lib/python3.9/site-packages/statsmodels/tsa/base/tsa_model.py:471: ValueWarning: No frequency information was provided, so inferred frequency M will be used.\n",
      "  self._init_dates(dates, freq)\n",
      "/Users/lmarett8/opt/anaconda3/lib/python3.9/site-packages/statsmodels/tsa/base/tsa_model.py:471: ValueWarning: No frequency information was provided, so inferred frequency M will be used.\n",
      "  self._init_dates(dates, freq)\n",
      "/Users/lmarett8/opt/anaconda3/lib/python3.9/site-packages/statsmodels/base/model.py:604: ConvergenceWarning: Maximum Likelihood optimization failed to converge. Check mle_retvals\n",
      "  warnings.warn(\"Maximum Likelihood optimization failed to \"\n",
      "/Users/lmarett8/opt/anaconda3/lib/python3.9/site-packages/statsmodels/tsa/base/tsa_model.py:471: ValueWarning: No frequency information was provided, so inferred frequency M will be used.\n",
      "  self._init_dates(dates, freq)\n",
      "/Users/lmarett8/opt/anaconda3/lib/python3.9/site-packages/statsmodels/tsa/base/tsa_model.py:471: ValueWarning: No frequency information was provided, so inferred frequency M will be used.\n",
      "  self._init_dates(dates, freq)\n",
      "/Users/lmarett8/opt/anaconda3/lib/python3.9/site-packages/statsmodels/tsa/base/tsa_model.py:471: ValueWarning: No frequency information was provided, so inferred frequency M will be used.\n",
      "  self._init_dates(dates, freq)\n"
     ]
    },
    {
     "name": "stdout",
     "output_type": "stream",
     "text": [
      "The AIC for ARIMA(1,1,3) is: 4888.081865227987\n",
      "Attempting ARIMA(1, 1, 4)\n"
     ]
    },
    {
     "name": "stderr",
     "output_type": "stream",
     "text": [
      "/Users/lmarett8/opt/anaconda3/lib/python3.9/site-packages/statsmodels/base/model.py:604: ConvergenceWarning: Maximum Likelihood optimization failed to converge. Check mle_retvals\n",
      "  warnings.warn(\"Maximum Likelihood optimization failed to \"\n",
      "/Users/lmarett8/opt/anaconda3/lib/python3.9/site-packages/statsmodels/tsa/base/tsa_model.py:471: ValueWarning: No frequency information was provided, so inferred frequency M will be used.\n",
      "  self._init_dates(dates, freq)\n",
      "/Users/lmarett8/opt/anaconda3/lib/python3.9/site-packages/statsmodels/tsa/base/tsa_model.py:471: ValueWarning: No frequency information was provided, so inferred frequency M will be used.\n",
      "  self._init_dates(dates, freq)\n",
      "/Users/lmarett8/opt/anaconda3/lib/python3.9/site-packages/statsmodels/tsa/base/tsa_model.py:471: ValueWarning: No frequency information was provided, so inferred frequency M will be used.\n",
      "  self._init_dates(dates, freq)\n",
      "/Users/lmarett8/opt/anaconda3/lib/python3.9/site-packages/statsmodels/tsa/base/tsa_model.py:471: ValueWarning: No frequency information was provided, so inferred frequency M will be used.\n",
      "  self._init_dates(dates, freq)\n",
      "/Users/lmarett8/opt/anaconda3/lib/python3.9/site-packages/statsmodels/tsa/base/tsa_model.py:471: ValueWarning: No frequency information was provided, so inferred frequency M will be used.\n",
      "  self._init_dates(dates, freq)\n",
      "/Users/lmarett8/opt/anaconda3/lib/python3.9/site-packages/statsmodels/tsa/base/tsa_model.py:471: ValueWarning: No frequency information was provided, so inferred frequency M will be used.\n",
      "  self._init_dates(dates, freq)\n"
     ]
    },
    {
     "name": "stdout",
     "output_type": "stream",
     "text": [
      "The AIC for ARIMA(1,1,4) is: 4889.369357427438\n",
      "Attempting ARIMA(2, 1, 0)\n",
      "The AIC for ARIMA(2,1,0) is: 5027.716487808263\n",
      "Attempting ARIMA(2, 1, 1)\n",
      "The AIC for ARIMA(2,1,1) is: 4842.8460052890305\n",
      "Attempting ARIMA(2, 1, 2)\n",
      "The AIC for ARIMA(2,1,2) is: 5163.372891466655\n",
      "Attempting ARIMA(2, 1, 3)\n"
     ]
    },
    {
     "name": "stderr",
     "output_type": "stream",
     "text": [
      "/Users/lmarett8/opt/anaconda3/lib/python3.9/site-packages/statsmodels/tsa/base/tsa_model.py:471: ValueWarning: No frequency information was provided, so inferred frequency M will be used.\n",
      "  self._init_dates(dates, freq)\n",
      "/Users/lmarett8/opt/anaconda3/lib/python3.9/site-packages/statsmodels/tsa/base/tsa_model.py:471: ValueWarning: No frequency information was provided, so inferred frequency M will be used.\n",
      "  self._init_dates(dates, freq)\n",
      "/Users/lmarett8/opt/anaconda3/lib/python3.9/site-packages/statsmodels/tsa/base/tsa_model.py:471: ValueWarning: No frequency information was provided, so inferred frequency M will be used.\n",
      "  self._init_dates(dates, freq)\n",
      "/Users/lmarett8/opt/anaconda3/lib/python3.9/site-packages/statsmodels/base/model.py:604: ConvergenceWarning: Maximum Likelihood optimization failed to converge. Check mle_retvals\n",
      "  warnings.warn(\"Maximum Likelihood optimization failed to \"\n",
      "/Users/lmarett8/opt/anaconda3/lib/python3.9/site-packages/statsmodels/tsa/base/tsa_model.py:471: ValueWarning: No frequency information was provided, so inferred frequency M will be used.\n",
      "  self._init_dates(dates, freq)\n",
      "/Users/lmarett8/opt/anaconda3/lib/python3.9/site-packages/statsmodels/tsa/base/tsa_model.py:471: ValueWarning: No frequency information was provided, so inferred frequency M will be used.\n",
      "  self._init_dates(dates, freq)\n",
      "/Users/lmarett8/opt/anaconda3/lib/python3.9/site-packages/statsmodels/tsa/base/tsa_model.py:471: ValueWarning: No frequency information was provided, so inferred frequency M will be used.\n",
      "  self._init_dates(dates, freq)\n",
      "/Users/lmarett8/opt/anaconda3/lib/python3.9/site-packages/statsmodels/base/model.py:604: ConvergenceWarning: Maximum Likelihood optimization failed to converge. Check mle_retvals\n",
      "  warnings.warn(\"Maximum Likelihood optimization failed to \"\n",
      "/Users/lmarett8/opt/anaconda3/lib/python3.9/site-packages/statsmodels/tsa/base/tsa_model.py:471: ValueWarning: No frequency information was provided, so inferred frequency M will be used.\n",
      "  self._init_dates(dates, freq)\n",
      "/Users/lmarett8/opt/anaconda3/lib/python3.9/site-packages/statsmodels/tsa/base/tsa_model.py:471: ValueWarning: No frequency information was provided, so inferred frequency M will be used.\n",
      "  self._init_dates(dates, freq)\n",
      "/Users/lmarett8/opt/anaconda3/lib/python3.9/site-packages/statsmodels/tsa/base/tsa_model.py:471: ValueWarning: No frequency information was provided, so inferred frequency M will be used.\n",
      "  self._init_dates(dates, freq)\n"
     ]
    },
    {
     "name": "stdout",
     "output_type": "stream",
     "text": [
      "The AIC for ARIMA(2,1,3) is: 4849.245351036916\n",
      "Attempting ARIMA(2, 1, 4)\n"
     ]
    },
    {
     "name": "stderr",
     "output_type": "stream",
     "text": [
      "/Users/lmarett8/opt/anaconda3/lib/python3.9/site-packages/statsmodels/base/model.py:604: ConvergenceWarning: Maximum Likelihood optimization failed to converge. Check mle_retvals\n",
      "  warnings.warn(\"Maximum Likelihood optimization failed to \"\n",
      "/Users/lmarett8/opt/anaconda3/lib/python3.9/site-packages/statsmodels/tsa/base/tsa_model.py:471: ValueWarning: No frequency information was provided, so inferred frequency M will be used.\n",
      "  self._init_dates(dates, freq)\n",
      "/Users/lmarett8/opt/anaconda3/lib/python3.9/site-packages/statsmodels/tsa/base/tsa_model.py:471: ValueWarning: No frequency information was provided, so inferred frequency M will be used.\n",
      "  self._init_dates(dates, freq)\n",
      "/Users/lmarett8/opt/anaconda3/lib/python3.9/site-packages/statsmodels/tsa/base/tsa_model.py:471: ValueWarning: No frequency information was provided, so inferred frequency M will be used.\n",
      "  self._init_dates(dates, freq)\n",
      "/Users/lmarett8/opt/anaconda3/lib/python3.9/site-packages/statsmodels/tsa/base/tsa_model.py:471: ValueWarning: No frequency information was provided, so inferred frequency M will be used.\n",
      "  self._init_dates(dates, freq)\n",
      "/Users/lmarett8/opt/anaconda3/lib/python3.9/site-packages/statsmodels/tsa/base/tsa_model.py:471: ValueWarning: No frequency information was provided, so inferred frequency M will be used.\n",
      "  self._init_dates(dates, freq)\n",
      "/Users/lmarett8/opt/anaconda3/lib/python3.9/site-packages/statsmodels/tsa/base/tsa_model.py:471: ValueWarning: No frequency information was provided, so inferred frequency M will be used.\n",
      "  self._init_dates(dates, freq)\n"
     ]
    },
    {
     "name": "stdout",
     "output_type": "stream",
     "text": [
      "The AIC for ARIMA(2,1,4) is: 4854.655650404087\n",
      "Attempting ARIMA(3, 1, 0)\n",
      "The AIC for ARIMA(3,1,0) is: 5010.643993708702\n",
      "Attempting ARIMA(3, 1, 1)\n",
      "The AIC for ARIMA(3,1,1) is: 4844.793608075276\n",
      "Attempting ARIMA(3, 1, 2)\n"
     ]
    },
    {
     "name": "stderr",
     "output_type": "stream",
     "text": [
      "/Users/lmarett8/opt/anaconda3/lib/python3.9/site-packages/statsmodels/tsa/base/tsa_model.py:471: ValueWarning: No frequency information was provided, so inferred frequency M will be used.\n",
      "  self._init_dates(dates, freq)\n",
      "/Users/lmarett8/opt/anaconda3/lib/python3.9/site-packages/statsmodels/tsa/base/tsa_model.py:471: ValueWarning: No frequency information was provided, so inferred frequency M will be used.\n",
      "  self._init_dates(dates, freq)\n",
      "/Users/lmarett8/opt/anaconda3/lib/python3.9/site-packages/statsmodels/tsa/base/tsa_model.py:471: ValueWarning: No frequency information was provided, so inferred frequency M will be used.\n",
      "  self._init_dates(dates, freq)\n",
      "/Users/lmarett8/opt/anaconda3/lib/python3.9/site-packages/statsmodels/base/model.py:604: ConvergenceWarning: Maximum Likelihood optimization failed to converge. Check mle_retvals\n",
      "  warnings.warn(\"Maximum Likelihood optimization failed to \"\n",
      "/Users/lmarett8/opt/anaconda3/lib/python3.9/site-packages/statsmodels/tsa/base/tsa_model.py:471: ValueWarning: No frequency information was provided, so inferred frequency M will be used.\n",
      "  self._init_dates(dates, freq)\n",
      "/Users/lmarett8/opt/anaconda3/lib/python3.9/site-packages/statsmodels/tsa/base/tsa_model.py:471: ValueWarning: No frequency information was provided, so inferred frequency M will be used.\n",
      "  self._init_dates(dates, freq)\n",
      "/Users/lmarett8/opt/anaconda3/lib/python3.9/site-packages/statsmodels/tsa/base/tsa_model.py:471: ValueWarning: No frequency information was provided, so inferred frequency M will be used.\n",
      "  self._init_dates(dates, freq)\n"
     ]
    },
    {
     "name": "stdout",
     "output_type": "stream",
     "text": [
      "The AIC for ARIMA(3,1,2) is: 4900.770730487389\n",
      "Attempting ARIMA(3, 1, 3)\n"
     ]
    },
    {
     "name": "stderr",
     "output_type": "stream",
     "text": [
      "/Users/lmarett8/opt/anaconda3/lib/python3.9/site-packages/statsmodels/base/model.py:604: ConvergenceWarning: Maximum Likelihood optimization failed to converge. Check mle_retvals\n",
      "  warnings.warn(\"Maximum Likelihood optimization failed to \"\n",
      "/Users/lmarett8/opt/anaconda3/lib/python3.9/site-packages/statsmodels/tsa/base/tsa_model.py:471: ValueWarning: No frequency information was provided, so inferred frequency M will be used.\n",
      "  self._init_dates(dates, freq)\n",
      "/Users/lmarett8/opt/anaconda3/lib/python3.9/site-packages/statsmodels/tsa/base/tsa_model.py:471: ValueWarning: No frequency information was provided, so inferred frequency M will be used.\n",
      "  self._init_dates(dates, freq)\n",
      "/Users/lmarett8/opt/anaconda3/lib/python3.9/site-packages/statsmodels/tsa/base/tsa_model.py:471: ValueWarning: No frequency information was provided, so inferred frequency M will be used.\n",
      "  self._init_dates(dates, freq)\n"
     ]
    },
    {
     "name": "stdout",
     "output_type": "stream",
     "text": [
      "The AIC for ARIMA(3,1,3) is: 5240.086116389929\n",
      "Attempting ARIMA(3, 1, 4)\n"
     ]
    },
    {
     "name": "stderr",
     "output_type": "stream",
     "text": [
      "/Users/lmarett8/opt/anaconda3/lib/python3.9/site-packages/statsmodels/base/model.py:604: ConvergenceWarning: Maximum Likelihood optimization failed to converge. Check mle_retvals\n",
      "  warnings.warn(\"Maximum Likelihood optimization failed to \"\n",
      "/Users/lmarett8/opt/anaconda3/lib/python3.9/site-packages/statsmodels/tsa/base/tsa_model.py:471: ValueWarning: No frequency information was provided, so inferred frequency M will be used.\n",
      "  self._init_dates(dates, freq)\n",
      "/Users/lmarett8/opt/anaconda3/lib/python3.9/site-packages/statsmodels/tsa/base/tsa_model.py:471: ValueWarning: No frequency information was provided, so inferred frequency M will be used.\n",
      "  self._init_dates(dates, freq)\n",
      "/Users/lmarett8/opt/anaconda3/lib/python3.9/site-packages/statsmodels/tsa/base/tsa_model.py:471: ValueWarning: No frequency information was provided, so inferred frequency M will be used.\n",
      "  self._init_dates(dates, freq)\n",
      "/Users/lmarett8/opt/anaconda3/lib/python3.9/site-packages/statsmodels/tsa/base/tsa_model.py:471: ValueWarning: No frequency information was provided, so inferred frequency M will be used.\n",
      "  self._init_dates(dates, freq)\n",
      "/Users/lmarett8/opt/anaconda3/lib/python3.9/site-packages/statsmodels/tsa/base/tsa_model.py:471: ValueWarning: No frequency information was provided, so inferred frequency M will be used.\n",
      "  self._init_dates(dates, freq)\n",
      "/Users/lmarett8/opt/anaconda3/lib/python3.9/site-packages/statsmodels/tsa/base/tsa_model.py:471: ValueWarning: No frequency information was provided, so inferred frequency M will be used.\n",
      "  self._init_dates(dates, freq)\n"
     ]
    },
    {
     "name": "stdout",
     "output_type": "stream",
     "text": [
      "The AIC for ARIMA(3,1,4) is: 5057.974782305333\n",
      "Attempting ARIMA(4, 1, 0)\n",
      "The AIC for ARIMA(4,1,0) is: 4996.18431319774\n",
      "Attempting ARIMA(4, 1, 1)\n"
     ]
    },
    {
     "name": "stderr",
     "output_type": "stream",
     "text": [
      "/Users/lmarett8/opt/anaconda3/lib/python3.9/site-packages/statsmodels/base/model.py:604: ConvergenceWarning: Maximum Likelihood optimization failed to converge. Check mle_retvals\n",
      "  warnings.warn(\"Maximum Likelihood optimization failed to \"\n",
      "/Users/lmarett8/opt/anaconda3/lib/python3.9/site-packages/statsmodels/tsa/base/tsa_model.py:471: ValueWarning: No frequency information was provided, so inferred frequency M will be used.\n",
      "  self._init_dates(dates, freq)\n",
      "/Users/lmarett8/opt/anaconda3/lib/python3.9/site-packages/statsmodels/tsa/base/tsa_model.py:471: ValueWarning: No frequency information was provided, so inferred frequency M will be used.\n",
      "  self._init_dates(dates, freq)\n",
      "/Users/lmarett8/opt/anaconda3/lib/python3.9/site-packages/statsmodels/tsa/base/tsa_model.py:471: ValueWarning: No frequency information was provided, so inferred frequency M will be used.\n",
      "  self._init_dates(dates, freq)\n"
     ]
    },
    {
     "name": "stdout",
     "output_type": "stream",
     "text": [
      "The AIC for ARIMA(4,1,1) is: 4846.5644814410725\n",
      "Attempting ARIMA(4, 1, 2)\n"
     ]
    },
    {
     "name": "stderr",
     "output_type": "stream",
     "text": [
      "/Users/lmarett8/opt/anaconda3/lib/python3.9/site-packages/statsmodels/base/model.py:604: ConvergenceWarning: Maximum Likelihood optimization failed to converge. Check mle_retvals\n",
      "  warnings.warn(\"Maximum Likelihood optimization failed to \"\n",
      "/Users/lmarett8/opt/anaconda3/lib/python3.9/site-packages/statsmodels/tsa/base/tsa_model.py:471: ValueWarning: No frequency information was provided, so inferred frequency M will be used.\n",
      "  self._init_dates(dates, freq)\n",
      "/Users/lmarett8/opt/anaconda3/lib/python3.9/site-packages/statsmodels/tsa/base/tsa_model.py:471: ValueWarning: No frequency information was provided, so inferred frequency M will be used.\n",
      "  self._init_dates(dates, freq)\n",
      "/Users/lmarett8/opt/anaconda3/lib/python3.9/site-packages/statsmodels/tsa/base/tsa_model.py:471: ValueWarning: No frequency information was provided, so inferred frequency M will be used.\n",
      "  self._init_dates(dates, freq)\n"
     ]
    },
    {
     "name": "stdout",
     "output_type": "stream",
     "text": [
      "The AIC for ARIMA(4,1,2) is: 4910.571951033888\n",
      "Attempting ARIMA(4, 1, 3)\n"
     ]
    },
    {
     "name": "stderr",
     "output_type": "stream",
     "text": [
      "/Users/lmarett8/opt/anaconda3/lib/python3.9/site-packages/statsmodels/base/model.py:604: ConvergenceWarning: Maximum Likelihood optimization failed to converge. Check mle_retvals\n",
      "  warnings.warn(\"Maximum Likelihood optimization failed to \"\n",
      "/Users/lmarett8/opt/anaconda3/lib/python3.9/site-packages/statsmodels/tsa/base/tsa_model.py:471: ValueWarning: No frequency information was provided, so inferred frequency M will be used.\n",
      "  self._init_dates(dates, freq)\n",
      "/Users/lmarett8/opt/anaconda3/lib/python3.9/site-packages/statsmodels/tsa/base/tsa_model.py:471: ValueWarning: No frequency information was provided, so inferred frequency M will be used.\n",
      "  self._init_dates(dates, freq)\n",
      "/Users/lmarett8/opt/anaconda3/lib/python3.9/site-packages/statsmodels/tsa/base/tsa_model.py:471: ValueWarning: No frequency information was provided, so inferred frequency M will be used.\n",
      "  self._init_dates(dates, freq)\n"
     ]
    },
    {
     "name": "stdout",
     "output_type": "stream",
     "text": [
      "The AIC for ARIMA(4,1,3) is: 5252.225405308145\n",
      "Attempting ARIMA(4, 1, 4)\n",
      "The AIC for ARIMA(4,1,4) is: 5238.5849431862525\n",
      "\n",
      "\n",
      "MODEL FINISHED!\n",
      "Our model that minimizes AIC on the training data is the ARIMA(1,1,1).\n",
      "This model has an AIC of 4841.062759887951.\n"
     ]
    },
    {
     "name": "stderr",
     "output_type": "stream",
     "text": [
      "/Users/lmarett8/opt/anaconda3/lib/python3.9/site-packages/statsmodels/base/model.py:604: ConvergenceWarning: Maximum Likelihood optimization failed to converge. Check mle_retvals\n",
      "  warnings.warn(\"Maximum Likelihood optimization failed to \"\n"
     ]
    }
   ],
   "source": [
    "## Source: Lesson 8.03\n",
    "\n",
    "# Starting AIC, p, and q.\n",
    "best_aic = 99999999\n",
    "best_p = 0\n",
    "best_q = 0\n",
    "\n",
    "# Use nested for loop to iterate over values of p and q.\n",
    "for p in range(5):\n",
    "    for q in range(5):\n",
    "        \n",
    "        # Insert try and except statements.\n",
    "        try:\n",
    "            \n",
    "            # Fitting an ARIMA(p, 1, q) model.\n",
    "            print(f'Attempting ARIMA({p}, 1, {q})')\n",
    "            \n",
    "            # Instantiate ARIMA model.\n",
    "            arima = ARIMA(endog = hv_y_train, order = (p, 1, q))\n",
    "            \n",
    "            \n",
    "            # Fit ARIMA model.\n",
    "            model = arima.fit()\n",
    "\n",
    "            # Print out AIC for ARIMA(p, 1, q) model.\n",
    "            print(f'The AIC for ARIMA({p},1,{q}) is: {model.aic}')\n",
    "\n",
    "            # Is my current model's AIC better than our best_aic?\n",
    "            if model.aic < best_aic:\n",
    "                \n",
    "                # If so, let's overwrite best_aic, best_p, and best_q.\n",
    "                best_aic = model.aic\n",
    "                best_p = p\n",
    "                best_q = q\n",
    "\n",
    "        except:\n",
    "            pass\n",
    "print()\n",
    "print()\n",
    "print('MODEL FINISHED!')\n",
    "print(f'Our model that minimizes AIC on the training data is the ARIMA({best_p},1,{best_q}).')\n",
    "print(f'This model has an AIC of {best_aic}.')"
   ]
  },
  {
   "cell_type": "code",
   "execution_count": 73,
   "id": "0835d3a9-e598-44aa-bce9-d77a5413d0b6",
   "metadata": {},
   "outputs": [
    {
     "name": "stderr",
     "output_type": "stream",
     "text": [
      "/Users/lmarett8/opt/anaconda3/lib/python3.9/site-packages/statsmodels/tsa/base/tsa_model.py:471: ValueWarning: No frequency information was provided, so inferred frequency M will be used.\n",
      "  self._init_dates(dates, freq)\n",
      "/Users/lmarett8/opt/anaconda3/lib/python3.9/site-packages/statsmodels/tsa/base/tsa_model.py:471: ValueWarning: No frequency information was provided, so inferred frequency M will be used.\n",
      "  self._init_dates(dates, freq)\n",
      "/Users/lmarett8/opt/anaconda3/lib/python3.9/site-packages/statsmodels/tsa/base/tsa_model.py:471: ValueWarning: No frequency information was provided, so inferred frequency M will be used.\n",
      "  self._init_dates(dates, freq)\n"
     ]
    },
    {
     "data": {
      "image/png": "[encoded data removed]",
      "text/plain": [
       "<Figure size 720x432 with 1 Axes>"
      ]
     },
     "metadata": {
      "needs_background": "light"
     },
     "output_type": "display_data"
    }
   ],
   "source": [
    "# Instantiate best model.\n",
    "hv_arima = ARIMA(endog = hv_y_train, order = (1, 1, 1))\n",
    "\n",
    "# Fit ARIMA model.\n",
    "hv_model = hv_arima.fit()\n",
    "\n",
    "# Generate predictions based on test set.\n",
    "hv_preds = hv_model.predict(start = hv_y_test.index[0], end = hv_y_test.index[-1])\n",
    "\n",
    "# Plot data.\n",
    "plt.figure(figsize=(10,6))\n",
    "\n",
    "# Plot training data.\n",
    "plt.plot(hv_y_train.index, hv_y_train, color = 'blue')\n",
    "\n",
    "# Plot testing data.\n",
    "plt.plot(hv_y_test.index, hv_y_test, color = 'orange')\n",
    "\n",
    "# Plot predicted test values.\n",
    "plt.plot(hv_y_test.index, hv_preds, color = 'green')\n",
    "\n",
    "plt.title(label = 'Denver Home Values with ARIMA(1, 1, 1) Predictions', fontsize=16)\n",
    "plt.show();"
   ]
  },
  {
   "cell_type": "code",
   "execution_count": 100,
   "id": "934ce2e6-cd32-42df-aec8-6bb60fe2e5ed",
   "metadata": {},
   "outputs": [
    {
     "data": {
      "image/png": "[encoded data removed]",
      "text/plain": [
       "<Figure size 432x288 with 1 Axes>"
      ]
     },
     "execution_count": 100,
     "metadata": {},
     "output_type": "execute_result"
    },
    {
     "data": {
      "image/png": "[encoded data removed]",
      "text/plain": [
       "<Figure size 432x288 with 1 Axes>"
      ]
     },
     "metadata": {
      "needs_background": "light"
     },
     "output_type": "display_data"
    }
   ],
   "source": [
    "plot_predict(hv_model, start = '2008-01-31', end = '2026-12-31')"
   ]
  },
  {
   "cell_type": "markdown",
   "id": "f665d74c-4f26-403a-a44f-7ebdfd3c3ffa",
   "metadata": {},
   "source": [
    "#### `median_sale_price` Dataframe"
   ]
  },
  {
   "cell_type": "code",
   "execution_count": 67,
   "id": "0eda41e3-564d-4007-87d0-501cead8e388",
   "metadata": {},
   "outputs": [],
   "source": [
    "# Create train-test split.\n",
    "sp_y_train, sp_y_test = train_test_split(median_sale_price['value'], test_size = 0.1, shuffle = False)"
   ]
  },
  {
   "cell_type": "code",
   "execution_count": 68,
   "id": "5c3272ea-3fe6-43b5-8566-e825eba709b6",
   "metadata": {
    "scrolled": true,
    "tags": []
   },
   "outputs": [
    {
     "name": "stdout",
     "output_type": "stream",
     "text": [
      "Attempting ARIMA(0, 3, 0)\n",
      "The AIC for ARIMA(0,3,0) is: 2983.074180815506\n",
      "Attempting ARIMA(0, 3, 1)\n"
     ]
    },
    {
     "name": "stderr",
     "output_type": "stream",
     "text": [
      "/Users/lmarett8/opt/anaconda3/lib/python3.9/site-packages/statsmodels/tsa/base/tsa_model.py:471: ValueWarning: No frequency information was provided, so inferred frequency M will be used.\n",
      "  self._init_dates(dates, freq)\n",
      "/Users/lmarett8/opt/anaconda3/lib/python3.9/site-packages/statsmodels/tsa/base/tsa_model.py:471: ValueWarning: No frequency information was provided, so inferred frequency M will be used.\n",
      "  self._init_dates(dates, freq)\n",
      "/Users/lmarett8/opt/anaconda3/lib/python3.9/site-packages/statsmodels/tsa/base/tsa_model.py:471: ValueWarning: No frequency information was provided, so inferred frequency M will be used.\n",
      "  self._init_dates(dates, freq)\n",
      "/Users/lmarett8/opt/anaconda3/lib/python3.9/site-packages/statsmodels/tsa/base/tsa_model.py:471: ValueWarning: No frequency information was provided, so inferred frequency M will be used.\n",
      "  self._init_dates(dates, freq)\n",
      "/Users/lmarett8/opt/anaconda3/lib/python3.9/site-packages/statsmodels/tsa/base/tsa_model.py:471: ValueWarning: No frequency information was provided, so inferred frequency M will be used.\n",
      "  self._init_dates(dates, freq)\n",
      "/Users/lmarett8/opt/anaconda3/lib/python3.9/site-packages/statsmodels/tsa/base/tsa_model.py:471: ValueWarning: No frequency information was provided, so inferred frequency M will be used.\n",
      "  self._init_dates(dates, freq)\n",
      "/Users/lmarett8/opt/anaconda3/lib/python3.9/site-packages/statsmodels/tsa/statespace/sarimax.py:978: UserWarning: Non-invertible starting MA parameters found. Using zeros as starting parameters.\n",
      "  warn('Non-invertible starting MA parameters found.'\n"
     ]
    },
    {
     "name": "stdout",
     "output_type": "stream",
     "text": [
      "The AIC for ARIMA(0,3,1) is: 2857.9043637605223\n",
      "Attempting ARIMA(0, 3, 2)\n",
      "The AIC for ARIMA(0,3,2) is: 2858.112471190544\n",
      "Attempting ARIMA(0, 3, 3)\n"
     ]
    },
    {
     "name": "stderr",
     "output_type": "stream",
     "text": [
      "/Users/lmarett8/opt/anaconda3/lib/python3.9/site-packages/statsmodels/tsa/base/tsa_model.py:471: ValueWarning: No frequency information was provided, so inferred frequency M will be used.\n",
      "  self._init_dates(dates, freq)\n",
      "/Users/lmarett8/opt/anaconda3/lib/python3.9/site-packages/statsmodels/tsa/base/tsa_model.py:471: ValueWarning: No frequency information was provided, so inferred frequency M will be used.\n",
      "  self._init_dates(dates, freq)\n",
      "/Users/lmarett8/opt/anaconda3/lib/python3.9/site-packages/statsmodels/tsa/base/tsa_model.py:471: ValueWarning: No frequency information was provided, so inferred frequency M will be used.\n",
      "  self._init_dates(dates, freq)\n",
      "/Users/lmarett8/opt/anaconda3/lib/python3.9/site-packages/statsmodels/tsa/base/tsa_model.py:471: ValueWarning: No frequency information was provided, so inferred frequency M will be used.\n",
      "  self._init_dates(dates, freq)\n",
      "/Users/lmarett8/opt/anaconda3/lib/python3.9/site-packages/statsmodels/tsa/base/tsa_model.py:471: ValueWarning: No frequency information was provided, so inferred frequency M will be used.\n",
      "  self._init_dates(dates, freq)\n",
      "/Users/lmarett8/opt/anaconda3/lib/python3.9/site-packages/statsmodels/tsa/base/tsa_model.py:471: ValueWarning: No frequency information was provided, so inferred frequency M will be used.\n",
      "  self._init_dates(dates, freq)\n",
      "/Users/lmarett8/opt/anaconda3/lib/python3.9/site-packages/statsmodels/tsa/statespace/sarimax.py:978: UserWarning: Non-invertible starting MA parameters found. Using zeros as starting parameters.\n",
      "  warn('Non-invertible starting MA parameters found.'\n"
     ]
    },
    {
     "name": "stdout",
     "output_type": "stream",
     "text": [
      "The AIC for ARIMA(0,3,3) is: 2859.554368305613\n",
      "Attempting ARIMA(0, 3, 4)\n",
      "The AIC for ARIMA(0,3,4) is: 2861.38012023791\n",
      "Attempting ARIMA(1, 3, 0)\n"
     ]
    },
    {
     "name": "stderr",
     "output_type": "stream",
     "text": [
      "/Users/lmarett8/opt/anaconda3/lib/python3.9/site-packages/statsmodels/tsa/base/tsa_model.py:471: ValueWarning: No frequency information was provided, so inferred frequency M will be used.\n",
      "  self._init_dates(dates, freq)\n",
      "/Users/lmarett8/opt/anaconda3/lib/python3.9/site-packages/statsmodels/tsa/base/tsa_model.py:471: ValueWarning: No frequency information was provided, so inferred frequency M will be used.\n",
      "  self._init_dates(dates, freq)\n",
      "/Users/lmarett8/opt/anaconda3/lib/python3.9/site-packages/statsmodels/tsa/base/tsa_model.py:471: ValueWarning: No frequency information was provided, so inferred frequency M will be used.\n",
      "  self._init_dates(dates, freq)\n",
      "/Users/lmarett8/opt/anaconda3/lib/python3.9/site-packages/statsmodels/tsa/statespace/sarimax.py:978: UserWarning: Non-invertible starting MA parameters found. Using zeros as starting parameters.\n",
      "  warn('Non-invertible starting MA parameters found.'\n",
      "/Users/lmarett8/opt/anaconda3/lib/python3.9/site-packages/statsmodels/base/model.py:604: ConvergenceWarning: Maximum Likelihood optimization failed to converge. Check mle_retvals\n",
      "  warnings.warn(\"Maximum Likelihood optimization failed to \"\n",
      "/Users/lmarett8/opt/anaconda3/lib/python3.9/site-packages/statsmodels/tsa/base/tsa_model.py:471: ValueWarning: No frequency information was provided, so inferred frequency M will be used.\n",
      "  self._init_dates(dates, freq)\n",
      "/Users/lmarett8/opt/anaconda3/lib/python3.9/site-packages/statsmodels/tsa/base/tsa_model.py:471: ValueWarning: No frequency information was provided, so inferred frequency M will be used.\n",
      "  self._init_dates(dates, freq)\n",
      "/Users/lmarett8/opt/anaconda3/lib/python3.9/site-packages/statsmodels/tsa/base/tsa_model.py:471: ValueWarning: No frequency information was provided, so inferred frequency M will be used.\n",
      "  self._init_dates(dates, freq)\n"
     ]
    },
    {
     "name": "stdout",
     "output_type": "stream",
     "text": [
      "The AIC for ARIMA(1,3,0) is: 3003.285159437579\n",
      "Attempting ARIMA(1, 3, 1)\n",
      "The AIC for ARIMA(1,3,1) is: 2857.397683369989\n",
      "Attempting ARIMA(1, 3, 2)\n"
     ]
    },
    {
     "name": "stderr",
     "output_type": "stream",
     "text": [
      "/Users/lmarett8/opt/anaconda3/lib/python3.9/site-packages/statsmodels/tsa/base/tsa_model.py:471: ValueWarning: No frequency information was provided, so inferred frequency M will be used.\n",
      "  self._init_dates(dates, freq)\n",
      "/Users/lmarett8/opt/anaconda3/lib/python3.9/site-packages/statsmodels/tsa/base/tsa_model.py:471: ValueWarning: No frequency information was provided, so inferred frequency M will be used.\n",
      "  self._init_dates(dates, freq)\n",
      "/Users/lmarett8/opt/anaconda3/lib/python3.9/site-packages/statsmodels/tsa/base/tsa_model.py:471: ValueWarning: No frequency information was provided, so inferred frequency M will be used.\n",
      "  self._init_dates(dates, freq)\n",
      "/Users/lmarett8/opt/anaconda3/lib/python3.9/site-packages/statsmodels/tsa/base/tsa_model.py:471: ValueWarning: No frequency information was provided, so inferred frequency M will be used.\n",
      "  self._init_dates(dates, freq)\n",
      "/Users/lmarett8/opt/anaconda3/lib/python3.9/site-packages/statsmodels/tsa/base/tsa_model.py:471: ValueWarning: No frequency information was provided, so inferred frequency M will be used.\n",
      "  self._init_dates(dates, freq)\n",
      "/Users/lmarett8/opt/anaconda3/lib/python3.9/site-packages/statsmodels/tsa/base/tsa_model.py:471: ValueWarning: No frequency information was provided, so inferred frequency M will be used.\n",
      "  self._init_dates(dates, freq)\n",
      "/Users/lmarett8/opt/anaconda3/lib/python3.9/site-packages/statsmodels/tsa/statespace/sarimax.py:978: UserWarning: Non-invertible starting MA parameters found. Using zeros as starting parameters.\n",
      "  warn('Non-invertible starting MA parameters found.'\n"
     ]
    },
    {
     "name": "stdout",
     "output_type": "stream",
     "text": [
      "The AIC for ARIMA(1,3,2) is: 2861.37796147242\n",
      "Attempting ARIMA(1, 3, 3)\n"
     ]
    },
    {
     "name": "stderr",
     "output_type": "stream",
     "text": [
      "/Users/lmarett8/opt/anaconda3/lib/python3.9/site-packages/statsmodels/tsa/base/tsa_model.py:471: ValueWarning: No frequency information was provided, so inferred frequency M will be used.\n",
      "  self._init_dates(dates, freq)\n",
      "/Users/lmarett8/opt/anaconda3/lib/python3.9/site-packages/statsmodels/tsa/base/tsa_model.py:471: ValueWarning: No frequency information was provided, so inferred frequency M will be used.\n",
      "  self._init_dates(dates, freq)\n",
      "/Users/lmarett8/opt/anaconda3/lib/python3.9/site-packages/statsmodels/tsa/base/tsa_model.py:471: ValueWarning: No frequency information was provided, so inferred frequency M will be used.\n",
      "  self._init_dates(dates, freq)\n"
     ]
    },
    {
     "name": "stdout",
     "output_type": "stream",
     "text": [
      "The AIC for ARIMA(1,3,3) is: 2862.141082472316\n",
      "Attempting ARIMA(1, 3, 4)\n"
     ]
    },
    {
     "name": "stderr",
     "output_type": "stream",
     "text": [
      "/Users/lmarett8/opt/anaconda3/lib/python3.9/site-packages/statsmodels/tsa/base/tsa_model.py:471: ValueWarning: No frequency information was provided, so inferred frequency M will be used.\n",
      "  self._init_dates(dates, freq)\n",
      "/Users/lmarett8/opt/anaconda3/lib/python3.9/site-packages/statsmodels/tsa/base/tsa_model.py:471: ValueWarning: No frequency information was provided, so inferred frequency M will be used.\n",
      "  self._init_dates(dates, freq)\n",
      "/Users/lmarett8/opt/anaconda3/lib/python3.9/site-packages/statsmodels/tsa/base/tsa_model.py:471: ValueWarning: No frequency information was provided, so inferred frequency M will be used.\n",
      "  self._init_dates(dates, freq)\n",
      "/Users/lmarett8/opt/anaconda3/lib/python3.9/site-packages/statsmodels/tsa/statespace/sarimax.py:978: UserWarning: Non-invertible starting MA parameters found. Using zeros as starting parameters.\n",
      "  warn('Non-invertible starting MA parameters found.'\n",
      "/Users/lmarett8/opt/anaconda3/lib/python3.9/site-packages/statsmodels/base/model.py:604: ConvergenceWarning: Maximum Likelihood optimization failed to converge. Check mle_retvals\n",
      "  warnings.warn(\"Maximum Likelihood optimization failed to \"\n",
      "/Users/lmarett8/opt/anaconda3/lib/python3.9/site-packages/statsmodels/tsa/base/tsa_model.py:471: ValueWarning: No frequency information was provided, so inferred frequency M will be used.\n",
      "  self._init_dates(dates, freq)\n",
      "/Users/lmarett8/opt/anaconda3/lib/python3.9/site-packages/statsmodels/tsa/base/tsa_model.py:471: ValueWarning: No frequency information was provided, so inferred frequency M will be used.\n",
      "  self._init_dates(dates, freq)\n",
      "/Users/lmarett8/opt/anaconda3/lib/python3.9/site-packages/statsmodels/tsa/base/tsa_model.py:471: ValueWarning: No frequency information was provided, so inferred frequency M will be used.\n",
      "  self._init_dates(dates, freq)\n",
      "/Users/lmarett8/opt/anaconda3/lib/python3.9/site-packages/statsmodels/tsa/base/tsa_model.py:471: ValueWarning: No frequency information was provided, so inferred frequency M will be used.\n",
      "  self._init_dates(dates, freq)\n",
      "/Users/lmarett8/opt/anaconda3/lib/python3.9/site-packages/statsmodels/tsa/base/tsa_model.py:471: ValueWarning: No frequency information was provided, so inferred frequency M will be used.\n",
      "  self._init_dates(dates, freq)\n",
      "/Users/lmarett8/opt/anaconda3/lib/python3.9/site-packages/statsmodels/tsa/base/tsa_model.py:471: ValueWarning: No frequency information was provided, so inferred frequency M will be used.\n",
      "  self._init_dates(dates, freq)\n"
     ]
    },
    {
     "name": "stdout",
     "output_type": "stream",
     "text": [
      "The AIC for ARIMA(1,3,4) is: 2924.390420066363\n",
      "Attempting ARIMA(2, 3, 0)\n",
      "The AIC for ARIMA(2,3,0) is: 3065.107705928125\n",
      "Attempting ARIMA(2, 3, 1)\n"
     ]
    },
    {
     "name": "stderr",
     "output_type": "stream",
     "text": [
      "/Users/lmarett8/opt/anaconda3/lib/python3.9/site-packages/statsmodels/base/model.py:604: ConvergenceWarning: Maximum Likelihood optimization failed to converge. Check mle_retvals\n",
      "  warnings.warn(\"Maximum Likelihood optimization failed to \"\n",
      "/Users/lmarett8/opt/anaconda3/lib/python3.9/site-packages/statsmodels/tsa/base/tsa_model.py:471: ValueWarning: No frequency information was provided, so inferred frequency M will be used.\n",
      "  self._init_dates(dates, freq)\n",
      "/Users/lmarett8/opt/anaconda3/lib/python3.9/site-packages/statsmodels/tsa/base/tsa_model.py:471: ValueWarning: No frequency information was provided, so inferred frequency M will be used.\n",
      "  self._init_dates(dates, freq)\n",
      "/Users/lmarett8/opt/anaconda3/lib/python3.9/site-packages/statsmodels/tsa/base/tsa_model.py:471: ValueWarning: No frequency information was provided, so inferred frequency M will be used.\n",
      "  self._init_dates(dates, freq)\n"
     ]
    },
    {
     "name": "stdout",
     "output_type": "stream",
     "text": [
      "The AIC for ARIMA(2,3,1) is: 2859.375627552332\n",
      "Attempting ARIMA(2, 3, 2)\n",
      "The AIC for ARIMA(2,3,2) is: 2861.387717627641\n",
      "Attempting ARIMA(2, 3, 3)\n"
     ]
    },
    {
     "name": "stderr",
     "output_type": "stream",
     "text": [
      "/Users/lmarett8/opt/anaconda3/lib/python3.9/site-packages/statsmodels/tsa/base/tsa_model.py:471: ValueWarning: No frequency information was provided, so inferred frequency M will be used.\n",
      "  self._init_dates(dates, freq)\n",
      "/Users/lmarett8/opt/anaconda3/lib/python3.9/site-packages/statsmodels/tsa/base/tsa_model.py:471: ValueWarning: No frequency information was provided, so inferred frequency M will be used.\n",
      "  self._init_dates(dates, freq)\n",
      "/Users/lmarett8/opt/anaconda3/lib/python3.9/site-packages/statsmodels/tsa/base/tsa_model.py:471: ValueWarning: No frequency information was provided, so inferred frequency M will be used.\n",
      "  self._init_dates(dates, freq)\n",
      "/Users/lmarett8/opt/anaconda3/lib/python3.9/site-packages/statsmodels/tsa/statespace/sarimax.py:978: UserWarning: Non-invertible starting MA parameters found. Using zeros as starting parameters.\n",
      "  warn('Non-invertible starting MA parameters found.'\n"
     ]
    },
    {
     "name": "stdout",
     "output_type": "stream",
     "text": [
      "The AIC for ARIMA(2,3,3) is: 2947.934739868216\n",
      "Attempting ARIMA(2, 3, 4)\n"
     ]
    },
    {
     "name": "stderr",
     "output_type": "stream",
     "text": [
      "/Users/lmarett8/opt/anaconda3/lib/python3.9/site-packages/statsmodels/tsa/base/tsa_model.py:471: ValueWarning: No frequency information was provided, so inferred frequency M will be used.\n",
      "  self._init_dates(dates, freq)\n",
      "/Users/lmarett8/opt/anaconda3/lib/python3.9/site-packages/statsmodels/tsa/base/tsa_model.py:471: ValueWarning: No frequency information was provided, so inferred frequency M will be used.\n",
      "  self._init_dates(dates, freq)\n",
      "/Users/lmarett8/opt/anaconda3/lib/python3.9/site-packages/statsmodels/tsa/base/tsa_model.py:471: ValueWarning: No frequency information was provided, so inferred frequency M will be used.\n",
      "  self._init_dates(dates, freq)\n",
      "/Users/lmarett8/opt/anaconda3/lib/python3.9/site-packages/statsmodels/tsa/statespace/sarimax.py:978: UserWarning: Non-invertible starting MA parameters found. Using zeros as starting parameters.\n",
      "  warn('Non-invertible starting MA parameters found.'\n",
      "/Users/lmarett8/opt/anaconda3/lib/python3.9/site-packages/statsmodels/base/model.py:604: ConvergenceWarning: Maximum Likelihood optimization failed to converge. Check mle_retvals\n",
      "  warnings.warn(\"Maximum Likelihood optimization failed to \"\n",
      "/Users/lmarett8/opt/anaconda3/lib/python3.9/site-packages/statsmodels/tsa/base/tsa_model.py:471: ValueWarning: No frequency information was provided, so inferred frequency M will be used.\n",
      "  self._init_dates(dates, freq)\n",
      "/Users/lmarett8/opt/anaconda3/lib/python3.9/site-packages/statsmodels/tsa/base/tsa_model.py:471: ValueWarning: No frequency information was provided, so inferred frequency M will be used.\n",
      "  self._init_dates(dates, freq)\n",
      "/Users/lmarett8/opt/anaconda3/lib/python3.9/site-packages/statsmodels/tsa/base/tsa_model.py:471: ValueWarning: No frequency information was provided, so inferred frequency M will be used.\n",
      "  self._init_dates(dates, freq)\n",
      "/Users/lmarett8/opt/anaconda3/lib/python3.9/site-packages/statsmodels/tsa/base/tsa_model.py:471: ValueWarning: No frequency information was provided, so inferred frequency M will be used.\n",
      "  self._init_dates(dates, freq)\n",
      "/Users/lmarett8/opt/anaconda3/lib/python3.9/site-packages/statsmodels/tsa/base/tsa_model.py:471: ValueWarning: No frequency information was provided, so inferred frequency M will be used.\n",
      "  self._init_dates(dates, freq)\n",
      "/Users/lmarett8/opt/anaconda3/lib/python3.9/site-packages/statsmodels/tsa/base/tsa_model.py:471: ValueWarning: No frequency information was provided, so inferred frequency M will be used.\n",
      "  self._init_dates(dates, freq)\n"
     ]
    },
    {
     "name": "stdout",
     "output_type": "stream",
     "text": [
      "The AIC for ARIMA(2,3,4) is: 2938.9806632399705\n",
      "Attempting ARIMA(3, 3, 0)\n",
      "The AIC for ARIMA(3,3,0) is: 3039.93336398489\n",
      "Attempting ARIMA(3, 3, 1)\n",
      "The AIC for ARIMA(3,3,1) is: 2861.2934289641407\n",
      "Attempting ARIMA(3, 3, 2)\n"
     ]
    },
    {
     "name": "stderr",
     "output_type": "stream",
     "text": [
      "/Users/lmarett8/opt/anaconda3/lib/python3.9/site-packages/statsmodels/tsa/base/tsa_model.py:471: ValueWarning: No frequency information was provided, so inferred frequency M will be used.\n",
      "  self._init_dates(dates, freq)\n",
      "/Users/lmarett8/opt/anaconda3/lib/python3.9/site-packages/statsmodels/tsa/base/tsa_model.py:471: ValueWarning: No frequency information was provided, so inferred frequency M will be used.\n",
      "  self._init_dates(dates, freq)\n",
      "/Users/lmarett8/opt/anaconda3/lib/python3.9/site-packages/statsmodels/tsa/base/tsa_model.py:471: ValueWarning: No frequency information was provided, so inferred frequency M will be used.\n",
      "  self._init_dates(dates, freq)\n",
      "/Users/lmarett8/opt/anaconda3/lib/python3.9/site-packages/statsmodels/tsa/statespace/sarimax.py:978: UserWarning: Non-invertible starting MA parameters found. Using zeros as starting parameters.\n",
      "  warn('Non-invertible starting MA parameters found.'\n",
      "/Users/lmarett8/opt/anaconda3/lib/python3.9/site-packages/statsmodels/base/model.py:604: ConvergenceWarning: Maximum Likelihood optimization failed to converge. Check mle_retvals\n",
      "  warnings.warn(\"Maximum Likelihood optimization failed to \"\n"
     ]
    },
    {
     "name": "stdout",
     "output_type": "stream",
     "text": [
      "The AIC for ARIMA(3,3,2) is: 2920.4904518042904\n",
      "Attempting ARIMA(3, 3, 3)\n"
     ]
    },
    {
     "name": "stderr",
     "output_type": "stream",
     "text": [
      "/Users/lmarett8/opt/anaconda3/lib/python3.9/site-packages/statsmodels/tsa/base/tsa_model.py:471: ValueWarning: No frequency information was provided, so inferred frequency M will be used.\n",
      "  self._init_dates(dates, freq)\n",
      "/Users/lmarett8/opt/anaconda3/lib/python3.9/site-packages/statsmodels/tsa/base/tsa_model.py:471: ValueWarning: No frequency information was provided, so inferred frequency M will be used.\n",
      "  self._init_dates(dates, freq)\n",
      "/Users/lmarett8/opt/anaconda3/lib/python3.9/site-packages/statsmodels/tsa/base/tsa_model.py:471: ValueWarning: No frequency information was provided, so inferred frequency M will be used.\n",
      "  self._init_dates(dates, freq)\n",
      "/Users/lmarett8/opt/anaconda3/lib/python3.9/site-packages/statsmodels/tsa/statespace/sarimax.py:978: UserWarning: Non-invertible starting MA parameters found. Using zeros as starting parameters.\n",
      "  warn('Non-invertible starting MA parameters found.'\n",
      "/Users/lmarett8/opt/anaconda3/lib/python3.9/site-packages/statsmodels/base/model.py:604: ConvergenceWarning: Maximum Likelihood optimization failed to converge. Check mle_retvals\n",
      "  warnings.warn(\"Maximum Likelihood optimization failed to \"\n",
      "/Users/lmarett8/opt/anaconda3/lib/python3.9/site-packages/statsmodels/tsa/base/tsa_model.py:471: ValueWarning: No frequency information was provided, so inferred frequency M will be used.\n",
      "  self._init_dates(dates, freq)\n",
      "/Users/lmarett8/opt/anaconda3/lib/python3.9/site-packages/statsmodels/tsa/base/tsa_model.py:471: ValueWarning: No frequency information was provided, so inferred frequency M will be used.\n",
      "  self._init_dates(dates, freq)\n",
      "/Users/lmarett8/opt/anaconda3/lib/python3.9/site-packages/statsmodels/tsa/base/tsa_model.py:471: ValueWarning: No frequency information was provided, so inferred frequency M will be used.\n",
      "  self._init_dates(dates, freq)\n",
      "/Users/lmarett8/opt/anaconda3/lib/python3.9/site-packages/statsmodels/tsa/statespace/sarimax.py:978: UserWarning: Non-invertible starting MA parameters found. Using zeros as starting parameters.\n",
      "  warn('Non-invertible starting MA parameters found.'\n"
     ]
    },
    {
     "name": "stdout",
     "output_type": "stream",
     "text": [
      "The AIC for ARIMA(3,3,3) is: 2935.4315807998933\n",
      "Attempting ARIMA(3, 3, 4)\n"
     ]
    },
    {
     "name": "stderr",
     "output_type": "stream",
     "text": [
      "/Users/lmarett8/opt/anaconda3/lib/python3.9/site-packages/statsmodels/base/model.py:604: ConvergenceWarning: Maximum Likelihood optimization failed to converge. Check mle_retvals\n",
      "  warnings.warn(\"Maximum Likelihood optimization failed to \"\n",
      "/Users/lmarett8/opt/anaconda3/lib/python3.9/site-packages/statsmodels/tsa/base/tsa_model.py:471: ValueWarning: No frequency information was provided, so inferred frequency M will be used.\n",
      "  self._init_dates(dates, freq)\n",
      "/Users/lmarett8/opt/anaconda3/lib/python3.9/site-packages/statsmodels/tsa/base/tsa_model.py:471: ValueWarning: No frequency information was provided, so inferred frequency M will be used.\n",
      "  self._init_dates(dates, freq)\n",
      "/Users/lmarett8/opt/anaconda3/lib/python3.9/site-packages/statsmodels/tsa/base/tsa_model.py:471: ValueWarning: No frequency information was provided, so inferred frequency M will be used.\n",
      "  self._init_dates(dates, freq)\n",
      "/Users/lmarett8/opt/anaconda3/lib/python3.9/site-packages/statsmodels/tsa/base/tsa_model.py:471: ValueWarning: No frequency information was provided, so inferred frequency M will be used.\n",
      "  self._init_dates(dates, freq)\n",
      "/Users/lmarett8/opt/anaconda3/lib/python3.9/site-packages/statsmodels/tsa/base/tsa_model.py:471: ValueWarning: No frequency information was provided, so inferred frequency M will be used.\n",
      "  self._init_dates(dates, freq)\n",
      "/Users/lmarett8/opt/anaconda3/lib/python3.9/site-packages/statsmodels/tsa/base/tsa_model.py:471: ValueWarning: No frequency information was provided, so inferred frequency M will be used.\n",
      "  self._init_dates(dates, freq)\n"
     ]
    },
    {
     "name": "stdout",
     "output_type": "stream",
     "text": [
      "The AIC for ARIMA(3,3,4) is: 2951.2725186751777\n",
      "Attempting ARIMA(4, 3, 0)\n",
      "The AIC for ARIMA(4,3,0) is: 3021.07156557636\n",
      "Attempting ARIMA(4, 3, 1)\n"
     ]
    },
    {
     "name": "stderr",
     "output_type": "stream",
     "text": [
      "/Users/lmarett8/opt/anaconda3/lib/python3.9/site-packages/statsmodels/base/model.py:604: ConvergenceWarning: Maximum Likelihood optimization failed to converge. Check mle_retvals\n",
      "  warnings.warn(\"Maximum Likelihood optimization failed to \"\n",
      "/Users/lmarett8/opt/anaconda3/lib/python3.9/site-packages/statsmodels/tsa/base/tsa_model.py:471: ValueWarning: No frequency information was provided, so inferred frequency M will be used.\n",
      "  self._init_dates(dates, freq)\n",
      "/Users/lmarett8/opt/anaconda3/lib/python3.9/site-packages/statsmodels/tsa/base/tsa_model.py:471: ValueWarning: No frequency information was provided, so inferred frequency M will be used.\n",
      "  self._init_dates(dates, freq)\n",
      "/Users/lmarett8/opt/anaconda3/lib/python3.9/site-packages/statsmodels/tsa/base/tsa_model.py:471: ValueWarning: No frequency information was provided, so inferred frequency M will be used.\n",
      "  self._init_dates(dates, freq)\n",
      "/Users/lmarett8/opt/anaconda3/lib/python3.9/site-packages/statsmodels/tsa/statespace/sarimax.py:966: UserWarning: Non-stationary starting autoregressive parameters found. Using zeros as starting parameters.\n",
      "  warn('Non-stationary starting autoregressive parameters'\n",
      "/Users/lmarett8/opt/anaconda3/lib/python3.9/site-packages/statsmodels/tsa/statespace/sarimax.py:978: UserWarning: Non-invertible starting MA parameters found. Using zeros as starting parameters.\n",
      "  warn('Non-invertible starting MA parameters found.'\n"
     ]
    },
    {
     "name": "stdout",
     "output_type": "stream",
     "text": [
      "The AIC for ARIMA(4,3,1) is: 2862.944899318837\n",
      "Attempting ARIMA(4, 3, 2)\n"
     ]
    },
    {
     "name": "stderr",
     "output_type": "stream",
     "text": [
      "/Users/lmarett8/opt/anaconda3/lib/python3.9/site-packages/statsmodels/base/model.py:604: ConvergenceWarning: Maximum Likelihood optimization failed to converge. Check mle_retvals\n",
      "  warnings.warn(\"Maximum Likelihood optimization failed to \"\n",
      "/Users/lmarett8/opt/anaconda3/lib/python3.9/site-packages/statsmodels/tsa/base/tsa_model.py:471: ValueWarning: No frequency information was provided, so inferred frequency M will be used.\n",
      "  self._init_dates(dates, freq)\n",
      "/Users/lmarett8/opt/anaconda3/lib/python3.9/site-packages/statsmodels/tsa/base/tsa_model.py:471: ValueWarning: No frequency information was provided, so inferred frequency M will be used.\n",
      "  self._init_dates(dates, freq)\n",
      "/Users/lmarett8/opt/anaconda3/lib/python3.9/site-packages/statsmodels/tsa/base/tsa_model.py:471: ValueWarning: No frequency information was provided, so inferred frequency M will be used.\n",
      "  self._init_dates(dates, freq)\n",
      "/Users/lmarett8/opt/anaconda3/lib/python3.9/site-packages/statsmodels/tsa/statespace/sarimax.py:978: UserWarning: Non-invertible starting MA parameters found. Using zeros as starting parameters.\n",
      "  warn('Non-invertible starting MA parameters found.'\n"
     ]
    },
    {
     "name": "stdout",
     "output_type": "stream",
     "text": [
      "The AIC for ARIMA(4,3,2) is: 2928.311787238213\n",
      "Attempting ARIMA(4, 3, 3)\n"
     ]
    },
    {
     "name": "stderr",
     "output_type": "stream",
     "text": [
      "/Users/lmarett8/opt/anaconda3/lib/python3.9/site-packages/statsmodels/base/model.py:604: ConvergenceWarning: Maximum Likelihood optimization failed to converge. Check mle_retvals\n",
      "  warnings.warn(\"Maximum Likelihood optimization failed to \"\n",
      "/Users/lmarett8/opt/anaconda3/lib/python3.9/site-packages/statsmodels/tsa/base/tsa_model.py:471: ValueWarning: No frequency information was provided, so inferred frequency M will be used.\n",
      "  self._init_dates(dates, freq)\n",
      "/Users/lmarett8/opt/anaconda3/lib/python3.9/site-packages/statsmodels/tsa/base/tsa_model.py:471: ValueWarning: No frequency information was provided, so inferred frequency M will be used.\n",
      "  self._init_dates(dates, freq)\n",
      "/Users/lmarett8/opt/anaconda3/lib/python3.9/site-packages/statsmodels/tsa/base/tsa_model.py:471: ValueWarning: No frequency information was provided, so inferred frequency M will be used.\n",
      "  self._init_dates(dates, freq)\n",
      "/Users/lmarett8/opt/anaconda3/lib/python3.9/site-packages/statsmodels/tsa/statespace/sarimax.py:978: UserWarning: Non-invertible starting MA parameters found. Using zeros as starting parameters.\n",
      "  warn('Non-invertible starting MA parameters found.'\n"
     ]
    },
    {
     "name": "stdout",
     "output_type": "stream",
     "text": [
      "The AIC for ARIMA(4,3,3) is: 2937.011345985632\n",
      "Attempting ARIMA(4, 3, 4)\n",
      "The AIC for ARIMA(4,3,4) is: 2948.505790534213\n",
      "\n",
      "\n",
      "MODEL FINISHED!\n",
      "Our model that minimizes AIC on the training data is the ARIMA(1,3,1).\n",
      "This model has an AIC of 2857.397683369989.\n"
     ]
    },
    {
     "name": "stderr",
     "output_type": "stream",
     "text": [
      "/Users/lmarett8/opt/anaconda3/lib/python3.9/site-packages/statsmodels/base/model.py:604: ConvergenceWarning: Maximum Likelihood optimization failed to converge. Check mle_retvals\n",
      "  warnings.warn(\"Maximum Likelihood optimization failed to \"\n"
     ]
    }
   ],
   "source": [
    "# Starting AIC, p, and q.\n",
    "best_aic = 99999999\n",
    "best_p = 0\n",
    "best_q = 0\n",
    "\n",
    "# Use nested for loop to iterate over values of p and q.\n",
    "for p in range(5):\n",
    "    for q in range(5):\n",
    "        \n",
    "        # Insert try and except statements.\n",
    "        try:\n",
    "            \n",
    "            # Fitting an ARIMA(p, 3, q) model.\n",
    "            print(f'Attempting ARIMA({p}, 3, {q})')\n",
    "            \n",
    "            # Instantiate ARIMA model.\n",
    "            arima = ARIMA(endog = sp_y_train, order = (p, 3, q))\n",
    "            \n",
    "            \n",
    "            # Fit ARIMA model.\n",
    "            model = arima.fit()\n",
    "\n",
    "            # Print out AIC for ARIMA(p, 3, q) model.\n",
    "            print(f'The AIC for ARIMA({p},3,{q}) is: {model.aic}')\n",
    "\n",
    "            # Is my current model's AIC better than our best_aic?\n",
    "            if model.aic < best_aic:\n",
    "                \n",
    "                # If so, let's overwrite best_aic, best_p, and best_q.\n",
    "                best_aic = model.aic\n",
    "                best_p = p\n",
    "                best_q = q\n",
    "\n",
    "        except:\n",
    "            pass\n",
    "print()\n",
    "print()\n",
    "print('MODEL FINISHED!')\n",
    "print(f'Our model that minimizes AIC on the training data is the ARIMA({best_p},3,{best_q}).')\n",
    "print(f'This model has an AIC of {best_aic}.')"
   ]
  },
  {
   "cell_type": "code",
   "execution_count": 74,
   "id": "f9f16173-9466-4b0e-a6af-244f5f03610b",
   "metadata": {},
   "outputs": [
    {
     "name": "stderr",
     "output_type": "stream",
     "text": [
      "/Users/lmarett8/opt/anaconda3/lib/python3.9/site-packages/statsmodels/tsa/base/tsa_model.py:471: ValueWarning: No frequency information was provided, so inferred frequency M will be used.\n",
      "  self._init_dates(dates, freq)\n",
      "/Users/lmarett8/opt/anaconda3/lib/python3.9/site-packages/statsmodels/tsa/base/tsa_model.py:471: ValueWarning: No frequency information was provided, so inferred frequency M will be used.\n",
      "  self._init_dates(dates, freq)\n",
      "/Users/lmarett8/opt/anaconda3/lib/python3.9/site-packages/statsmodels/tsa/base/tsa_model.py:471: ValueWarning: No frequency information was provided, so inferred frequency M will be used.\n",
      "  self._init_dates(dates, freq)\n"
     ]
    },
    {
     "data": {
      "image/png": "[encoded data removed]",
      "text/plain": [
       "<Figure size 720x432 with 1 Axes>"
      ]
     },
     "metadata": {
      "needs_background": "light"
     },
     "output_type": "display_data"
    }
   ],
   "source": [
    "# Instantiate best model.\n",
    "sp_arima = ARIMA(endog = sp_y_train, order = (1, 3, 1))\n",
    "\n",
    "# Fit ARIMA model.\n",
    "sp_model = sp_arima.fit()\n",
    "\n",
    "# Generate predictions based on test set.\n",
    "sp_preds = sp_model.predict(start = sp_y_test.index[0], end = sp_y_test.index[-1])\n",
    "\n",
    "# Plot data.\n",
    "plt.figure(figsize=(10,6))\n",
    "\n",
    "# Plot training data.\n",
    "plt.plot(sp_y_train.index, sp_y_train, color = 'blue')\n",
    "\n",
    "# Plot testing data.\n",
    "plt.plot(sp_y_test.index, sp_y_test, color = 'orange')\n",
    "\n",
    "# Plot predicted test values.\n",
    "plt.plot(sp_y_test.index, sp_preds, color = 'green')\n",
    "\n",
    "plt.title(label = 'Denver Real Estate Median Sale Price with ARIMA(1, 3, 1) Predictions', fontsize=16)\n",
    "plt.show();"
   ]
  },
  {
   "cell_type": "code",
   "execution_count": 93,
   "id": "987bfa70-eea5-47ac-922c-5c295af1c4bc",
   "metadata": {},
   "outputs": [
    {
     "data": {
      "image/png": "[encoded data removed]",
      "text/plain": [
       "<Figure size 432x288 with 1 Axes>"
      ]
     },
     "execution_count": 93,
     "metadata": {},
     "output_type": "execute_result"
    },
    {
     "data": {
      "image/png": "[encoded data removed]",
      "text/plain": [
       "<Figure size 432x288 with 1 Axes>"
      ]
     },
     "metadata": {
      "needs_background": "light"
     },
     "output_type": "display_data"
    }
   ],
   "source": [
    "plot_predict(sp_model, start = '2008-02-29', end = '2026-12-31')"
   ]
  },
  {
   "cell_type": "markdown",
   "id": "a66cf7c8-d935-4e35-bf5d-95335a4b2d40",
   "metadata": {},
   "source": [
    "#### `rentals` Dataframe"
   ]
  },
  {
   "cell_type": "code",
   "execution_count": 70,
   "id": "f54e7a48-1b2b-41fe-b204-6198e0ab1ef5",
   "metadata": {},
   "outputs": [],
   "source": [
    "# Create train-test split.\n",
    "r_y_train, r_y_test = train_test_split(rentals['value'], test_size = 0.1, shuffle = False)"
   ]
  },
  {
   "cell_type": "code",
   "execution_count": 71,
   "id": "b05bf080-7ecb-4615-8646-99600bfc36f0",
   "metadata": {
    "scrolled": true,
    "tags": []
   },
   "outputs": [
    {
     "name": "stdout",
     "output_type": "stream",
     "text": [
      "Attempting ARIMA(0, 2, 0)\n",
      "The AIC for ARIMA(0,2,0) is: 665.5469599057182\n",
      "Attempting ARIMA(0, 2, 1)\n",
      "The AIC for ARIMA(0,2,1) is: 644.5676066348601\n",
      "Attempting ARIMA(0, 2, 2)\n",
      "The AIC for ARIMA(0,2,2) is: 645.5562498326467\n",
      "Attempting ARIMA(0, 2, 3)\n",
      "The AIC for ARIMA(0,2,3) is: 644.4530120255046\n",
      "Attempting ARIMA(0, 2, 4)\n"
     ]
    },
    {
     "name": "stderr",
     "output_type": "stream",
     "text": [
      "/Users/lmarett8/opt/anaconda3/lib/python3.9/site-packages/statsmodels/tsa/base/tsa_model.py:471: ValueWarning: No frequency information was provided, so inferred frequency M will be used.\n",
      "  self._init_dates(dates, freq)\n",
      "/Users/lmarett8/opt/anaconda3/lib/python3.9/site-packages/statsmodels/tsa/base/tsa_model.py:471: ValueWarning: No frequency information was provided, so inferred frequency M will be used.\n",
      "  self._init_dates(dates, freq)\n",
      "/Users/lmarett8/opt/anaconda3/lib/python3.9/site-packages/statsmodels/tsa/base/tsa_model.py:471: ValueWarning: No frequency information was provided, so inferred frequency M will be used.\n",
      "  self._init_dates(dates, freq)\n",
      "/Users/lmarett8/opt/anaconda3/lib/python3.9/site-packages/statsmodels/tsa/base/tsa_model.py:471: ValueWarning: No frequency information was provided, so inferred frequency M will be used.\n",
      "  self._init_dates(dates, freq)\n",
      "/Users/lmarett8/opt/anaconda3/lib/python3.9/site-packages/statsmodels/tsa/base/tsa_model.py:471: ValueWarning: No frequency information was provided, so inferred frequency M will be used.\n",
      "  self._init_dates(dates, freq)\n",
      "/Users/lmarett8/opt/anaconda3/lib/python3.9/site-packages/statsmodels/tsa/base/tsa_model.py:471: ValueWarning: No frequency information was provided, so inferred frequency M will be used.\n",
      "  self._init_dates(dates, freq)\n",
      "/Users/lmarett8/opt/anaconda3/lib/python3.9/site-packages/statsmodels/tsa/base/tsa_model.py:471: ValueWarning: No frequency information was provided, so inferred frequency M will be used.\n",
      "  self._init_dates(dates, freq)\n",
      "/Users/lmarett8/opt/anaconda3/lib/python3.9/site-packages/statsmodels/tsa/base/tsa_model.py:471: ValueWarning: No frequency information was provided, so inferred frequency M will be used.\n",
      "  self._init_dates(dates, freq)\n",
      "/Users/lmarett8/opt/anaconda3/lib/python3.9/site-packages/statsmodels/tsa/base/tsa_model.py:471: ValueWarning: No frequency information was provided, so inferred frequency M will be used.\n",
      "  self._init_dates(dates, freq)\n",
      "/Users/lmarett8/opt/anaconda3/lib/python3.9/site-packages/statsmodels/tsa/base/tsa_model.py:471: ValueWarning: No frequency information was provided, so inferred frequency M will be used.\n",
      "  self._init_dates(dates, freq)\n",
      "/Users/lmarett8/opt/anaconda3/lib/python3.9/site-packages/statsmodels/tsa/base/tsa_model.py:471: ValueWarning: No frequency information was provided, so inferred frequency M will be used.\n",
      "  self._init_dates(dates, freq)\n",
      "/Users/lmarett8/opt/anaconda3/lib/python3.9/site-packages/statsmodels/tsa/base/tsa_model.py:471: ValueWarning: No frequency information was provided, so inferred frequency M will be used.\n",
      "  self._init_dates(dates, freq)\n",
      "/Users/lmarett8/opt/anaconda3/lib/python3.9/site-packages/statsmodels/tsa/base/tsa_model.py:471: ValueWarning: No frequency information was provided, so inferred frequency M will be used.\n",
      "  self._init_dates(dates, freq)\n",
      "/Users/lmarett8/opt/anaconda3/lib/python3.9/site-packages/statsmodels/tsa/base/tsa_model.py:471: ValueWarning: No frequency information was provided, so inferred frequency M will be used.\n",
      "  self._init_dates(dates, freq)\n",
      "/Users/lmarett8/opt/anaconda3/lib/python3.9/site-packages/statsmodels/tsa/base/tsa_model.py:471: ValueWarning: No frequency information was provided, so inferred frequency M will be used.\n",
      "  self._init_dates(dates, freq)\n"
     ]
    },
    {
     "name": "stdout",
     "output_type": "stream",
     "text": [
      "The AIC for ARIMA(0,2,4) is: 638.7998494728912\n",
      "Attempting ARIMA(1, 2, 0)\n",
      "The AIC for ARIMA(1,2,0) is: 650.9107789845682\n",
      "Attempting ARIMA(1, 2, 1)\n",
      "The AIC for ARIMA(1,2,1) is: 643.6246632823157\n",
      "Attempting ARIMA(1, 2, 2)\n",
      "The AIC for ARIMA(1,2,2) is: 646.2567182041711\n",
      "Attempting ARIMA(1, 2, 3)\n",
      "The AIC for ARIMA(1,2,3) is: 623.0537754517077\n",
      "Attempting ARIMA(1, 2, 4)\n"
     ]
    },
    {
     "name": "stderr",
     "output_type": "stream",
     "text": [
      "/Users/lmarett8/opt/anaconda3/lib/python3.9/site-packages/statsmodels/tsa/base/tsa_model.py:471: ValueWarning: No frequency information was provided, so inferred frequency M will be used.\n",
      "  self._init_dates(dates, freq)\n",
      "/Users/lmarett8/opt/anaconda3/lib/python3.9/site-packages/statsmodels/tsa/base/tsa_model.py:471: ValueWarning: No frequency information was provided, so inferred frequency M will be used.\n",
      "  self._init_dates(dates, freq)\n",
      "/Users/lmarett8/opt/anaconda3/lib/python3.9/site-packages/statsmodels/tsa/base/tsa_model.py:471: ValueWarning: No frequency information was provided, so inferred frequency M will be used.\n",
      "  self._init_dates(dates, freq)\n",
      "/Users/lmarett8/opt/anaconda3/lib/python3.9/site-packages/statsmodels/tsa/base/tsa_model.py:471: ValueWarning: No frequency information was provided, so inferred frequency M will be used.\n",
      "  self._init_dates(dates, freq)\n",
      "/Users/lmarett8/opt/anaconda3/lib/python3.9/site-packages/statsmodels/tsa/base/tsa_model.py:471: ValueWarning: No frequency information was provided, so inferred frequency M will be used.\n",
      "  self._init_dates(dates, freq)\n",
      "/Users/lmarett8/opt/anaconda3/lib/python3.9/site-packages/statsmodels/tsa/base/tsa_model.py:471: ValueWarning: No frequency information was provided, so inferred frequency M will be used.\n",
      "  self._init_dates(dates, freq)\n",
      "/Users/lmarett8/opt/anaconda3/lib/python3.9/site-packages/statsmodels/tsa/base/tsa_model.py:471: ValueWarning: No frequency information was provided, so inferred frequency M will be used.\n",
      "  self._init_dates(dates, freq)\n",
      "/Users/lmarett8/opt/anaconda3/lib/python3.9/site-packages/statsmodels/tsa/base/tsa_model.py:471: ValueWarning: No frequency information was provided, so inferred frequency M will be used.\n",
      "  self._init_dates(dates, freq)\n",
      "/Users/lmarett8/opt/anaconda3/lib/python3.9/site-packages/statsmodels/tsa/base/tsa_model.py:471: ValueWarning: No frequency information was provided, so inferred frequency M will be used.\n",
      "  self._init_dates(dates, freq)\n",
      "/Users/lmarett8/opt/anaconda3/lib/python3.9/site-packages/statsmodels/tsa/statespace/sarimax.py:978: UserWarning: Non-invertible starting MA parameters found. Using zeros as starting parameters.\n",
      "  warn('Non-invertible starting MA parameters found.'\n",
      "/Users/lmarett8/opt/anaconda3/lib/python3.9/site-packages/statsmodels/tsa/base/tsa_model.py:471: ValueWarning: No frequency information was provided, so inferred frequency M will be used.\n",
      "  self._init_dates(dates, freq)\n",
      "/Users/lmarett8/opt/anaconda3/lib/python3.9/site-packages/statsmodels/tsa/base/tsa_model.py:471: ValueWarning: No frequency information was provided, so inferred frequency M will be used.\n",
      "  self._init_dates(dates, freq)\n",
      "/Users/lmarett8/opt/anaconda3/lib/python3.9/site-packages/statsmodels/tsa/base/tsa_model.py:471: ValueWarning: No frequency information was provided, so inferred frequency M will be used.\n",
      "  self._init_dates(dates, freq)\n",
      "/Users/lmarett8/opt/anaconda3/lib/python3.9/site-packages/statsmodels/tsa/base/tsa_model.py:471: ValueWarning: No frequency information was provided, so inferred frequency M will be used.\n",
      "  self._init_dates(dates, freq)\n",
      "/Users/lmarett8/opt/anaconda3/lib/python3.9/site-packages/statsmodels/tsa/base/tsa_model.py:471: ValueWarning: No frequency information was provided, so inferred frequency M will be used.\n",
      "  self._init_dates(dates, freq)\n",
      "/Users/lmarett8/opt/anaconda3/lib/python3.9/site-packages/statsmodels/tsa/base/tsa_model.py:471: ValueWarning: No frequency information was provided, so inferred frequency M will be used.\n",
      "  self._init_dates(dates, freq)\n"
     ]
    },
    {
     "name": "stdout",
     "output_type": "stream",
     "text": [
      "The AIC for ARIMA(1,2,4) is: 624.574021576762\n",
      "Attempting ARIMA(2, 2, 0)\n",
      "The AIC for ARIMA(2,2,0) is: 651.2940158696746\n",
      "Attempting ARIMA(2, 2, 1)\n",
      "The AIC for ARIMA(2,2,1) is: 643.679648440532\n",
      "Attempting ARIMA(2, 2, 2)\n",
      "The AIC for ARIMA(2,2,2) is: 641.3794695379785\n",
      "Attempting ARIMA(2, 2, 3)\n"
     ]
    },
    {
     "name": "stderr",
     "output_type": "stream",
     "text": [
      "/Users/lmarett8/opt/anaconda3/lib/python3.9/site-packages/statsmodels/tsa/base/tsa_model.py:471: ValueWarning: No frequency information was provided, so inferred frequency M will be used.\n",
      "  self._init_dates(dates, freq)\n",
      "/Users/lmarett8/opt/anaconda3/lib/python3.9/site-packages/statsmodels/tsa/base/tsa_model.py:471: ValueWarning: No frequency information was provided, so inferred frequency M will be used.\n",
      "  self._init_dates(dates, freq)\n",
      "/Users/lmarett8/opt/anaconda3/lib/python3.9/site-packages/statsmodels/tsa/base/tsa_model.py:471: ValueWarning: No frequency information was provided, so inferred frequency M will be used.\n",
      "  self._init_dates(dates, freq)\n",
      "/Users/lmarett8/opt/anaconda3/lib/python3.9/site-packages/statsmodels/tsa/base/tsa_model.py:471: ValueWarning: No frequency information was provided, so inferred frequency M will be used.\n",
      "  self._init_dates(dates, freq)\n",
      "/Users/lmarett8/opt/anaconda3/lib/python3.9/site-packages/statsmodels/tsa/base/tsa_model.py:471: ValueWarning: No frequency information was provided, so inferred frequency M will be used.\n",
      "  self._init_dates(dates, freq)\n",
      "/Users/lmarett8/opt/anaconda3/lib/python3.9/site-packages/statsmodels/tsa/base/tsa_model.py:471: ValueWarning: No frequency information was provided, so inferred frequency M will be used.\n",
      "  self._init_dates(dates, freq)\n",
      "/Users/lmarett8/opt/anaconda3/lib/python3.9/site-packages/statsmodels/tsa/statespace/sarimax.py:966: UserWarning: Non-stationary starting autoregressive parameters found. Using zeros as starting parameters.\n",
      "  warn('Non-stationary starting autoregressive parameters'\n",
      "/Users/lmarett8/opt/anaconda3/lib/python3.9/site-packages/statsmodels/tsa/statespace/sarimax.py:978: UserWarning: Non-invertible starting MA parameters found. Using zeros as starting parameters.\n",
      "  warn('Non-invertible starting MA parameters found.'\n",
      "/Users/lmarett8/opt/anaconda3/lib/python3.9/site-packages/statsmodels/tsa/base/tsa_model.py:471: ValueWarning: No frequency information was provided, so inferred frequency M will be used.\n",
      "  self._init_dates(dates, freq)\n",
      "/Users/lmarett8/opt/anaconda3/lib/python3.9/site-packages/statsmodels/tsa/base/tsa_model.py:471: ValueWarning: No frequency information was provided, so inferred frequency M will be used.\n",
      "  self._init_dates(dates, freq)\n",
      "/Users/lmarett8/opt/anaconda3/lib/python3.9/site-packages/statsmodels/tsa/base/tsa_model.py:471: ValueWarning: No frequency information was provided, so inferred frequency M will be used.\n",
      "  self._init_dates(dates, freq)\n",
      "/Users/lmarett8/opt/anaconda3/lib/python3.9/site-packages/statsmodels/tsa/statespace/sarimax.py:978: UserWarning: Non-invertible starting MA parameters found. Using zeros as starting parameters.\n",
      "  warn('Non-invertible starting MA parameters found.'\n",
      "/Users/lmarett8/opt/anaconda3/lib/python3.9/site-packages/statsmodels/tsa/base/tsa_model.py:471: ValueWarning: No frequency information was provided, so inferred frequency M will be used.\n",
      "  self._init_dates(dates, freq)\n",
      "/Users/lmarett8/opt/anaconda3/lib/python3.9/site-packages/statsmodels/tsa/base/tsa_model.py:471: ValueWarning: No frequency information was provided, so inferred frequency M will be used.\n",
      "  self._init_dates(dates, freq)\n",
      "/Users/lmarett8/opt/anaconda3/lib/python3.9/site-packages/statsmodels/tsa/base/tsa_model.py:471: ValueWarning: No frequency information was provided, so inferred frequency M will be used.\n",
      "  self._init_dates(dates, freq)\n",
      "/Users/lmarett8/opt/anaconda3/lib/python3.9/site-packages/statsmodels/tsa/statespace/sarimax.py:978: UserWarning: Non-invertible starting MA parameters found. Using zeros as starting parameters.\n",
      "  warn('Non-invertible starting MA parameters found.'\n"
     ]
    },
    {
     "name": "stdout",
     "output_type": "stream",
     "text": [
      "The AIC for ARIMA(2,2,3) is: 637.2241214098983\n",
      "Attempting ARIMA(2, 2, 4)\n",
      "The AIC for ARIMA(2,2,4) is: 626.5737948856382\n",
      "Attempting ARIMA(3, 2, 0)\n",
      "The AIC for ARIMA(3,2,0) is: 641.3308770566679\n",
      "Attempting ARIMA(3, 2, 1)\n"
     ]
    },
    {
     "name": "stderr",
     "output_type": "stream",
     "text": [
      "/Users/lmarett8/opt/anaconda3/lib/python3.9/site-packages/statsmodels/tsa/base/tsa_model.py:471: ValueWarning: No frequency information was provided, so inferred frequency M will be used.\n",
      "  self._init_dates(dates, freq)\n",
      "/Users/lmarett8/opt/anaconda3/lib/python3.9/site-packages/statsmodels/tsa/base/tsa_model.py:471: ValueWarning: No frequency information was provided, so inferred frequency M will be used.\n",
      "  self._init_dates(dates, freq)\n",
      "/Users/lmarett8/opt/anaconda3/lib/python3.9/site-packages/statsmodels/tsa/base/tsa_model.py:471: ValueWarning: No frequency information was provided, so inferred frequency M will be used.\n",
      "  self._init_dates(dates, freq)\n",
      "/Users/lmarett8/opt/anaconda3/lib/python3.9/site-packages/statsmodels/tsa/statespace/sarimax.py:978: UserWarning: Non-invertible starting MA parameters found. Using zeros as starting parameters.\n",
      "  warn('Non-invertible starting MA parameters found.'\n",
      "/Users/lmarett8/opt/anaconda3/lib/python3.9/site-packages/statsmodels/tsa/base/tsa_model.py:471: ValueWarning: No frequency information was provided, so inferred frequency M will be used.\n",
      "  self._init_dates(dates, freq)\n",
      "/Users/lmarett8/opt/anaconda3/lib/python3.9/site-packages/statsmodels/tsa/base/tsa_model.py:471: ValueWarning: No frequency information was provided, so inferred frequency M will be used.\n",
      "  self._init_dates(dates, freq)\n",
      "/Users/lmarett8/opt/anaconda3/lib/python3.9/site-packages/statsmodels/tsa/base/tsa_model.py:471: ValueWarning: No frequency information was provided, so inferred frequency M will be used.\n",
      "  self._init_dates(dates, freq)\n",
      "/Users/lmarett8/opt/anaconda3/lib/python3.9/site-packages/statsmodels/tsa/base/tsa_model.py:471: ValueWarning: No frequency information was provided, so inferred frequency M will be used.\n",
      "  self._init_dates(dates, freq)\n",
      "/Users/lmarett8/opt/anaconda3/lib/python3.9/site-packages/statsmodels/tsa/base/tsa_model.py:471: ValueWarning: No frequency information was provided, so inferred frequency M will be used.\n",
      "  self._init_dates(dates, freq)\n",
      "/Users/lmarett8/opt/anaconda3/lib/python3.9/site-packages/statsmodels/tsa/base/tsa_model.py:471: ValueWarning: No frequency information was provided, so inferred frequency M will be used.\n",
      "  self._init_dates(dates, freq)\n"
     ]
    },
    {
     "name": "stdout",
     "output_type": "stream",
     "text": [
      "The AIC for ARIMA(3,2,1) is: 631.1655839669969\n",
      "Attempting ARIMA(3, 2, 2)\n",
      "The AIC for ARIMA(3,2,2) is: 620.8652538396914\n",
      "Attempting ARIMA(3, 2, 3)\n"
     ]
    },
    {
     "name": "stderr",
     "output_type": "stream",
     "text": [
      "/Users/lmarett8/opt/anaconda3/lib/python3.9/site-packages/statsmodels/tsa/base/tsa_model.py:471: ValueWarning: No frequency information was provided, so inferred frequency M will be used.\n",
      "  self._init_dates(dates, freq)\n",
      "/Users/lmarett8/opt/anaconda3/lib/python3.9/site-packages/statsmodels/tsa/base/tsa_model.py:471: ValueWarning: No frequency information was provided, so inferred frequency M will be used.\n",
      "  self._init_dates(dates, freq)\n",
      "/Users/lmarett8/opt/anaconda3/lib/python3.9/site-packages/statsmodels/tsa/base/tsa_model.py:471: ValueWarning: No frequency information was provided, so inferred frequency M will be used.\n",
      "  self._init_dates(dates, freq)\n",
      "/Users/lmarett8/opt/anaconda3/lib/python3.9/site-packages/statsmodels/tsa/statespace/sarimax.py:966: UserWarning: Non-stationary starting autoregressive parameters found. Using zeros as starting parameters.\n",
      "  warn('Non-stationary starting autoregressive parameters'\n",
      "/Users/lmarett8/opt/anaconda3/lib/python3.9/site-packages/statsmodels/tsa/base/tsa_model.py:471: ValueWarning: No frequency information was provided, so inferred frequency M will be used.\n",
      "  self._init_dates(dates, freq)\n",
      "/Users/lmarett8/opt/anaconda3/lib/python3.9/site-packages/statsmodels/tsa/base/tsa_model.py:471: ValueWarning: No frequency information was provided, so inferred frequency M will be used.\n",
      "  self._init_dates(dates, freq)\n",
      "/Users/lmarett8/opt/anaconda3/lib/python3.9/site-packages/statsmodels/tsa/base/tsa_model.py:471: ValueWarning: No frequency information was provided, so inferred frequency M will be used.\n",
      "  self._init_dates(dates, freq)\n",
      "/Users/lmarett8/opt/anaconda3/lib/python3.9/site-packages/statsmodels/tsa/statespace/sarimax.py:978: UserWarning: Non-invertible starting MA parameters found. Using zeros as starting parameters.\n",
      "  warn('Non-invertible starting MA parameters found.'\n"
     ]
    },
    {
     "name": "stdout",
     "output_type": "stream",
     "text": [
      "The AIC for ARIMA(3,2,3) is: 620.9059250906053\n",
      "Attempting ARIMA(3, 2, 4)\n"
     ]
    },
    {
     "name": "stderr",
     "output_type": "stream",
     "text": [
      "/Users/lmarett8/opt/anaconda3/lib/python3.9/site-packages/statsmodels/tsa/base/tsa_model.py:471: ValueWarning: No frequency information was provided, so inferred frequency M will be used.\n",
      "  self._init_dates(dates, freq)\n",
      "/Users/lmarett8/opt/anaconda3/lib/python3.9/site-packages/statsmodels/tsa/base/tsa_model.py:471: ValueWarning: No frequency information was provided, so inferred frequency M will be used.\n",
      "  self._init_dates(dates, freq)\n",
      "/Users/lmarett8/opt/anaconda3/lib/python3.9/site-packages/statsmodels/tsa/base/tsa_model.py:471: ValueWarning: No frequency information was provided, so inferred frequency M will be used.\n",
      "  self._init_dates(dates, freq)\n",
      "/Users/lmarett8/opt/anaconda3/lib/python3.9/site-packages/statsmodels/tsa/statespace/sarimax.py:966: UserWarning: Non-stationary starting autoregressive parameters found. Using zeros as starting parameters.\n",
      "  warn('Non-stationary starting autoregressive parameters'\n",
      "/Users/lmarett8/opt/anaconda3/lib/python3.9/site-packages/statsmodels/tsa/statespace/sarimax.py:978: UserWarning: Non-invertible starting MA parameters found. Using zeros as starting parameters.\n",
      "  warn('Non-invertible starting MA parameters found.'\n"
     ]
    },
    {
     "name": "stdout",
     "output_type": "stream",
     "text": [
      "The AIC for ARIMA(3,2,4) is: 622.1460290800779\n",
      "Attempting ARIMA(4, 2, 0)\n",
      "The AIC for ARIMA(4,2,0) is: 630.3743154246476\n",
      "Attempting ARIMA(4, 2, 1)\n",
      "The AIC for ARIMA(4,2,1) is: 626.7637006749258\n",
      "Attempting ARIMA(4, 2, 2)\n"
     ]
    },
    {
     "name": "stderr",
     "output_type": "stream",
     "text": [
      "/Users/lmarett8/opt/anaconda3/lib/python3.9/site-packages/statsmodels/tsa/base/tsa_model.py:471: ValueWarning: No frequency information was provided, so inferred frequency M will be used.\n",
      "  self._init_dates(dates, freq)\n",
      "/Users/lmarett8/opt/anaconda3/lib/python3.9/site-packages/statsmodels/tsa/base/tsa_model.py:471: ValueWarning: No frequency information was provided, so inferred frequency M will be used.\n",
      "  self._init_dates(dates, freq)\n",
      "/Users/lmarett8/opt/anaconda3/lib/python3.9/site-packages/statsmodels/tsa/base/tsa_model.py:471: ValueWarning: No frequency information was provided, so inferred frequency M will be used.\n",
      "  self._init_dates(dates, freq)\n",
      "/Users/lmarett8/opt/anaconda3/lib/python3.9/site-packages/statsmodels/tsa/base/tsa_model.py:471: ValueWarning: No frequency information was provided, so inferred frequency M will be used.\n",
      "  self._init_dates(dates, freq)\n",
      "/Users/lmarett8/opt/anaconda3/lib/python3.9/site-packages/statsmodels/tsa/base/tsa_model.py:471: ValueWarning: No frequency information was provided, so inferred frequency M will be used.\n",
      "  self._init_dates(dates, freq)\n",
      "/Users/lmarett8/opt/anaconda3/lib/python3.9/site-packages/statsmodels/tsa/base/tsa_model.py:471: ValueWarning: No frequency information was provided, so inferred frequency M will be used.\n",
      "  self._init_dates(dates, freq)\n",
      "/Users/lmarett8/opt/anaconda3/lib/python3.9/site-packages/statsmodels/tsa/base/tsa_model.py:471: ValueWarning: No frequency information was provided, so inferred frequency M will be used.\n",
      "  self._init_dates(dates, freq)\n",
      "/Users/lmarett8/opt/anaconda3/lib/python3.9/site-packages/statsmodels/tsa/base/tsa_model.py:471: ValueWarning: No frequency information was provided, so inferred frequency M will be used.\n",
      "  self._init_dates(dates, freq)\n",
      "/Users/lmarett8/opt/anaconda3/lib/python3.9/site-packages/statsmodels/tsa/base/tsa_model.py:471: ValueWarning: No frequency information was provided, so inferred frequency M will be used.\n",
      "  self._init_dates(dates, freq)\n",
      "/Users/lmarett8/opt/anaconda3/lib/python3.9/site-packages/statsmodels/tsa/statespace/sarimax.py:966: UserWarning: Non-stationary starting autoregressive parameters found. Using zeros as starting parameters.\n",
      "  warn('Non-stationary starting autoregressive parameters'\n",
      "/Users/lmarett8/opt/anaconda3/lib/python3.9/site-packages/statsmodels/tsa/statespace/sarimax.py:978: UserWarning: Non-invertible starting MA parameters found. Using zeros as starting parameters.\n",
      "  warn('Non-invertible starting MA parameters found.'\n",
      "/Users/lmarett8/opt/anaconda3/lib/python3.9/site-packages/statsmodels/base/model.py:604: ConvergenceWarning: Maximum Likelihood optimization failed to converge. Check mle_retvals\n",
      "  warnings.warn(\"Maximum Likelihood optimization failed to \"\n",
      "/Users/lmarett8/opt/anaconda3/lib/python3.9/site-packages/statsmodels/tsa/base/tsa_model.py:471: ValueWarning: No frequency information was provided, so inferred frequency M will be used.\n",
      "  self._init_dates(dates, freq)\n",
      "/Users/lmarett8/opt/anaconda3/lib/python3.9/site-packages/statsmodels/tsa/base/tsa_model.py:471: ValueWarning: No frequency information was provided, so inferred frequency M will be used.\n",
      "  self._init_dates(dates, freq)\n",
      "/Users/lmarett8/opt/anaconda3/lib/python3.9/site-packages/statsmodels/tsa/base/tsa_model.py:471: ValueWarning: No frequency information was provided, so inferred frequency M will be used.\n",
      "  self._init_dates(dates, freq)\n",
      "/Users/lmarett8/opt/anaconda3/lib/python3.9/site-packages/statsmodels/tsa/statespace/sarimax.py:978: UserWarning: Non-invertible starting MA parameters found. Using zeros as starting parameters.\n",
      "  warn('Non-invertible starting MA parameters found.'\n"
     ]
    },
    {
     "name": "stdout",
     "output_type": "stream",
     "text": [
      "The AIC for ARIMA(4,2,2) is: 616.4399510552972\n",
      "Attempting ARIMA(4, 2, 3)\n"
     ]
    },
    {
     "name": "stderr",
     "output_type": "stream",
     "text": [
      "/Users/lmarett8/opt/anaconda3/lib/python3.9/site-packages/statsmodels/base/model.py:604: ConvergenceWarning: Maximum Likelihood optimization failed to converge. Check mle_retvals\n",
      "  warnings.warn(\"Maximum Likelihood optimization failed to \"\n",
      "/Users/lmarett8/opt/anaconda3/lib/python3.9/site-packages/statsmodels/tsa/base/tsa_model.py:471: ValueWarning: No frequency information was provided, so inferred frequency M will be used.\n",
      "  self._init_dates(dates, freq)\n",
      "/Users/lmarett8/opt/anaconda3/lib/python3.9/site-packages/statsmodels/tsa/base/tsa_model.py:471: ValueWarning: No frequency information was provided, so inferred frequency M will be used.\n",
      "  self._init_dates(dates, freq)\n",
      "/Users/lmarett8/opt/anaconda3/lib/python3.9/site-packages/statsmodels/tsa/base/tsa_model.py:471: ValueWarning: No frequency information was provided, so inferred frequency M will be used.\n",
      "  self._init_dates(dates, freq)\n",
      "/Users/lmarett8/opt/anaconda3/lib/python3.9/site-packages/statsmodels/tsa/statespace/sarimax.py:966: UserWarning: Non-stationary starting autoregressive parameters found. Using zeros as starting parameters.\n",
      "  warn('Non-stationary starting autoregressive parameters'\n",
      "/Users/lmarett8/opt/anaconda3/lib/python3.9/site-packages/statsmodels/tsa/statespace/sarimax.py:978: UserWarning: Non-invertible starting MA parameters found. Using zeros as starting parameters.\n",
      "  warn('Non-invertible starting MA parameters found.'\n"
     ]
    },
    {
     "name": "stdout",
     "output_type": "stream",
     "text": [
      "The AIC for ARIMA(4,2,3) is: 620.8525161984415\n",
      "Attempting ARIMA(4, 2, 4)\n",
      "The AIC for ARIMA(4,2,4) is: 622.1751652108624\n",
      "\n",
      "\n",
      "MODEL FINISHED!\n",
      "Our model that minimizes AIC on the training data is the ARIMA(4,2,2).\n",
      "This model has an AIC of 616.4399510552972.\n"
     ]
    },
    {
     "name": "stderr",
     "output_type": "stream",
     "text": [
      "/Users/lmarett8/opt/anaconda3/lib/python3.9/site-packages/statsmodels/base/model.py:604: ConvergenceWarning: Maximum Likelihood optimization failed to converge. Check mle_retvals\n",
      "  warnings.warn(\"Maximum Likelihood optimization failed to \"\n"
     ]
    }
   ],
   "source": [
    "# Starting AIC, p, and q.\n",
    "best_aic = 99999999\n",
    "best_p = 0\n",
    "best_q = 0\n",
    "\n",
    "# Use nested for loop to iterate over values of p and q.\n",
    "for p in range(5):\n",
    "    for q in range(5):\n",
    "        \n",
    "        # Insert try and except statements.\n",
    "        try:\n",
    "            \n",
    "            # Fitting an ARIMA(p, 2, q) model.\n",
    "            print(f'Attempting ARIMA({p}, 2, {q})')\n",
    "            \n",
    "            # Instantiate ARIMA model.\n",
    "            arima = ARIMA(endog = r_y_train, order = (p, 2, q))\n",
    "            \n",
    "            \n",
    "            # Fit ARIMA model.\n",
    "            model = arima.fit()\n",
    "\n",
    "            # Print out AIC for ARIMA(p, 2, q) model.\n",
    "            print(f'The AIC for ARIMA({p},2,{q}) is: {model.aic}')\n",
    "\n",
    "            # Is my current model's AIC better than our best_aic?\n",
    "            if model.aic < best_aic:\n",
    "                \n",
    "                # If so, let's overwrite best_aic, best_p, and best_q.\n",
    "                best_aic = model.aic\n",
    "                best_p = p\n",
    "                best_q = q\n",
    "\n",
    "        except:\n",
    "            pass\n",
    "print()\n",
    "print()\n",
    "print('MODEL FINISHED!')\n",
    "print(f'Our model that minimizes AIC on the training data is the ARIMA({best_p},2,{best_q}).')\n",
    "print(f'This model has an AIC of {best_aic}.')"
   ]
  },
  {
   "cell_type": "code",
   "execution_count": 75,
   "id": "37bf0b9a-0b13-4c30-b26b-bee8afe0f07f",
   "metadata": {},
   "outputs": [
    {
     "name": "stderr",
     "output_type": "stream",
     "text": [
      "/Users/lmarett8/opt/anaconda3/lib/python3.9/site-packages/statsmodels/tsa/base/tsa_model.py:471: ValueWarning: No frequency information was provided, so inferred frequency M will be used.\n",
      "  self._init_dates(dates, freq)\n",
      "/Users/lmarett8/opt/anaconda3/lib/python3.9/site-packages/statsmodels/tsa/base/tsa_model.py:471: ValueWarning: No frequency information was provided, so inferred frequency M will be used.\n",
      "  self._init_dates(dates, freq)\n",
      "/Users/lmarett8/opt/anaconda3/lib/python3.9/site-packages/statsmodels/tsa/base/tsa_model.py:471: ValueWarning: No frequency information was provided, so inferred frequency M will be used.\n",
      "  self._init_dates(dates, freq)\n",
      "/Users/lmarett8/opt/anaconda3/lib/python3.9/site-packages/statsmodels/tsa/statespace/sarimax.py:966: UserWarning: Non-stationary starting autoregressive parameters found. Using zeros as starting parameters.\n",
      "  warn('Non-stationary starting autoregressive parameters'\n",
      "/Users/lmarett8/opt/anaconda3/lib/python3.9/site-packages/statsmodels/tsa/statespace/sarimax.py:978: UserWarning: Non-invertible starting MA parameters found. Using zeros as starting parameters.\n",
      "  warn('Non-invertible starting MA parameters found.'\n",
      "/Users/lmarett8/opt/anaconda3/lib/python3.9/site-packages/statsmodels/base/model.py:604: ConvergenceWarning: Maximum Likelihood optimization failed to converge. Check mle_retvals\n",
      "  warnings.warn(\"Maximum Likelihood optimization failed to \"\n"
     ]
    },
    {
     "data": {
      "image/png": "[encoded data removed]",
      "text/plain": [
       "<Figure size 720x432 with 1 Axes>"
      ]
     },
     "metadata": {
      "needs_background": "light"
     },
     "output_type": "display_data"
    }
   ],
   "source": [
    "# Instantiate best model.\n",
    "r_arima = ARIMA(endog = r_y_train, order = (4, 2, 2))\n",
    "\n",
    "# Fit ARIMA model.\n",
    "r_model = r_arima.fit()\n",
    "\n",
    "# Generate predictions based on test set.\n",
    "r_preds = r_model.predict(start = r_y_test.index[0], end = r_y_test.index[-1])\n",
    "\n",
    "# Plot data.\n",
    "plt.figure(figsize=(10,6))\n",
    "\n",
    "# Plot training data.\n",
    "plt.plot(r_y_train.index, r_y_train, color = 'blue')\n",
    "\n",
    "# Plot testing data.\n",
    "plt.plot(r_y_test.index, r_y_test, color = 'orange')\n",
    "\n",
    "# Plot predicted test values.\n",
    "plt.plot(r_y_test.index, r_preds, color = 'green')\n",
    "\n",
    "plt.title(label = 'Denver Rental Prices with ARIMA(4, 2, 2) Predictions', fontsize=16)\n",
    "plt.show();"
   ]
  },
  {
   "cell_type": "code",
   "execution_count": 99,
   "id": "4d94603d-8fe4-4218-bc55-00d1e972a535",
   "metadata": {},
   "outputs": [
    {
     "data": {
      "image/png": "[encoded data removed]",
      "text/plain": [
       "<Figure size 432x288 with 1 Axes>"
      ]
     },
     "execution_count": 99,
     "metadata": {},
     "output_type": "execute_result"
    },
    {
     "data": {
      "image/png": "[encoded data removed]",
      "text/plain": [
       "<Figure size 432x288 with 1 Axes>"
      ]
     },
     "metadata": {
      "needs_background": "light"
     },
     "output_type": "display_data"
    }
   ],
   "source": [
    "plot_predict(r_model, start = '2014-01-31', end = '2026-12-31')"
   ]
  },
  {
   "cell_type": "markdown",
   "id": "018d1b7b-7314-4294-adeb-eba524afa0bb",
   "metadata": {},
   "source": [
    "## Converting this into a VAR Model"
   ]
  },
  {
   "cell_type": "markdown",
   "id": "5fb89362-9dbd-45b7-be2a-403b12ced8a5",
   "metadata": {},
   "source": [
    "#### Creating the dataframe"
   ]
  },
  {
   "cell_type": "code",
   "execution_count": 145,
   "id": "d066136d-a2c9-404c-a72f-9cd8f550585e",
   "metadata": {},
   "outputs": [],
   "source": [
    "df = pd.concat([home_values, median_sale_price, rentals], axis = 1)\n",
    "df.reset_index(inplace = True)"
   ]
  },
  {
   "cell_type": "code",
   "execution_count": 146,
   "id": "cad4a1bd-9f35-4934-8945-d6fabb6251a6",
   "metadata": {},
   "outputs": [],
   "source": [
    "airbnb = pd.read_csv('./data/airbnb_pivot.csv')\n",
    "airbnb['date'] = pd.to_datetime(airbnb['date'])"
   ]
  },
  {
   "cell_type": "code",
   "execution_count": 147,
   "id": "b7affee6-0f29-452b-89fd-5fb6b67fcd58",
   "metadata": {},
   "outputs": [
    {
     "data": {
      "text/html": [
       "<div>\n",
       "<style scoped>\n",
       "    .dataframe tbody tr th:only-of-type {\n",
       "        vertical-align: middle;\n",
       "    }\n",
       "\n",
       "    .dataframe tbody tr th {\n",
       "        vertical-align: top;\n",
       "    }\n",
       "\n",
       "    .dataframe thead th {\n",
       "        text-align: right;\n",
       "    }\n",
       "</style>\n",
       "<table border=\"1\" class=\"dataframe\">\n",
       "  <thead>\n",
       "    <tr style=\"text-align: right;\">\n",
       "      <th></th>\n",
       "      <th>date</th>\n",
       "      <th>home_values</th>\n",
       "      <th>median_sale_price</th>\n",
       "      <th>rentals</th>\n",
       "      <th>airbnb_listings</th>\n",
       "    </tr>\n",
       "  </thead>\n",
       "  <tbody>\n",
       "    <tr>\n",
       "      <th>0</th>\n",
       "      <td>1996-01-31</td>\n",
       "      <td>145146.0</td>\n",
       "      <td>NaN</td>\n",
       "      <td>NaN</td>\n",
       "      <td>NaN</td>\n",
       "    </tr>\n",
       "    <tr>\n",
       "      <th>1</th>\n",
       "      <td>1996-02-29</td>\n",
       "      <td>145688.0</td>\n",
       "      <td>NaN</td>\n",
       "      <td>NaN</td>\n",
       "      <td>NaN</td>\n",
       "    </tr>\n",
       "    <tr>\n",
       "      <th>2</th>\n",
       "      <td>1996-03-31</td>\n",
       "      <td>146108.0</td>\n",
       "      <td>NaN</td>\n",
       "      <td>NaN</td>\n",
       "      <td>NaN</td>\n",
       "    </tr>\n",
       "    <tr>\n",
       "      <th>3</th>\n",
       "      <td>1996-04-30</td>\n",
       "      <td>146909.0</td>\n",
       "      <td>NaN</td>\n",
       "      <td>NaN</td>\n",
       "      <td>NaN</td>\n",
       "    </tr>\n",
       "    <tr>\n",
       "      <th>4</th>\n",
       "      <td>1996-05-31</td>\n",
       "      <td>147544.0</td>\n",
       "      <td>NaN</td>\n",
       "      <td>NaN</td>\n",
       "      <td>NaN</td>\n",
       "    </tr>\n",
       "    <tr>\n",
       "      <th>...</th>\n",
       "      <td>...</td>\n",
       "      <td>...</td>\n",
       "      <td>...</td>\n",
       "      <td>...</td>\n",
       "      <td>...</td>\n",
       "    </tr>\n",
       "    <tr>\n",
       "      <th>316</th>\n",
       "      <td>2022-05-31</td>\n",
       "      <td>640963.0</td>\n",
       "      <td>606514.0</td>\n",
       "      <td>1956.0</td>\n",
       "      <td>5000.0</td>\n",
       "    </tr>\n",
       "    <tr>\n",
       "      <th>317</th>\n",
       "      <td>2022-06-30</td>\n",
       "      <td>640289.0</td>\n",
       "      <td>611959.0</td>\n",
       "      <td>1973.0</td>\n",
       "      <td>5183.0</td>\n",
       "    </tr>\n",
       "    <tr>\n",
       "      <th>318</th>\n",
       "      <td>2022-07-31</td>\n",
       "      <td>632432.0</td>\n",
       "      <td>605209.0</td>\n",
       "      <td>1990.0</td>\n",
       "      <td>5437.0</td>\n",
       "    </tr>\n",
       "    <tr>\n",
       "      <th>319</th>\n",
       "      <td>2022-08-31</td>\n",
       "      <td>625992.0</td>\n",
       "      <td>597415.0</td>\n",
       "      <td>NaN</td>\n",
       "      <td>5681.0</td>\n",
       "    </tr>\n",
       "    <tr>\n",
       "      <th>320</th>\n",
       "      <td>2022-09-30</td>\n",
       "      <td>622544.0</td>\n",
       "      <td>NaN</td>\n",
       "      <td>NaN</td>\n",
       "      <td>5836.0</td>\n",
       "    </tr>\n",
       "  </tbody>\n",
       "</table>\n",
       "<p>321 rows × 5 columns</p>\n",
       "</div>"
      ],
      "text/plain": [
       "          date  home_values  median_sale_price  rentals  airbnb_listings\n",
       "0   1996-01-31     145146.0                NaN      NaN              NaN\n",
       "1   1996-02-29     145688.0                NaN      NaN              NaN\n",
       "2   1996-03-31     146108.0                NaN      NaN              NaN\n",
       "3   1996-04-30     146909.0                NaN      NaN              NaN\n",
       "4   1996-05-31     147544.0                NaN      NaN              NaN\n",
       "..         ...          ...                ...      ...              ...\n",
       "316 2022-05-31     640963.0           606514.0   1956.0           5000.0\n",
       "317 2022-06-30     640289.0           611959.0   1973.0           5183.0\n",
       "318 2022-07-31     632432.0           605209.0   1990.0           5437.0\n",
       "319 2022-08-31     625992.0           597415.0      NaN           5681.0\n",
       "320 2022-09-30     622544.0                NaN      NaN           5836.0\n",
       "\n",
       "[321 rows x 5 columns]"
      ]
     },
     "execution_count": 147,
     "metadata": {},
     "output_type": "execute_result"
    }
   ],
   "source": [
    "df = pd.merge(df, airbnb, how = 'left', left_on = 'date', right_on = 'date')\n",
    "col_names = ['date', 'home_values', 'median_sale_price', 'rentals', 'airbnb_listings']\n",
    "df.columns = col_names\n",
    "df"
   ]
  },
  {
   "cell_type": "markdown",
   "id": "ed661906-291d-4b76-95d1-971091a0eb15",
   "metadata": {},
   "source": [
    "#### Determining where the data starts for all series"
   ]
  },
  {
   "cell_type": "code",
   "execution_count": 150,
   "id": "ac32ecd2-9c9f-407f-b528-47c180081b4a",
   "metadata": {},
   "outputs": [
    {
     "data": {
      "text/html": [
       "<div>\n",
       "<style scoped>\n",
       "    .dataframe tbody tr th:only-of-type {\n",
       "        vertical-align: middle;\n",
       "    }\n",
       "\n",
       "    .dataframe tbody tr th {\n",
       "        vertical-align: top;\n",
       "    }\n",
       "\n",
       "    .dataframe thead th {\n",
       "        text-align: right;\n",
       "    }\n",
       "</style>\n",
       "<table border=\"1\" class=\"dataframe\">\n",
       "  <thead>\n",
       "    <tr style=\"text-align: right;\">\n",
       "      <th></th>\n",
       "      <th>value</th>\n",
       "    </tr>\n",
       "    <tr>\n",
       "      <th>date</th>\n",
       "      <th></th>\n",
       "    </tr>\n",
       "  </thead>\n",
       "  <tbody>\n",
       "    <tr>\n",
       "      <th>2008-02-29</th>\n",
       "      <td>249580.0</td>\n",
       "    </tr>\n",
       "  </tbody>\n",
       "</table>\n",
       "</div>"
      ],
      "text/plain": [
       "               value\n",
       "date                \n",
       "2008-02-29  249580.0"
      ]
     },
     "execution_count": 150,
     "metadata": {},
     "output_type": "execute_result"
    }
   ],
   "source": [
    "median_sale_price.head(1)"
   ]
  },
  {
   "cell_type": "code",
   "execution_count": 152,
   "id": "6de49e32-ed34-4cc1-a2f4-810defaa40bc",
   "metadata": {},
   "outputs": [
    {
     "data": {
      "text/html": [
       "<div>\n",
       "<style scoped>\n",
       "    .dataframe tbody tr th:only-of-type {\n",
       "        vertical-align: middle;\n",
       "    }\n",
       "\n",
       "    .dataframe tbody tr th {\n",
       "        vertical-align: top;\n",
       "    }\n",
       "\n",
       "    .dataframe thead th {\n",
       "        text-align: right;\n",
       "    }\n",
       "</style>\n",
       "<table border=\"1\" class=\"dataframe\">\n",
       "  <thead>\n",
       "    <tr style=\"text-align: right;\">\n",
       "      <th></th>\n",
       "      <th>value</th>\n",
       "    </tr>\n",
       "    <tr>\n",
       "      <th>date</th>\n",
       "      <th></th>\n",
       "    </tr>\n",
       "  </thead>\n",
       "  <tbody>\n",
       "    <tr>\n",
       "      <th>2014-01-31</th>\n",
       "      <td>1236.0</td>\n",
       "    </tr>\n",
       "  </tbody>\n",
       "</table>\n",
       "</div>"
      ],
      "text/plain": [
       "             value\n",
       "date              \n",
       "2014-01-31  1236.0"
      ]
     },
     "execution_count": 152,
     "metadata": {},
     "output_type": "execute_result"
    }
   ],
   "source": [
    "rentals.head(1)"
   ]
  },
  {
   "cell_type": "code",
   "execution_count": 154,
   "id": "d113f937-20c6-45f1-8d72-8ff02593bff7",
   "metadata": {},
   "outputs": [
    {
     "data": {
      "text/html": [
       "<div>\n",
       "<style scoped>\n",
       "    .dataframe tbody tr th:only-of-type {\n",
       "        vertical-align: middle;\n",
       "    }\n",
       "\n",
       "    .dataframe tbody tr th {\n",
       "        vertical-align: top;\n",
       "    }\n",
       "\n",
       "    .dataframe thead th {\n",
       "        text-align: right;\n",
       "    }\n",
       "</style>\n",
       "<table border=\"1\" class=\"dataframe\">\n",
       "  <thead>\n",
       "    <tr style=\"text-align: right;\">\n",
       "      <th></th>\n",
       "      <th>date</th>\n",
       "      <th>total_listings</th>\n",
       "    </tr>\n",
       "  </thead>\n",
       "  <tbody>\n",
       "    <tr>\n",
       "      <th>0</th>\n",
       "      <td>2009-02-28</td>\n",
       "      <td>1</td>\n",
       "    </tr>\n",
       "  </tbody>\n",
       "</table>\n",
       "</div>"
      ],
      "text/plain": [
       "        date  total_listings\n",
       "0 2009-02-28               1"
      ]
     },
     "execution_count": 154,
     "metadata": {},
     "output_type": "execute_result"
    }
   ],
   "source": [
    "airbnb.head(1)"
   ]
  },
  {
   "cell_type": "code",
   "execution_count": 163,
   "id": "c6f47fa9-1785-4a95-aeb0-468a2902528f",
   "metadata": {},
   "outputs": [],
   "source": [
    "df = df.loc[(df['date'] > '2014-01-01') & (df['date'] < '2022-08-31')]"
   ]
  },
  {
   "cell_type": "code",
   "execution_count": 164,
   "id": "1d0e576a-8f63-4e52-bd43-0338b0134c4b",
   "metadata": {},
   "outputs": [
    {
     "data": {
      "text/plain": [
       "date                 0\n",
       "home_values          0\n",
       "median_sale_price    0\n",
       "rentals              0\n",
       "airbnb_listings      0\n",
       "dtype: int64"
      ]
     },
     "execution_count": 164,
     "metadata": {},
     "output_type": "execute_result"
    }
   ],
   "source": [
    "df.isnull().sum()"
   ]
  },
  {
   "cell_type": "code",
   "execution_count": 166,
   "id": "9247284c-76e3-4af1-97a6-b6218b136f7c",
   "metadata": {},
   "outputs": [],
   "source": [
    "df.set_index('date', inplace = True)"
   ]
  },
  {
   "cell_type": "code",
   "execution_count": 168,
   "id": "d5921792-0255-43ae-8f84-8d7e5c8b3bd6",
   "metadata": {},
   "outputs": [],
   "source": [
    "# Code modified from code written by Matthew Garton (taken from Lesson 8.04)\n",
    "\n",
    "def plot_series(df, cols=None, title='Title', xlab=None, ylab=None, steps=1):\n",
    "    \n",
    "    plt.figure(figsize=(18,9))\n",
    "    legend_list = []\n",
    "    \n",
    "    # Iterate through each column name.\n",
    "    for col in cols:\n",
    "            \n",
    "        # Generate a line plot of the column name.\n",
    "        plt.plot(df[col])\n",
    "        legend_list.append(col)\n",
    "        \n",
    "    # Generate title and labels.\n",
    "    plt.title(title, fontsize=26)\n",
    "    plt.xlabel(xlab, fontsize=20)\n",
    "    plt.ylabel(ylab, fontsize=20)\n",
    "    \n",
    "    # Enlarge tick marks.\n",
    "    plt.yticks(fontsize=18)\n",
    "    plt.xticks(df.index[0::steps], fontsize=18)\n",
    "    \n",
    "    plt.legend(legend_list);"
   ]
  },
  {
   "cell_type": "code",
   "execution_count": 170,
   "id": "59cb9193-c5fe-41c5-85b1-7659f2777b25",
   "metadata": {},
   "outputs": [
    {
     "data": {
      "image/png": "[encoded data removed]",
      "text/plain": [
       "<Figure size 1296x648 with 1 Axes>"
      ]
     },
     "metadata": {
      "needs_background": "light"
     },
     "output_type": "display_data"
    }
   ],
   "source": [
    "# Plot our home values and median sales price\n",
    "plot_series(df,\n",
    "           ['home_values', 'median_sale_price'],\n",
    "           title = 'Denver Home Values and Median Sale Price',\n",
    "           steps = 50)"
   ]
  },
  {
   "cell_type": "markdown",
   "id": "de7281d8-e37c-4383-9d9c-be4d49bc594a",
   "metadata": {},
   "source": [
    "- Interesting to note that these two features are so highly correlated, with sale price seemingly lagging just behind home value. Given that they are so similar, I feel comfortable dropping one from my model."
   ]
  },
  {
   "cell_type": "code",
   "execution_count": 174,
   "id": "86917a7a-d0b3-4bd0-8bed-6f4136b9095a",
   "metadata": {},
   "outputs": [
    {
     "name": "stderr",
     "output_type": "stream",
     "text": [
      "/var/folders/lz/08gb56690psggb6cznf0xhwh0000gn/T/ipykernel_23392/1057497514.py:1: SettingWithCopyWarning: \n",
      "A value is trying to be set on a copy of a slice from a DataFrame\n",
      "\n",
      "See the caveats in the documentation: https://pandas.pydata.org/pandas-docs/stable/user_guide/indexing.html#returning-a-view-versus-a-copy\n",
      "  df.drop(columns = 'median_sale_price', inplace = True)\n"
     ]
    }
   ],
   "source": [
    "df.drop(columns = 'median_sale_price', inplace = True)"
   ]
  },
  {
   "cell_type": "code",
   "execution_count": 171,
   "id": "fde54a60-da1c-4f56-aefc-94bee4ba4840",
   "metadata": {},
   "outputs": [
    {
     "data": {
      "image/png": "[encoded data removed]",
      "text/plain": [
       "<Figure size 1296x648 with 1 Axes>"
      ]
     },
     "metadata": {
      "needs_background": "light"
     },
     "output_type": "display_data"
    }
   ],
   "source": [
    "# Plot our rental prices\n",
    "plot_series(df,\n",
    "           ['rentals'],\n",
    "           title = 'Denver Rental Prices',\n",
    "           steps = 50)"
   ]
  },
  {
   "cell_type": "code",
   "execution_count": 172,
   "id": "0ee71a43-5915-4a68-990e-4444bad38091",
   "metadata": {},
   "outputs": [
    {
     "data": {
      "image/png": "[encoded data removed]",
      "text/plain": [
       "<Figure size 1296x648 with 1 Axes>"
      ]
     },
     "metadata": {
      "needs_background": "light"
     },
     "output_type": "display_data"
    }
   ],
   "source": [
    "# Plot our airbnb listings\n",
    "plot_series(df,\n",
    "           ['airbnb_listings'],\n",
    "           title = 'Number of Airbnb Listings in Denver',\n",
    "           steps = 50)"
   ]
  },
  {
   "cell_type": "markdown",
   "id": "e5a3fde9-5ba7-495e-859f-ec3b8a3e6cde",
   "metadata": {},
   "source": [
    "## AD Fuller Test"
   ]
  },
  {
   "cell_type": "markdown",
   "id": "40be4919-795f-4ad3-9775-1d7e65eed85a",
   "metadata": {},
   "source": [
    "- We already have our d values for the `home_values` (d = 1) and `rentals` (d = 2) data, but we still need to determine it for our `airbnb_listings`"
   ]
  },
  {
   "cell_type": "code",
   "execution_count": 175,
   "id": "4d5d40ee-0fdc-4339-8cae-1d2aa7ec2a99",
   "metadata": {},
   "outputs": [
    {
     "data": {
      "text/plain": [
       "Test Statistic    2.660740\n",
       "p-value           0.999084\n",
       "dtype: float64"
      ]
     },
     "execution_count": 175,
     "metadata": {},
     "output_type": "execute_result"
    }
   ],
   "source": [
    "interpret_dftest(adfuller(df['airbnb_listings']))"
   ]
  },
  {
   "cell_type": "code",
   "execution_count": 176,
   "id": "47cff607-feba-4012-b5d2-b67b07c2c94a",
   "metadata": {},
   "outputs": [
    {
     "data": {
      "text/plain": [
       "Test Statistic    0.965306\n",
       "p-value           0.993886\n",
       "dtype: float64"
      ]
     },
     "execution_count": 176,
     "metadata": {},
     "output_type": "execute_result"
    }
   ],
   "source": [
    "interpret_dftest(adfuller(df['airbnb_listings'].diff().dropna()))"
   ]
  },
  {
   "cell_type": "code",
   "execution_count": 177,
   "id": "a5005bf5-91d7-43af-bab7-00a433f16212",
   "metadata": {},
   "outputs": [
    {
     "data": {
      "text/plain": [
       "Test Statistic   -1.132482e+01\n",
       "p-value           1.150382e-20\n",
       "dtype: float64"
      ]
     },
     "execution_count": 177,
     "metadata": {},
     "output_type": "execute_result"
    }
   ],
   "source": [
    "interpret_dftest(adfuller(df['airbnb_listings'].diff().diff().dropna()))"
   ]
  },
  {
   "cell_type": "markdown",
   "id": "08cf7204-b9e7-456e-aee8-4ce466c2a32a",
   "metadata": {},
   "source": [
    "- It looks like `d = 2` is the best value for our `airbnb_listings` data"
   ]
  },
  {
   "cell_type": "markdown",
   "id": "07ce01f7-e1be-4bdd-9320-a0cb14d0b5f0",
   "metadata": {},
   "source": []
  },
  {
   "cell_type": "code",
   "execution_count": 178,
   "id": "141495f2-d3f4-457e-914a-dd589022a1b4",
   "metadata": {},
   "outputs": [
    {
     "name": "stderr",
     "output_type": "stream",
     "text": [
      "/var/folders/lz/08gb56690psggb6cznf0xhwh0000gn/T/ipykernel_23392/2751866542.py:1: SettingWithCopyWarning: \n",
      "A value is trying to be set on a copy of a slice from a DataFrame.\n",
      "Try using .loc[row_indexer,col_indexer] = value instead\n",
      "\n",
      "See the caveats in the documentation: https://pandas.pydata.org/pandas-docs/stable/user_guide/indexing.html#returning-a-view-versus-a-copy\n",
      "  df['first_diff_homevalues'] = df['home_values'].diff()\n",
      "/var/folders/lz/08gb56690psggb6cznf0xhwh0000gn/T/ipykernel_23392/2751866542.py:2: SettingWithCopyWarning: \n",
      "A value is trying to be set on a copy of a slice from a DataFrame.\n",
      "Try using .loc[row_indexer,col_indexer] = value instead\n",
      "\n",
      "See the caveats in the documentation: https://pandas.pydata.org/pandas-docs/stable/user_guide/indexing.html#returning-a-view-versus-a-copy\n",
      "  df['second_diff_rentals'] = df['rentals'].diff().diff()\n",
      "/var/folders/lz/08gb56690psggb6cznf0xhwh0000gn/T/ipykernel_23392/2751866542.py:3: SettingWithCopyWarning: \n",
      "A value is trying to be set on a copy of a slice from a DataFrame.\n",
      "Try using .loc[row_indexer,col_indexer] = value instead\n",
      "\n",
      "See the caveats in the documentation: https://pandas.pydata.org/pandas-docs/stable/user_guide/indexing.html#returning-a-view-versus-a-copy\n",
      "  df['second_diff_airbnb'] = df['airbnb_listings'].diff().diff()\n"
     ]
    }
   ],
   "source": [
    "df['first_diff_homevalues'] = df['home_values'].diff()\n",
    "df['second_diff_rentals'] = df['rentals'].diff().diff()\n",
    "df['second_diff_airbnb'] = df['airbnb_listings'].diff().diff()"
   ]
  },
  {
   "cell_type": "code",
   "execution_count": 179,
   "id": "e152c669-74cd-4447-9746-720d272593a2",
   "metadata": {},
   "outputs": [
    {
     "name": "stderr",
     "output_type": "stream",
     "text": [
      "/var/folders/lz/08gb56690psggb6cznf0xhwh0000gn/T/ipykernel_23392/2084151324.py:2: SettingWithCopyWarning: \n",
      "A value is trying to be set on a copy of a slice from a DataFrame\n",
      "\n",
      "See the caveats in the documentation: https://pandas.pydata.org/pandas-docs/stable/user_guide/indexing.html#returning-a-view-versus-a-copy\n",
      "  var_df.dropna(inplace = True)\n"
     ]
    }
   ],
   "source": [
    "var_df = df[['first_diff_homevalues', 'second_diff_rentals', 'second_diff_airbnb']]\n",
    "var_df.dropna(inplace = True)"
   ]
  },
  {
   "cell_type": "code",
   "execution_count": 180,
   "id": "51c59de2-077d-451b-8c78-4c228ba52f76",
   "metadata": {},
   "outputs": [],
   "source": [
    "train, test = train_test_split(var_df,\n",
    "                               test_size = 0.1,\n",
    "                              shuffle = False)"
   ]
  },
  {
   "cell_type": "code",
   "execution_count": 183,
   "id": "f92ec15f-1870-4fc4-bb10-38c72e0eefc7",
   "metadata": {},
   "outputs": [
    {
     "name": "stderr",
     "output_type": "stream",
     "text": [
      "/Users/lmarett8/opt/anaconda3/lib/python3.9/site-packages/statsmodels/tsa/base/tsa_model.py:471: ValueWarning: No frequency information was provided, so inferred frequency M will be used.\n",
      "  self._init_dates(dates, freq)\n"
     ]
    },
    {
     "data": {
      "text/plain": [
       "  Summary of Regression Results   \n",
       "==================================\n",
       "Model:                         VAR\n",
       "Method:                        OLS\n",
       "Date:           Tue, 15, Nov, 2022\n",
       "Time:                     03:30:33\n",
       "--------------------------------------------------------------------\n",
       "No. of Equations:         3.00000    BIC:                    27.1066\n",
       "Nobs:                     77.0000    HQIC:                   24.9150\n",
       "Log likelihood:          -1110.75    FPE:                2.14891e+10\n",
       "AIC:                      23.4539    Det(Omega_mle):     6.12538e+09\n",
       "--------------------------------------------------------------------\n",
       "Results for equation first_diff_homevalues\n",
       "============================================================================================\n",
       "                               coefficient       std. error           t-stat            prob\n",
       "--------------------------------------------------------------------------------------------\n",
       "const                           304.468202       267.661341            1.138           0.255\n",
       "L1.first_diff_homevalues          0.940817         0.162315            5.796           0.000\n",
       "L1.second_diff_rentals          -11.474980        25.158489           -0.456           0.648\n",
       "L1.second_diff_airbnb            -2.571645         3.487413           -0.737           0.461\n",
       "L2.first_diff_homevalues          0.066554         0.231968            0.287           0.774\n",
       "L2.second_diff_rentals          -10.750514        24.230437           -0.444           0.657\n",
       "L2.second_diff_airbnb            -1.152729         4.476030           -0.258           0.797\n",
       "L3.first_diff_homevalues          0.175838         0.236759            0.743           0.458\n",
       "L3.second_diff_rentals            3.428723        26.460466            0.130           0.897\n",
       "L3.second_diff_airbnb             0.347306         5.328210            0.065           0.948\n",
       "L4.first_diff_homevalues         -0.158687         0.296204           -0.536           0.592\n",
       "L4.second_diff_rentals          -77.835243        36.186762           -2.151           0.031\n",
       "L4.second_diff_airbnb            -5.019639         5.682188           -0.883           0.377\n",
       "L5.first_diff_homevalues         -0.039688         0.279944           -0.142           0.887\n",
       "L5.second_diff_rentals         -125.398618        59.614424           -2.103           0.035\n",
       "L5.second_diff_airbnb           -10.406605         6.181421           -1.684           0.092\n",
       "L6.first_diff_homevalues         -0.098136         0.302942           -0.324           0.746\n",
       "L6.second_diff_rentals          -62.587373        73.386431           -0.853           0.394\n",
       "L6.second_diff_airbnb           -12.103564         6.410099           -1.888           0.059\n",
       "L7.first_diff_homevalues          0.466378         0.310121            1.504           0.133\n",
       "L7.second_diff_rentals           89.630753        70.867500            1.265           0.206\n",
       "L7.second_diff_airbnb           -10.128768         6.561411           -1.544           0.123\n",
       "L8.first_diff_homevalues         -0.556936         0.301986           -1.844           0.065\n",
       "L8.second_diff_rentals           83.501428        69.671043            1.199           0.231\n",
       "L8.second_diff_airbnb           -13.375913         6.589480           -2.030           0.042\n",
       "L9.first_diff_homevalues          0.381289         0.299320            1.274           0.203\n",
       "L9.second_diff_rentals           24.460518       114.822059            0.213           0.831\n",
       "L9.second_diff_airbnb            -9.235899         6.560513           -1.408           0.159\n",
       "L10.first_diff_homevalues         0.156102         0.307422            0.508           0.612\n",
       "L10.second_diff_rentals        -184.330411       127.044167           -1.451           0.147\n",
       "L10.second_diff_airbnb          -10.493017         6.145950           -1.707           0.088\n",
       "L11.first_diff_homevalues        -0.773259         0.344310           -2.246           0.025\n",
       "L11.second_diff_rentals        -214.006430        93.940903           -2.278           0.023\n",
       "L11.second_diff_airbnb           -3.896266         5.823848           -0.669           0.503\n",
       "L12.first_diff_homevalues        -0.164297         0.353793           -0.464           0.642\n",
       "L12.second_diff_rentals        -101.771155       137.024538           -0.743           0.458\n",
       "L12.second_diff_airbnb           -3.880007         4.759325           -0.815           0.415\n",
       "L13.first_diff_homevalues         0.483522         0.238863            2.024           0.043\n",
       "L13.second_diff_rentals         228.598549       137.671824            1.660           0.097\n",
       "L13.second_diff_airbnb           -2.896976         3.603743           -0.804           0.421\n",
       "============================================================================================\n",
       "\n",
       "Results for equation second_diff_rentals\n",
       "============================================================================================\n",
       "                               coefficient       std. error           t-stat            prob\n",
       "--------------------------------------------------------------------------------------------\n",
       "const                            -1.638051         1.857829           -0.882           0.378\n",
       "L1.first_diff_homevalues         -0.000466         0.001127           -0.414           0.679\n",
       "L1.second_diff_rentals            0.001063         0.174624            0.006           0.995\n",
       "L1.second_diff_airbnb             0.000890         0.024206            0.037           0.971\n",
       "L2.first_diff_homevalues          0.004570         0.001610            2.838           0.005\n",
       "L2.second_diff_rentals            0.224240         0.168183            1.333           0.182\n",
       "L2.second_diff_airbnb             0.009060         0.031068            0.292           0.771\n",
       "L3.first_diff_homevalues         -0.007773         0.001643           -4.730           0.000\n",
       "L3.second_diff_rentals           -0.462435         0.183661           -2.518           0.012\n",
       "L3.second_diff_airbnb            -0.023662         0.036983           -0.640           0.522\n",
       "L4.first_diff_homevalues          0.002649         0.002056            1.288           0.198\n",
       "L4.second_diff_rentals            0.371949         0.251171            1.481           0.139\n",
       "L4.second_diff_airbnb            -0.017290         0.039440           -0.438           0.661\n",
       "L5.first_diff_homevalues          0.006126         0.001943            3.153           0.002\n",
       "L5.second_diff_rentals           -0.063406         0.413782           -0.153           0.878\n",
       "L5.second_diff_airbnb            -0.001345         0.042905           -0.031           0.975\n",
       "L6.first_diff_homevalues         -0.005841         0.002103           -2.778           0.005\n",
       "L6.second_diff_rentals            0.597513         0.509373            1.173           0.241\n",
       "L6.second_diff_airbnb             0.008143         0.044492            0.183           0.855\n",
       "L7.first_diff_homevalues          0.000307         0.002153            0.142           0.887\n",
       "L7.second_diff_rentals           -0.274637         0.491889           -0.558           0.577\n",
       "L7.second_diff_airbnb            -0.001354         0.045543           -0.030           0.976\n",
       "L8.first_diff_homevalues          0.000701         0.002096            0.335           0.738\n",
       "L8.second_diff_rentals           -1.979768         0.483584           -4.094           0.000\n",
       "L8.second_diff_airbnb             0.029985         0.045737            0.656           0.512\n",
       "L9.first_diff_homevalues         -0.000124         0.002078           -0.060           0.952\n",
       "L9.second_diff_rentals           -3.050424         0.796976           -3.827           0.000\n",
       "L9.second_diff_airbnb             0.038563         0.045536            0.847           0.397\n",
       "L10.first_diff_homevalues        -0.000900         0.002134           -0.422           0.673\n",
       "L10.second_diff_rentals          -0.440000         0.881809           -0.499           0.618\n",
       "L10.second_diff_airbnb            0.066540         0.042659            1.560           0.119\n",
       "L11.first_diff_homevalues         0.003466         0.002390            1.450           0.147\n",
       "L11.second_diff_rentals           1.898441         0.652041            2.912           0.004\n",
       "L11.second_diff_airbnb            0.017181         0.040423            0.425           0.671\n",
       "L12.first_diff_homevalues        -0.002937         0.002456           -1.196           0.232\n",
       "L12.second_diff_rentals           2.503810         0.951083            2.633           0.008\n",
       "L12.second_diff_airbnb            0.019081         0.033034            0.578           0.564\n",
       "L13.first_diff_homevalues         0.000758         0.001658            0.457           0.647\n",
       "L13.second_diff_rentals          -0.065167         0.955576           -0.068           0.946\n",
       "L13.second_diff_airbnb            0.029009         0.025013            1.160           0.246\n",
       "============================================================================================\n",
       "\n",
       "Results for equation second_diff_airbnb\n",
       "============================================================================================\n",
       "                               coefficient       std. error           t-stat            prob\n",
       "--------------------------------------------------------------------------------------------\n",
       "const                           -14.619907        12.869653           -1.136           0.256\n",
       "L1.first_diff_homevalues          0.012032         0.007804            1.542           0.123\n",
       "L1.second_diff_rentals            0.180919         1.209667            0.150           0.881\n",
       "L1.second_diff_airbnb            -0.866656         0.167681           -5.168           0.000\n",
       "L2.first_diff_homevalues          0.002558         0.011153            0.229           0.819\n",
       "L2.second_diff_rentals            0.685312         1.165044            0.588           0.556\n",
       "L2.second_diff_airbnb            -0.859442         0.215216           -3.993           0.000\n",
       "L3.first_diff_homevalues         -0.009277         0.011384           -0.815           0.415\n",
       "L3.second_diff_rentals            0.623798         1.272268            0.490           0.624\n",
       "L3.second_diff_airbnb            -0.604201         0.256190           -2.358           0.018\n",
       "L4.first_diff_homevalues         -0.004901         0.014242           -0.344           0.731\n",
       "L4.second_diff_rentals            0.245258         1.739927            0.141           0.888\n",
       "L4.second_diff_airbnb            -0.774424         0.273210           -2.835           0.005\n",
       "L5.first_diff_homevalues          0.001035         0.013460            0.077           0.939\n",
       "L5.second_diff_rentals            2.342318         2.866372            0.817           0.414\n",
       "L5.second_diff_airbnb            -0.631588         0.297214           -2.125           0.034\n",
       "L6.first_diff_homevalues          0.002452         0.014566            0.168           0.866\n",
       "L6.second_diff_rentals            2.387843         3.528556            0.677           0.499\n",
       "L6.second_diff_airbnb            -0.457721         0.308209           -1.485           0.138\n",
       "L7.first_diff_homevalues         -0.003210         0.014911           -0.215           0.830\n",
       "L7.second_diff_rentals           -0.980190         3.407441           -0.288           0.774\n",
       "L7.second_diff_airbnb            -0.450257         0.315485           -1.427           0.154\n",
       "L8.first_diff_homevalues          0.000110         0.014520            0.008           0.994\n",
       "L8.second_diff_rentals           -4.417636         3.349913           -1.319           0.187\n",
       "L8.second_diff_airbnb            -0.314552         0.316834           -0.993           0.321\n",
       "L9.first_diff_homevalues          0.006495         0.014392            0.451           0.652\n",
       "L9.second_diff_rentals           -8.237561         5.520857           -1.492           0.136\n",
       "L9.second_diff_airbnb            -0.327632         0.315442           -1.039           0.299\n",
       "L10.first_diff_homevalues        -0.008547         0.014781           -0.578           0.563\n",
       "L10.second_diff_rentals          -2.954562         6.108519           -0.484           0.629\n",
       "L10.second_diff_airbnb           -0.072369         0.295509           -0.245           0.807\n",
       "L11.first_diff_homevalues        -0.006981         0.016555           -0.422           0.673\n",
       "L11.second_diff_rentals          -0.174957         4.516853           -0.039           0.969\n",
       "L11.second_diff_airbnb           -0.135821         0.280021           -0.485           0.628\n",
       "L12.first_diff_homevalues         0.010841         0.017011            0.637           0.524\n",
       "L12.second_diff_rentals           7.650544         6.588394            1.161           0.246\n",
       "L12.second_diff_airbnb           -0.093808         0.228837           -0.410           0.682\n",
       "L13.first_diff_homevalues         0.005249         0.011485            0.457           0.648\n",
       "L13.second_diff_rentals           1.932432         6.619517            0.292           0.770\n",
       "L13.second_diff_airbnb           -0.114940         0.173275           -0.663           0.507\n",
       "============================================================================================\n",
       "\n",
       "Correlation matrix of residuals\n",
       "                         first_diff_homevalues  second_diff_rentals  second_diff_airbnb\n",
       "first_diff_homevalues                 1.000000            -0.104675            0.045175\n",
       "second_diff_rentals                  -0.104675             1.000000           -0.083819\n",
       "second_diff_airbnb                    0.045175            -0.083819            1.000000\n",
       "\n"
      ]
     },
     "execution_count": 183,
     "metadata": {},
     "output_type": "execute_result"
    }
   ],
   "source": [
    "model = VAR(train)\n",
    "var_model = model.fit(maxlags = 15, ic = 'aic')\n",
    "var_model.summary()"
   ]
  },
  {
   "cell_type": "code",
   "execution_count": 184,
   "id": "3bcde68a-65a0-4477-8290-51362f8db8b8",
   "metadata": {},
   "outputs": [
    {
     "data": {
      "image/png": "[encoded data removed]",
      "text/plain": [
       "<Figure size 720x720 with 3 Axes>"
      ]
     },
     "metadata": {
      "needs_background": "light"
     },
     "output_type": "display_data"
    }
   ],
   "source": [
    "var_model.plot();"
   ]
  },
  {
   "cell_type": "code",
   "execution_count": 186,
   "id": "0c83b3ce-6458-41b9-95b0-bb9b00072909",
   "metadata": {},
   "outputs": [
    {
     "data": {
      "image/png": "[encoded data removed]",
      "text/plain": [
       "<Figure size 720x720 with 3 Axes>"
      ]
     },
     "metadata": {
      "needs_background": "light"
     },
     "output_type": "display_data"
    }
   ],
   "source": [
    "var_model.plot_forecast(10);"
   ]
  },
  {
   "cell_type": "code",
   "execution_count": 187,
   "id": "6b633b7f-e541-4bff-85b3-3b94eaf0e045",
   "metadata": {},
   "outputs": [
    {
     "data": {
      "text/plain": [
       "array([[-5.68965029e+03,  1.41615889e+02,  2.98682774e+02],\n",
       "       [-2.14727309e+03, -6.22783564e+01, -3.18891768e+02],\n",
       "       [ 7.56840766e+02,  2.35805424e+01, -1.91600210e+00],\n",
       "       [ 7.79614778e+03, -1.58793534e+02, -3.28356272e+02],\n",
       "       [-1.03675183e+04, -7.17179587e+01,  1.98382293e+02],\n",
       "       [-2.43701642e+04, -2.09711273e+02, -1.33927948e+02],\n",
       "       [-4.57540522e+04,  3.11167333e+02,  1.59016347e+02],\n",
       "       [-2.22919681e+04, -1.11581968e+01, -5.82169527e+02],\n",
       "       [ 1.04321545e+04, -8.25472328e+01, -9.66571051e+01],\n",
       "       [ 5.17953130e+04, -6.74004865e+02, -4.15705630e+02]])"
      ]
     },
     "execution_count": 187,
     "metadata": {},
     "output_type": "execute_result"
    }
   ],
   "source": [
    "var_model.forecast(train.values, 10)"
   ]
  },
  {
   "cell_type": "code",
   "execution_count": 188,
   "id": "fa995c3e-5f74-44d0-aee5-676b04483664",
   "metadata": {},
   "outputs": [
    {
     "data": {
      "text/plain": [
       "(11, 3)"
      ]
     },
     "execution_count": 188,
     "metadata": {},
     "output_type": "execute_result"
    }
   ],
   "source": [
    "test.shape"
   ]
  },
  {
   "cell_type": "code",
   "execution_count": 189,
   "id": "f865e812-9b1f-4a71-8a3c-1a5c30e7faab",
   "metadata": {},
   "outputs": [
    {
     "data": {
      "text/plain": [
       "array([[-5.68965029e+03,  1.41615889e+02,  2.98682774e+02],\n",
       "       [-2.14727309e+03, -6.22783564e+01, -3.18891768e+02],\n",
       "       [ 7.56840766e+02,  2.35805424e+01, -1.91600210e+00],\n",
       "       [ 7.79614778e+03, -1.58793534e+02, -3.28356272e+02],\n",
       "       [-1.03675183e+04, -7.17179587e+01,  1.98382293e+02],\n",
       "       [-2.43701642e+04, -2.09711273e+02, -1.33927948e+02],\n",
       "       [-4.57540522e+04,  3.11167333e+02,  1.59016347e+02],\n",
       "       [-2.22919681e+04, -1.11581968e+01, -5.82169527e+02],\n",
       "       [ 1.04321545e+04, -8.25472328e+01, -9.66571051e+01],\n",
       "       [ 5.17953130e+04, -6.74004865e+02, -4.15705630e+02],\n",
       "       [ 1.89305790e+04,  2.39149317e+02,  1.37776360e+03]])"
      ]
     },
     "execution_count": 189,
     "metadata": {},
     "output_type": "execute_result"
    }
   ],
   "source": [
    "var_model.forecast(train.values, test.shape[0])"
   ]
  },
  {
   "cell_type": "code",
   "execution_count": 191,
   "id": "ecd2255f-7502-49c4-942c-34a1188facb9",
   "metadata": {},
   "outputs": [],
   "source": [
    "# Save forecasted values\n",
    "forecast = var_model.forecast(train.values, test.shape[0])"
   ]
  },
  {
   "cell_type": "code",
   "execution_count": 192,
   "id": "d83e877b-eeb4-4177-b9d1-1aec015b80e0",
   "metadata": {},
   "outputs": [
    {
     "name": "stdout",
     "output_type": "stream",
     "text": [
      "The test MSE on the first_diff_homevalues data is: 898418716.166\n",
      "The test MSE on the second_diff_rentals data is: 65648.7052\n",
      "The test MSE on the second_diff_airbnb data is: 236242.6547\n"
     ]
    }
   ],
   "source": [
    "# Loop through columns and get MSE for each\n",
    "for i in range(test.shape[1]):\n",
    "    print(f'The test MSE on the {test.columns[i]} data is: {round(mean_squared_error(test.values[:, i], forecast[:, i]), 4)}')"
   ]
  },
  {
   "cell_type": "code",
   "execution_count": 193,
   "id": "1d31c09c-214a-45f4-b710-4273df3f4969",
   "metadata": {},
   "outputs": [
    {
     "name": "stdout",
     "output_type": "stream",
     "text": [
      "The test R2 score on the first_diff_homevalues data is: -27.1815\n",
      "The test R2 score on the second_diff_rentals data is: -441.2388\n",
      "The test R2 score on the second_diff_airbnb data is: -264.254\n"
     ]
    }
   ],
   "source": [
    "# Loop through columns and get R2 for each\n",
    "for i in range(test.shape[1]):\n",
    "    print(f'The test R2 score on the {test.columns[i]} data is: {round(r2_score(test.values[:, i], forecast[:, i]), 4)}')"
   ]
  },
  {
   "cell_type": "code",
   "execution_count": null,
   "id": "5f76057e-abd9-4d15-a234-cff7cc26363e",
   "metadata": {},
   "outputs": [],
   "source": []
  }
 ],
 "metadata": {
  "kernelspec": {
   "display_name": "Python 3 (ipykernel)",
   "language": "python",
   "name": "python3"
  },
  "language_info": {
   "codemirror_mode": {
    "name": "ipython",
    "version": 3
   },
   "file_extension": ".py",
   "mimetype": "text/x-python",
   "name": "python",
   "nbconvert_exporter": "python",
   "pygments_lexer": "ipython3",
   "version": "3.9.12"
  }
 },
 "nbformat": 4,
 "nbformat_minor": 5
}
