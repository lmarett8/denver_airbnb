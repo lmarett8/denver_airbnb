{
 "cells": [
  {
   "cell_type": "code",
   "execution_count": 50,
   "id": "0566daf9-c145-4d1f-adb7-01f9b122ac00",
   "metadata": {},
   "outputs": [],
   "source": [
    "import pandas as pd\n",
    "import matplotlib.pyplot as plt\n",
    "\n",
    "from pandas.tseries.offsets import MonthEnd"
   ]
  },
  {
   "cell_type": "code",
   "execution_count": 2,
   "id": "6043bacd-712f-4089-b98f-47768f0bf808",
   "metadata": {},
   "outputs": [],
   "source": [
    "df = pd.read_csv('../data/airbnb_listings.csv')"
   ]
  },
  {
   "cell_type": "code",
   "execution_count": 3,
   "id": "3c468a26-0ef9-4ddc-a1dc-ed56e3042914",
   "metadata": {},
   "outputs": [
    {
     "data": {
      "text/html": [
       "<div>\n",
       "<style scoped>\n",
       "    .dataframe tbody tr th:only-of-type {\n",
       "        vertical-align: middle;\n",
       "    }\n",
       "\n",
       "    .dataframe tbody tr th {\n",
       "        vertical-align: top;\n",
       "    }\n",
       "\n",
       "    .dataframe thead th {\n",
       "        text-align: right;\n",
       "    }\n",
       "</style>\n",
       "<table border=\"1\" class=\"dataframe\">\n",
       "  <thead>\n",
       "    <tr style=\"text-align: right;\">\n",
       "      <th></th>\n",
       "      <th>id</th>\n",
       "      <th>listing_url</th>\n",
       "      <th>scrape_id</th>\n",
       "      <th>last_scraped</th>\n",
       "      <th>source</th>\n",
       "      <th>name</th>\n",
       "      <th>description</th>\n",
       "      <th>neighborhood_overview</th>\n",
       "      <th>picture_url</th>\n",
       "      <th>host_id</th>\n",
       "      <th>...</th>\n",
       "      <th>review_scores_communication</th>\n",
       "      <th>review_scores_location</th>\n",
       "      <th>review_scores_value</th>\n",
       "      <th>license</th>\n",
       "      <th>instant_bookable</th>\n",
       "      <th>calculated_host_listings_count</th>\n",
       "      <th>calculated_host_listings_count_entire_homes</th>\n",
       "      <th>calculated_host_listings_count_private_rooms</th>\n",
       "      <th>calculated_host_listings_count_shared_rooms</th>\n",
       "      <th>reviews_per_month</th>\n",
       "    </tr>\n",
       "  </thead>\n",
       "  <tbody>\n",
       "    <tr>\n",
       "      <th>0</th>\n",
       "      <td>177</td>\n",
       "      <td>https://www.airbnb.com/rooms/177</td>\n",
       "      <td>20220926045611</td>\n",
       "      <td>2022-09-26</td>\n",
       "      <td>city scrape</td>\n",
       "      <td>Tiny Home in the Heart of the City- ECO FRIENDLY</td>\n",
       "      <td>160 sq ft + 80 sq ft loft for sleeping, Sleeps...</td>\n",
       "      <td>Quiet neighborhood next to park, creeks and bi...</td>\n",
       "      <td>https://a0.muscache.com/pictures/a1745ab2-b3a0...</td>\n",
       "      <td>615</td>\n",
       "      <td>...</td>\n",
       "      <td>4.94</td>\n",
       "      <td>4.85</td>\n",
       "      <td>4.78</td>\n",
       "      <td>2016-BFN-0004968</td>\n",
       "      <td>f</td>\n",
       "      <td>2</td>\n",
       "      <td>2</td>\n",
       "      <td>0</td>\n",
       "      <td>0</td>\n",
       "      <td>1.63</td>\n",
       "    </tr>\n",
       "    <tr>\n",
       "      <th>1</th>\n",
       "      <td>360</td>\n",
       "      <td>https://www.airbnb.com/rooms/360</td>\n",
       "      <td>20220926045611</td>\n",
       "      <td>2022-09-26</td>\n",
       "      <td>city scrape</td>\n",
       "      <td>Sit in the Peaceful Garden of the Chickadee Co...</td>\n",
       "      <td>Enjoy the famous Colorado weather and unplug i...</td>\n",
       "      <td>The cottage is located in the center of Lower ...</td>\n",
       "      <td>https://a0.muscache.com/pictures/monet/Select-...</td>\n",
       "      <td>666</td>\n",
       "      <td>...</td>\n",
       "      <td>5.00</td>\n",
       "      <td>5.00</td>\n",
       "      <td>4.91</td>\n",
       "      <td>2017-BFN-0002177</td>\n",
       "      <td>f</td>\n",
       "      <td>2</td>\n",
       "      <td>2</td>\n",
       "      <td>0</td>\n",
       "      <td>0</td>\n",
       "      <td>3.43</td>\n",
       "    </tr>\n",
       "    <tr>\n",
       "      <th>2</th>\n",
       "      <td>364</td>\n",
       "      <td>https://www.airbnb.com/rooms/364</td>\n",
       "      <td>20220926045611</td>\n",
       "      <td>2022-09-26</td>\n",
       "      <td>city scrape</td>\n",
       "      <td>Lodo / RiNo LOFT  via airport train</td>\n",
       "      <td>Modern 1,000 square foot loft in the heart of ...</td>\n",
       "      <td>Ten brewpubs within walking distance, two grea...</td>\n",
       "      <td>https://a0.muscache.com/pictures/11766413/a2c5...</td>\n",
       "      <td>783</td>\n",
       "      <td>...</td>\n",
       "      <td>4.96</td>\n",
       "      <td>4.65</td>\n",
       "      <td>4.71</td>\n",
       "      <td>NaN</td>\n",
       "      <td>f</td>\n",
       "      <td>1</td>\n",
       "      <td>1</td>\n",
       "      <td>0</td>\n",
       "      <td>0</td>\n",
       "      <td>0.53</td>\n",
       "    </tr>\n",
       "    <tr>\n",
       "      <th>3</th>\n",
       "      <td>590</td>\n",
       "      <td>https://www.airbnb.com/rooms/590</td>\n",
       "      <td>20220926045611</td>\n",
       "      <td>2022-09-26</td>\n",
       "      <td>city scrape</td>\n",
       "      <td>Comfortable  - and a great value!</td>\n",
       "      <td>Large guest room in my home, where I also live...</td>\n",
       "      <td>I love the diversity of my neighborhood and it...</td>\n",
       "      <td>https://a0.muscache.com/pictures/110931/30991c...</td>\n",
       "      <td>933</td>\n",
       "      <td>...</td>\n",
       "      <td>4.95</td>\n",
       "      <td>4.75</td>\n",
       "      <td>4.85</td>\n",
       "      <td>2021-BFN-0000578</td>\n",
       "      <td>f</td>\n",
       "      <td>2</td>\n",
       "      <td>0</td>\n",
       "      <td>2</td>\n",
       "      <td>0</td>\n",
       "      <td>4.08</td>\n",
       "    </tr>\n",
       "    <tr>\n",
       "      <th>4</th>\n",
       "      <td>592</td>\n",
       "      <td>https://www.airbnb.com/rooms/592</td>\n",
       "      <td>20220926045611</td>\n",
       "      <td>2022-09-26</td>\n",
       "      <td>previous scrape</td>\n",
       "      <td>private</td>\n",
       "      <td>This room is in the basement.  It does not hav...</td>\n",
       "      <td>NaN</td>\n",
       "      <td>https://a0.muscache.com/pictures/miso/Hosting-...</td>\n",
       "      <td>933</td>\n",
       "      <td>...</td>\n",
       "      <td>4.94</td>\n",
       "      <td>4.80</td>\n",
       "      <td>4.86</td>\n",
       "      <td>2021-BFN-0000578</td>\n",
       "      <td>f</td>\n",
       "      <td>2</td>\n",
       "      <td>0</td>\n",
       "      <td>2</td>\n",
       "      <td>0</td>\n",
       "      <td>1.01</td>\n",
       "    </tr>\n",
       "  </tbody>\n",
       "</table>\n",
       "<p>5 rows × 75 columns</p>\n",
       "</div>"
      ],
      "text/plain": [
       "    id                       listing_url       scrape_id last_scraped  \\\n",
       "0  177  https://www.airbnb.com/rooms/177  20220926045611   2022-09-26   \n",
       "1  360  https://www.airbnb.com/rooms/360  20220926045611   2022-09-26   \n",
       "2  364  https://www.airbnb.com/rooms/364  20220926045611   2022-09-26   \n",
       "3  590  https://www.airbnb.com/rooms/590  20220926045611   2022-09-26   \n",
       "4  592  https://www.airbnb.com/rooms/592  20220926045611   2022-09-26   \n",
       "\n",
       "            source                                               name  \\\n",
       "0      city scrape   Tiny Home in the Heart of the City- ECO FRIENDLY   \n",
       "1      city scrape  Sit in the Peaceful Garden of the Chickadee Co...   \n",
       "2      city scrape                Lodo / RiNo LOFT  via airport train   \n",
       "3      city scrape                  Comfortable  - and a great value!   \n",
       "4  previous scrape                                            private   \n",
       "\n",
       "                                         description  \\\n",
       "0  160 sq ft + 80 sq ft loft for sleeping, Sleeps...   \n",
       "1  Enjoy the famous Colorado weather and unplug i...   \n",
       "2  Modern 1,000 square foot loft in the heart of ...   \n",
       "3  Large guest room in my home, where I also live...   \n",
       "4  This room is in the basement.  It does not hav...   \n",
       "\n",
       "                               neighborhood_overview  \\\n",
       "0  Quiet neighborhood next to park, creeks and bi...   \n",
       "1  The cottage is located in the center of Lower ...   \n",
       "2  Ten brewpubs within walking distance, two grea...   \n",
       "3  I love the diversity of my neighborhood and it...   \n",
       "4                                                NaN   \n",
       "\n",
       "                                         picture_url  host_id  ...  \\\n",
       "0  https://a0.muscache.com/pictures/a1745ab2-b3a0...      615  ...   \n",
       "1  https://a0.muscache.com/pictures/monet/Select-...      666  ...   \n",
       "2  https://a0.muscache.com/pictures/11766413/a2c5...      783  ...   \n",
       "3  https://a0.muscache.com/pictures/110931/30991c...      933  ...   \n",
       "4  https://a0.muscache.com/pictures/miso/Hosting-...      933  ...   \n",
       "\n",
       "  review_scores_communication review_scores_location review_scores_value  \\\n",
       "0                        4.94                   4.85                4.78   \n",
       "1                        5.00                   5.00                4.91   \n",
       "2                        4.96                   4.65                4.71   \n",
       "3                        4.95                   4.75                4.85   \n",
       "4                        4.94                   4.80                4.86   \n",
       "\n",
       "            license instant_bookable calculated_host_listings_count  \\\n",
       "0  2016-BFN-0004968                f                              2   \n",
       "1  2017-BFN-0002177                f                              2   \n",
       "2               NaN                f                              1   \n",
       "3  2021-BFN-0000578                f                              2   \n",
       "4  2021-BFN-0000578                f                              2   \n",
       "\n",
       "  calculated_host_listings_count_entire_homes  \\\n",
       "0                                           2   \n",
       "1                                           2   \n",
       "2                                           1   \n",
       "3                                           0   \n",
       "4                                           0   \n",
       "\n",
       "  calculated_host_listings_count_private_rooms  \\\n",
       "0                                            0   \n",
       "1                                            0   \n",
       "2                                            0   \n",
       "3                                            2   \n",
       "4                                            2   \n",
       "\n",
       "  calculated_host_listings_count_shared_rooms reviews_per_month  \n",
       "0                                           0              1.63  \n",
       "1                                           0              3.43  \n",
       "2                                           0              0.53  \n",
       "3                                           0              4.08  \n",
       "4                                           0              1.01  \n",
       "\n",
       "[5 rows x 75 columns]"
      ]
     },
     "execution_count": 3,
     "metadata": {},
     "output_type": "execute_result"
    }
   ],
   "source": [
    "df.head()"
   ]
  },
  {
   "cell_type": "code",
   "execution_count": 4,
   "id": "1e0d862c-bc55-4fd3-b332-799c56421bde",
   "metadata": {},
   "outputs": [
    {
     "data": {
      "text/plain": [
       "(5836, 75)"
      ]
     },
     "execution_count": 4,
     "metadata": {},
     "output_type": "execute_result"
    }
   ],
   "source": [
    "df.shape"
   ]
  },
  {
   "cell_type": "code",
   "execution_count": 5,
   "id": "de67e1db-14ae-42de-ab31-84bc719f5da1",
   "metadata": {},
   "outputs": [
    {
     "name": "stdout",
     "output_type": "stream",
     "text": [
      "<class 'pandas.core.frame.DataFrame'>\n",
      "RangeIndex: 5836 entries, 0 to 5835\n",
      "Data columns (total 75 columns):\n",
      " #   Column                                        Non-Null Count  Dtype  \n",
      "---  ------                                        --------------  -----  \n",
      " 0   id                                            5836 non-null   int64  \n",
      " 1   listing_url                                   5836 non-null   object \n",
      " 2   scrape_id                                     5836 non-null   int64  \n",
      " 3   last_scraped                                  5836 non-null   object \n",
      " 4   source                                        5836 non-null   object \n",
      " 5   name                                          5836 non-null   object \n",
      " 6   description                                   5808 non-null   object \n",
      " 7   neighborhood_overview                         4181 non-null   object \n",
      " 8   picture_url                                   5836 non-null   object \n",
      " 9   host_id                                       5836 non-null   int64  \n",
      " 10  host_url                                      5836 non-null   object \n",
      " 11  host_name                                     5836 non-null   object \n",
      " 12  host_since                                    5836 non-null   object \n",
      " 13  host_location                                 5017 non-null   object \n",
      " 14  host_about                                    3599 non-null   object \n",
      " 15  host_response_time                            5179 non-null   object \n",
      " 16  host_response_rate                            5179 non-null   object \n",
      " 17  host_acceptance_rate                          5428 non-null   object \n",
      " 18  host_is_superhost                             5834 non-null   object \n",
      " 19  host_thumbnail_url                            5836 non-null   object \n",
      " 20  host_picture_url                              5836 non-null   object \n",
      " 21  host_neighbourhood                            5075 non-null   object \n",
      " 22  host_listings_count                           5836 non-null   int64  \n",
      " 23  host_total_listings_count                     5836 non-null   int64  \n",
      " 24  host_verifications                            5836 non-null   object \n",
      " 25  host_has_profile_pic                          5836 non-null   object \n",
      " 26  host_identity_verified                        5836 non-null   object \n",
      " 27  neighbourhood                                 4181 non-null   object \n",
      " 28  neighbourhood_cleansed                        5836 non-null   object \n",
      " 29  neighbourhood_group_cleansed                  0 non-null      float64\n",
      " 30  latitude                                      5836 non-null   float64\n",
      " 31  longitude                                     5836 non-null   float64\n",
      " 32  property_type                                 5836 non-null   object \n",
      " 33  room_type                                     5836 non-null   object \n",
      " 34  accommodates                                  5836 non-null   int64  \n",
      " 35  bathrooms                                     0 non-null      float64\n",
      " 36  bathrooms_text                                5830 non-null   object \n",
      " 37  bedrooms                                      5529 non-null   float64\n",
      " 38  beds                                          5792 non-null   float64\n",
      " 39  amenities                                     5836 non-null   object \n",
      " 40  price                                         5836 non-null   object \n",
      " 41  minimum_nights                                5836 non-null   int64  \n",
      " 42  maximum_nights                                5836 non-null   int64  \n",
      " 43  minimum_minimum_nights                        5835 non-null   float64\n",
      " 44  maximum_minimum_nights                        5835 non-null   float64\n",
      " 45  minimum_maximum_nights                        5835 non-null   float64\n",
      " 46  maximum_maximum_nights                        5835 non-null   float64\n",
      " 47  minimum_nights_avg_ntm                        5835 non-null   float64\n",
      " 48  maximum_nights_avg_ntm                        5835 non-null   float64\n",
      " 49  calendar_updated                              0 non-null      float64\n",
      " 50  has_availability                              5836 non-null   object \n",
      " 51  availability_30                               5836 non-null   int64  \n",
      " 52  availability_60                               5836 non-null   int64  \n",
      " 53  availability_90                               5836 non-null   int64  \n",
      " 54  availability_365                              5836 non-null   int64  \n",
      " 55  calendar_last_scraped                         5836 non-null   object \n",
      " 56  number_of_reviews                             5836 non-null   int64  \n",
      " 57  number_of_reviews_ltm                         5836 non-null   int64  \n",
      " 58  number_of_reviews_l30d                        5836 non-null   int64  \n",
      " 59  first_review                                  4974 non-null   object \n",
      " 60  last_review                                   4974 non-null   object \n",
      " 61  review_scores_rating                          4974 non-null   float64\n",
      " 62  review_scores_accuracy                        4969 non-null   float64\n",
      " 63  review_scores_cleanliness                     4969 non-null   float64\n",
      " 64  review_scores_checkin                         4969 non-null   float64\n",
      " 65  review_scores_communication                   4969 non-null   float64\n",
      " 66  review_scores_location                        4969 non-null   float64\n",
      " 67  review_scores_value                           4969 non-null   float64\n",
      " 68  license                                       3290 non-null   object \n",
      " 69  instant_bookable                              5836 non-null   object \n",
      " 70  calculated_host_listings_count                5836 non-null   int64  \n",
      " 71  calculated_host_listings_count_entire_homes   5836 non-null   int64  \n",
      " 72  calculated_host_listings_count_private_rooms  5836 non-null   int64  \n",
      " 73  calculated_host_listings_count_shared_rooms   5836 non-null   int64  \n",
      " 74  reviews_per_month                             4974 non-null   float64\n",
      "dtypes: float64(21), int64(19), object(35)\n",
      "memory usage: 3.3+ MB\n"
     ]
    }
   ],
   "source": [
    "df.info()"
   ]
  },
  {
   "cell_type": "code",
   "execution_count": 14,
   "id": "4811e8ab-d69c-4d6d-b36d-14fa5199c7db",
   "metadata": {},
   "outputs": [
    {
     "data": {
      "image/png": "[encoded data removed]",
      "text/plain": [
       "<Figure size 1296x720 with 1 Axes>"
      ]
     },
     "metadata": {
      "needs_background": "light"
     },
     "output_type": "display_data"
    }
   ],
   "source": [
    "plt.figure(figsize = (18, 10))\n",
    "plt.scatter(x = df['longitude'], y = df['latitude'])\n",
    "\n",
    "plt.show();"
   ]
  },
  {
   "cell_type": "code",
   "execution_count": 62,
   "id": "07a75a43-53e8-4b33-b057-df63450f221d",
   "metadata": {},
   "outputs": [],
   "source": [
    "dates = df[['host_since', 'first_review']]"
   ]
  },
  {
   "cell_type": "code",
   "execution_count": 63,
   "id": "aaadfb06-54ea-45da-b95e-4aaabe8d3e57",
   "metadata": {},
   "outputs": [
    {
     "data": {
      "text/plain": [
       "host_since        0\n",
       "first_review    862\n",
       "dtype: int64"
      ]
     },
     "execution_count": 63,
     "metadata": {},
     "output_type": "execute_result"
    }
   ],
   "source": [
    "dates.isnull().sum()"
   ]
  },
  {
   "cell_type": "code",
   "execution_count": 64,
   "id": "7c51ce18-eba7-409b-b5f5-0e4c0b0bd59b",
   "metadata": {},
   "outputs": [
    {
     "name": "stderr",
     "output_type": "stream",
     "text": [
      "/var/folders/lz/08gb56690psggb6cznf0xhwh0000gn/T/ipykernel_98587/3702995051.py:2: SettingWithCopyWarning: \n",
      "A value is trying to be set on a copy of a slice from a DataFrame.\n",
      "Try using .loc[row_indexer,col_indexer] = value instead\n",
      "\n",
      "See the caveats in the documentation: https://pandas.pydata.org/pandas-docs/stable/user_guide/indexing.html#returning-a-view-versus-a-copy\n",
      "  dates['date'] = dates['first_review'].fillna(dates['host_since'])\n"
     ]
    }
   ],
   "source": [
    "# Creating a new date column based on the first_review date, populating it with the host_since date if null\n",
    "dates['date'] = dates['first_review'].fillna(dates['host_since'])"
   ]
  },
  {
   "cell_type": "code",
   "execution_count": 65,
   "id": "cac73306-74c2-4a6a-85e7-149e0d5fe332",
   "metadata": {},
   "outputs": [
    {
     "name": "stderr",
     "output_type": "stream",
     "text": [
      "/var/folders/lz/08gb56690psggb6cznf0xhwh0000gn/T/ipykernel_98587/17824320.py:1: SettingWithCopyWarning: \n",
      "A value is trying to be set on a copy of a slice from a DataFrame\n",
      "\n",
      "See the caveats in the documentation: https://pandas.pydata.org/pandas-docs/stable/user_guide/indexing.html#returning-a-view-versus-a-copy\n",
      "  dates.drop(columns = ['host_since', 'first_review'], inplace = True)\n"
     ]
    }
   ],
   "source": [
    "dates.drop(columns = ['host_since', 'first_review'], inplace = True)"
   ]
  },
  {
   "cell_type": "code",
   "execution_count": 66,
   "id": "ec4dc897-b14c-4c42-aec2-ac09154e2e8e",
   "metadata": {},
   "outputs": [
    {
     "name": "stderr",
     "output_type": "stream",
     "text": [
      "/var/folders/lz/08gb56690psggb6cznf0xhwh0000gn/T/ipykernel_98587/208540710.py:3: SettingWithCopyWarning: \n",
      "A value is trying to be set on a copy of a slice from a DataFrame.\n",
      "Try using .loc[row_indexer,col_indexer] = value instead\n",
      "\n",
      "See the caveats in the documentation: https://pandas.pydata.org/pandas-docs/stable/user_guide/indexing.html#returning-a-view-versus-a-copy\n",
      "  dates['date'] = pd.to_datetime(dates['date']) + MonthEnd(0)\n"
     ]
    }
   ],
   "source": [
    "# Convert dates to end of month to match zillow data\n",
    "## Source:  https://stackoverflow.com/questions/37354105/find-the-end-of-the-month-of-a-pandas-dataframe-series\n",
    "dates['date'] = pd.to_datetime(dates['date']) + MonthEnd(0)"
   ]
  },
  {
   "cell_type": "code",
   "execution_count": 70,
   "id": "d733345c-7040-417d-8b1f-a278470dc911",
   "metadata": {},
   "outputs": [
    {
     "name": "stderr",
     "output_type": "stream",
     "text": [
      "/var/folders/lz/08gb56690psggb6cznf0xhwh0000gn/T/ipykernel_98587/4032149446.py:1: SettingWithCopyWarning: \n",
      "A value is trying to be set on a copy of a slice from a DataFrame\n",
      "\n",
      "See the caveats in the documentation: https://pandas.pydata.org/pandas-docs/stable/user_guide/indexing.html#returning-a-view-versus-a-copy\n",
      "  dates.sort_values('date', inplace = True)\n"
     ]
    }
   ],
   "source": [
    "dates.sort_values('date', inplace = True)"
   ]
  },
  {
   "cell_type": "code",
   "execution_count": 83,
   "id": "1b5c82e2-5f95-4b27-b88e-e528829b5f4e",
   "metadata": {},
   "outputs": [],
   "source": [
    "airbnb_pivot = dates.groupby(['date']).size().to_frame('listings_added')"
   ]
  },
  {
   "cell_type": "code",
   "execution_count": 84,
   "id": "4e5034a9-9910-4f5a-a272-0701d27a22ee",
   "metadata": {},
   "outputs": [
    {
     "data": {
      "text/html": [
       "<div>\n",
       "<style scoped>\n",
       "    .dataframe tbody tr th:only-of-type {\n",
       "        vertical-align: middle;\n",
       "    }\n",
       "\n",
       "    .dataframe tbody tr th {\n",
       "        vertical-align: top;\n",
       "    }\n",
       "\n",
       "    .dataframe thead th {\n",
       "        text-align: right;\n",
       "    }\n",
       "</style>\n",
       "<table border=\"1\" class=\"dataframe\">\n",
       "  <thead>\n",
       "    <tr style=\"text-align: right;\">\n",
       "      <th></th>\n",
       "      <th>listings_added</th>\n",
       "      <th>total_listings</th>\n",
       "    </tr>\n",
       "    <tr>\n",
       "      <th>date</th>\n",
       "      <th></th>\n",
       "      <th></th>\n",
       "    </tr>\n",
       "  </thead>\n",
       "  <tbody>\n",
       "    <tr>\n",
       "      <th>2009-02-28</th>\n",
       "      <td>1</td>\n",
       "      <td>1</td>\n",
       "    </tr>\n",
       "    <tr>\n",
       "      <th>2009-03-31</th>\n",
       "      <td>2</td>\n",
       "      <td>3</td>\n",
       "    </tr>\n",
       "    <tr>\n",
       "      <th>2009-05-31</th>\n",
       "      <td>1</td>\n",
       "      <td>4</td>\n",
       "    </tr>\n",
       "    <tr>\n",
       "      <th>2010-02-28</th>\n",
       "      <td>1</td>\n",
       "      <td>5</td>\n",
       "    </tr>\n",
       "    <tr>\n",
       "      <th>2010-04-30</th>\n",
       "      <td>1</td>\n",
       "      <td>6</td>\n",
       "    </tr>\n",
       "    <tr>\n",
       "      <th>...</th>\n",
       "      <td>...</td>\n",
       "      <td>...</td>\n",
       "    </tr>\n",
       "    <tr>\n",
       "      <th>2022-05-31</th>\n",
       "      <td>213</td>\n",
       "      <td>5000</td>\n",
       "    </tr>\n",
       "    <tr>\n",
       "      <th>2022-06-30</th>\n",
       "      <td>183</td>\n",
       "      <td>5183</td>\n",
       "    </tr>\n",
       "    <tr>\n",
       "      <th>2022-07-31</th>\n",
       "      <td>254</td>\n",
       "      <td>5437</td>\n",
       "    </tr>\n",
       "    <tr>\n",
       "      <th>2022-08-31</th>\n",
       "      <td>244</td>\n",
       "      <td>5681</td>\n",
       "    </tr>\n",
       "    <tr>\n",
       "      <th>2022-09-30</th>\n",
       "      <td>155</td>\n",
       "      <td>5836</td>\n",
       "    </tr>\n",
       "  </tbody>\n",
       "</table>\n",
       "<p>142 rows × 2 columns</p>\n",
       "</div>"
      ],
      "text/plain": [
       "            listings_added  total_listings\n",
       "date                                      \n",
       "2009-02-28               1               1\n",
       "2009-03-31               2               3\n",
       "2009-05-31               1               4\n",
       "2010-02-28               1               5\n",
       "2010-04-30               1               6\n",
       "...                    ...             ...\n",
       "2022-05-31             213            5000\n",
       "2022-06-30             183            5183\n",
       "2022-07-31             254            5437\n",
       "2022-08-31             244            5681\n",
       "2022-09-30             155            5836\n",
       "\n",
       "[142 rows x 2 columns]"
      ]
     },
     "execution_count": 84,
     "metadata": {},
     "output_type": "execute_result"
    }
   ],
   "source": [
    "airbnb_pivot['total_listings'] = airbnb_pivot.cumsum()\n",
    "airbnb_pivot"
   ]
  },
  {
   "cell_type": "code",
   "execution_count": 87,
   "id": "f246042c-96fb-4dcc-bc51-d33b84dfdebe",
   "metadata": {},
   "outputs": [],
   "source": [
    "airbnb_pivot[['total_listings']].to_csv('../data/airbnb_pivot.csv')"
   ]
  },
  {
   "cell_type": "code",
   "execution_count": 89,
   "id": "d106d70c-2db4-4a8e-8b51-70be7dd98c39",
   "metadata": {},
   "outputs": [
    {
     "data": {
      "image/png": "[encoded data removed]",
      "text/plain": [
       "<Figure size 432x288 with 1 Axes>"
      ]
     },
     "metadata": {
      "needs_background": "light"
     },
     "output_type": "display_data"
    }
   ],
   "source": [
    "airbnb_pivot['total_listings'].plot();"
   ]
  },
  {
   "cell_type": "code",
   "execution_count": null,
   "id": "14d9eae0-3a0c-4093-b0db-c89c654baee3",
   "metadata": {},
   "outputs": [],
   "source": []
  }
 ],
 "metadata": {
  "kernelspec": {
   "display_name": "Python 3 (ipykernel)",
   "language": "python",
   "name": "python3"
  },
  "language_info": {
   "codemirror_mode": {
    "name": "ipython",
    "version": 3
   },
   "file_extension": ".py",
   "mimetype": "text/x-python",
   "name": "python",
   "nbconvert_exporter": "python",
   "pygments_lexer": "ipython3",
   "version": "3.9.12"
  }
 },
 "nbformat": 4,
 "nbformat_minor": 5
}
