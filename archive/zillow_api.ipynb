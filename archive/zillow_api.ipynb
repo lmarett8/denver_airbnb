{
 "cells": [
  {
   "cell_type": "code",
   "execution_count": null,
   "id": "6b52c78d-4877-4341-9083-b34476924aa0",
   "metadata": {},
   "outputs": [],
   "source": [
    "# pip install python-decouple"
   ]
  },
  {
   "cell_type": "code",
   "execution_count": null,
   "id": "d883ae45-ee55-4a8c-82fc-baf7989ba74d",
   "metadata": {},
   "outputs": [],
   "source": [
    "# pip install nasdaq-data-link"
   ]
  },
  {
   "cell_type": "code",
   "execution_count": 190,
   "id": "7757204b-0e8e-4199-b1ef-89f5860f7249",
   "metadata": {},
   "outputs": [],
   "source": [
    "import nasdaqdatalink\n",
    "import pandas as pd"
   ]
  },
  {
   "cell_type": "markdown",
   "id": "5fa8a4e8-2fd3-4e26-8823-caddd9b93870",
   "metadata": {},
   "source": [
    "## Using the API"
   ]
  },
  {
   "cell_type": "code",
   "execution_count": null,
   "id": "ebb0408d-e1ce-4337-863a-5deed977dc94",
   "metadata": {},
   "outputs": [],
   "source": [
    "nasdaqdatalink.ApiConfig.api_key = 'HIDDEN'"
   ]
  },
  {
   "cell_type": "code",
   "execution_count": null,
   "id": "d3715a94-f66d-455d-b831-0d94485c46e8",
   "metadata": {},
   "outputs": [],
   "source": [
    "dir(nasdaqdatalink)"
   ]
  },
  {
   "cell_type": "code",
   "execution_count": null,
   "id": "5616b8d8-af01-44cb-80f0-8e17f1438ed0",
   "metadata": {},
   "outputs": [],
   "source": [
    "db = nasdaqdatalink.Database(\"ZILLOW\")"
   ]
  },
  {
   "cell_type": "code",
   "execution_count": null,
   "id": "7040cd2a-42bc-471f-b27c-656acc86d737",
   "metadata": {},
   "outputs": [],
   "source": [
    "db.data_fields()"
   ]
  },
  {
   "cell_type": "code",
   "execution_count": null,
   "id": "d1b997c8-0e59-4949-a087-9a196d54d9ac",
   "metadata": {},
   "outputs": [],
   "source": [
    "dir(db)"
   ]
  },
  {
   "cell_type": "code",
   "execution_count": null,
   "id": "85dc09e9-2972-4bc1-85d6-af2a6da5ab6d",
   "metadata": {},
   "outputs": [],
   "source": [
    "db.to_list()"
   ]
  },
  {
   "cell_type": "code",
   "execution_count": null,
   "id": "db41503a-492c-4a5d-b13a-bcc4e649fda9",
   "metadata": {},
   "outputs": [],
   "source": [
    "ds = db.datasets()"
   ]
  },
  {
   "cell_type": "code",
   "execution_count": null,
   "id": "1087c20e-f90e-4157-95e5-341db1293968",
   "metadata": {},
   "outputs": [],
   "source": [
    "dir(ds)"
   ]
  },
  {
   "cell_type": "code",
   "execution_count": null,
   "id": "3403b095-6387-466f-9d20-04230c21c85e",
   "metadata": {
    "scrolled": true,
    "tags": []
   },
   "outputs": [],
   "source": [
    "pd.DataFrame(ds.to_list())"
   ]
  },
  {
   "cell_type": "code",
   "execution_count": 1,
   "id": "5f76057e-abd9-4d15-a234-cff7cc26363e",
   "metadata": {},
   "outputs": [],
   "source": [
    "# I struggled getting the data I wanted through the Zillow API. Most of the code that wasn't working was removed,\n",
    "# but I wanted to keep some of the code as a reference. Instead please see the notebook 02_zillow_eda_modeling for this data."
   ]
  },
  {
   "cell_type": "code",
   "execution_count": null,
   "id": "87c0807a-ffc0-4b5e-a9b0-00aeea05325d",
   "metadata": {},
   "outputs": [],
   "source": []
  }
 ],
 "metadata": {
  "kernelspec": {
   "display_name": "Python 3 (ipykernel)",
   "language": "python",
   "name": "python3"
  },
  "language_info": {
   "codemirror_mode": {
    "name": "ipython",
    "version": 3
   },
   "file_extension": ".py",
   "mimetype": "text/x-python",
   "name": "python",
   "nbconvert_exporter": "python",
   "pygments_lexer": "ipython3",
   "version": "3.9.12"
  }
 },
 "nbformat": 4,
 "nbformat_minor": 5
}
